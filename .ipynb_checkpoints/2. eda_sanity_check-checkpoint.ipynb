{
 "cells": [
  {
   "cell_type": "markdown",
   "metadata": {},
   "source": [
    "## Load Dataset"
   ]
  },
  {
   "cell_type": "code",
   "execution_count": 1,
   "metadata": {},
   "outputs": [],
   "source": [
    "import pickle"
   ]
  },
  {
   "cell_type": "code",
   "execution_count": 2,
   "metadata": {},
   "outputs": [],
   "source": [
    "def load_obj(name ):\n",
    "    with open('data/' + name + '.pkl', 'rb') as f:\n",
    "        return pickle.load(f)"
   ]
  },
  {
   "cell_type": "code",
   "execution_count": 3,
   "metadata": {},
   "outputs": [],
   "source": [
    "d = load_obj(\"council_minutes_dict\")"
   ]
  },
  {
   "cell_type": "markdown",
   "metadata": {},
   "source": [
    "## Pre-processing"
   ]
  },
  {
   "cell_type": "code",
   "execution_count": 6,
   "metadata": {},
   "outputs": [],
   "source": [
    "import re"
   ]
  },
  {
   "cell_type": "code",
   "execution_count": 7,
   "metadata": {},
   "outputs": [],
   "source": [
    "def clean_text(text):\n",
    "    text = text.decode(\"UTF-8\")\n",
    "    text = text.replace('\\n',\" \")\n",
    "    text = text.replace('\\x0c',\" \")\n",
    "    text = re.sub(r\"-\", \" \", text) # Split the words with \"-\" (for example：pre-processing ==> pre processing）\n",
    "    text = re.sub(r\"\\d+/\\d+/\\d+\", \"\", text) # Take out the dates\n",
    "    text = re.sub(r\"[0-2]?[0-9]:[0-6][0-9]\", \"\", text) # Take out the time\n",
    "    text = re.sub(r\"[\\w]+@[\\.\\w]+\", \"\", text) # Take out the emails\n",
    "    text = re.sub(r\"/[a-zA-Z]*[:\\//\\]*[A-Za-z0-9\\-_]+\\.+[A-Za-z0-9\\.\\/%&=\\?\\-_]+/i\", \"\", text) # Take out the websites\n",
    "    pure_text = ''\n",
    "    # Validate to check if there are any non-text content \n",
    "    for letter in text:\n",
    "        # Keep only letters and spaces\n",
    "        if letter.isalpha() or letter==' ':\n",
    "            pure_text += letter\n",
    "    # Join the words are not stand-alone letters\n",
    "    text = ' '.join(word for word in pure_text.split() if len(word)>1)\n",
    "    return text"
   ]
  },
  {
   "cell_type": "code",
   "execution_count": 16,
   "metadata": {},
   "outputs": [],
   "source": [
    "# stop_words = ENGLISH_STOP_WORDS.union(word for word in ['docx','fyi','fw','get','see','ok','pm','whose','would','pls','thx','yes','print','okay','pis'])"
   ]
  },
  {
   "cell_type": "code",
   "execution_count": 8,
   "metadata": {},
   "outputs": [],
   "source": [
    "text = clean_text(d['10'])"
   ]
  },
  {
   "cell_type": "markdown",
   "metadata": {},
   "source": [
    "## Lemmatization"
   ]
  },
  {
   "cell_type": "code",
   "execution_count": 9,
   "metadata": {},
   "outputs": [],
   "source": [
    "import spacy\n",
    "import string\n",
    "# Create our list of punctuation marks\n",
    "punctuations = string.punctuation\n",
    "# Load English tokenizer, tagger, parser, NER and word vectors\n",
    "parser = spacy.load('en_core_web_sm')\n",
    "# Create our list of stopwords\n",
    "stop_words = spacy.lang.en.stop_words.STOP_WORDS\n",
    "# Creating our tokenizer function\n",
    "def spacy_tokenizer(sentence):\n",
    "    # Creating our token object, which is used to create documents with linguistic annotations.\n",
    "    mytokens = parser(sentence)\n",
    "    # Lemmatizing each token and converting each token into lowercase\n",
    "    mytokens = [ word.lemma_.lower().strip() if word.lemma_ != \"-PRON-\" else word.lower_ for word in mytokens ]\n",
    "    # Removing stop words\n",
    "    mytokens = [ word for word in mytokens if word not in stop_words and word not in punctuations ]\n",
    "    # return preprocessed list of tokens\n",
    "    return ' '.join(mytokens)"
   ]
  },
  {
   "cell_type": "code",
   "execution_count": 10,
   "metadata": {},
   "outputs": [],
   "source": [
    "text = spacy_tokenizer(text)"
   ]
  },
  {
   "cell_type": "markdown",
   "metadata": {},
   "source": [
    "## Steminization"
   ]
  },
  {
   "cell_type": "code",
   "execution_count": 12,
   "metadata": {},
   "outputs": [],
   "source": [
    "import nltk\n",
    "from nltk.stem.porter import PorterStemmer\n",
    "\n",
    "def nltk_stemmer(text):\n",
    "    porter_stemmer = PorterStemmer()\n",
    "    word_data = text\n",
    "    # First Word tokenization\n",
    "    nltk_tokens = nltk.word_tokenize(word_data)\n",
    "    #Next find the roots of the word\n",
    "    t = []\n",
    "    for w in nltk_tokens:       \n",
    "        t.append(porter_stemmer.stem(w))\n",
    "    return t"
   ]
  },
  {
   "cell_type": "code",
   "execution_count": 14,
   "metadata": {},
   "outputs": [],
   "source": [
    "text = nltk_stemmer(text)"
   ]
  },
  {
   "cell_type": "markdown",
   "metadata": {},
   "source": [
    "## TF-IDF"
   ]
  },
  {
   "cell_type": "code",
   "execution_count": 15,
   "metadata": {},
   "outputs": [],
   "source": [
    "from sklearn.feature_extraction.text import CountVectorizer, TfidfVectorizer, ENGLISH_STOP_WORDS"
   ]
  },
  {
   "cell_type": "code",
   "execution_count": 77,
   "metadata": {},
   "outputs": [],
   "source": [
    "# text = [text]"
   ]
  },
  {
   "cell_type": "code",
   "execution_count": 16,
   "metadata": {},
   "outputs": [],
   "source": [
    "tfidf_vectorizer = TfidfVectorizer(stop_words=ENGLISH_STOP_WORDS)\n",
    "\n",
    "word_matrix = tfidf_vectorizer.fit_transform(text)\n",
    "\n",
    "vocab = tfidf_vectorizer.get_feature_names()"
   ]
  },
  {
   "cell_type": "markdown",
   "metadata": {},
   "source": [
    "## LDA"
   ]
  },
  {
   "cell_type": "code",
   "execution_count": 19,
   "metadata": {},
   "outputs": [],
   "source": [
    "from sklearn.decomposition import LatentDirichletAllocation\n",
    "import pyLDAvis\n",
    "import pyLDAvis.sklearn\n",
    "pyLDAvis.enable_notebook()"
   ]
  },
  {
   "cell_type": "code",
   "execution_count": 23,
   "metadata": {},
   "outputs": [
    {
     "name": "stderr",
     "output_type": "stream",
     "text": [
      "/opt/anaconda3/envs/metis/lib/python3.8/site-packages/ipykernel/ipkernel.py:287: DeprecationWarning: `should_run_async` will not call `transform_cell` automatically in the future. Please pass the result to `transformed_cell` argument and any exception that happen during thetransform in `preprocessing_exc_tuple` in IPython 7.17 and above.\n",
      "  and should_run_async(code)\n"
     ]
    },
    {
     "data": {
      "text/plain": [
       "LatentDirichletAllocation(n_components=5, random_state=0)"
      ]
     },
     "execution_count": 23,
     "metadata": {},
     "output_type": "execute_result"
    }
   ],
   "source": [
    "lda_tfidf = LatentDirichletAllocation(n_components=5, random_state=0)\n",
    "lda_tfidf.fit(word_matrix)"
   ]
  },
  {
   "cell_type": "code",
   "execution_count": 24,
   "metadata": {},
   "outputs": [
    {
     "name": "stderr",
     "output_type": "stream",
     "text": [
      "/opt/anaconda3/envs/metis/lib/python3.8/site-packages/ipykernel/ipkernel.py:287: DeprecationWarning: `should_run_async` will not call `transform_cell` automatically in the future. Please pass the result to `transformed_cell` argument and any exception that happen during thetransform in `preprocessing_exc_tuple` in IPython 7.17 and above.\n",
      "  and should_run_async(code)\n"
     ]
    },
    {
     "data": {
      "text/html": [
       "\n",
       "<link rel=\"stylesheet\" type=\"text/css\" href=\"https://cdn.rawgit.com/bmabey/pyLDAvis/files/ldavis.v1.0.0.css\">\n",
       "\n",
       "\n",
       "<div id=\"ldavis_el625521403382020402405770912992\"></div>\n",
       "<script type=\"text/javascript\">\n",
       "\n",
       "var ldavis_el625521403382020402405770912992_data = {\"mdsDat\": {\"x\": [0.29784023494203604, -0.19193635241328427, -0.0334257486589125, -0.0437587391466854, -0.02871939472315435], \"y\": [0.1142659261724138, 0.24791460671559187, -0.10369374708829525, -0.1769498583970399, -0.08153692740267067], \"topics\": [1, 2, 3, 4, 5], \"cluster\": [1, 1, 1, 1, 1], \"Freq\": [21.171612934909007, 20.702367182649645, 19.673003807257068, 19.521690153623545, 18.931325921560735]}, \"tinfo\": {\"Term\": [\"citi\", \"san\", \"item\", \"project\", \"approv\", \"ceqa\", \"jos\\u00e9\", \"report\", \"action\", \"plan\", \"council\", \"amend\", \"resolut\", \"march\", \"district\", \"pp\", \"adopt\", \"file\", \"councilmemb\", \"servic\", \"agreement\", \"manag\", \"order\", \"committe\", \"chang\", \"meet\", \"relat\", \"ordin\", \"public\", \"accept\", \"citi\", \"approv\", \"plan\", \"resolut\", \"adopt\", \"relat\", \"street\", \"staff\", \"second\", \"support\", \"renumber\", \"present\", \"contract\", \"airport\", \"section\", \"approxim\", \"director\", \"drop\", \"annual\", \"regard\", \"build\", \"consult\", \"govern\", \"statu\", \"depart\", \"minut\", \"improv\", \"need\", \"industri\", \"eir\", \"item\", \"jos\\u00e9\", \"action\", \"amend\", \"councilmemb\", \"servic\", \"manag\", \"ordin\", \"public\", \"accept\", \"page\", \"defer\", \"mayor\", \"construct\", \"appropri\", \"master\", \"unanim\", \"concret\", \"local\", \"easement\", \"covid\", \"assess\", \"arena\", \"act\", \"jone\", \"facil\", \"pass\", \"use\", \"certain\", \"final\", \"file\", \"agreement\", \"committe\", \"meet\", \"recommend\", \"hous\", \"execut\", \"fund\", \"emerg\", \"open\", \"water\", \"referr\", \"esparza\", \"maya\", \"day\", \"environment\", \"homeless\", \"rezon\", \"peralez\", \"sch\", \"special\", \"enforc\", \"compens\", \"develop\", \"negoti\", \"sponsor\", \"year\", \"program\", \"polic\", \"determin\", \"llc\", \"san\", \"project\", \"ceqa\", \"march\", \"district\", \"environ\", \"motion\", \"author\", \"provid\", \"inform\", \"carri\", \"north\", \"impact\", \"technolog\", \"real\", \"new\", \"area\", \"commun\", \"land\", \"conting\", \"categor\", \"question\", \"award\", \"consist\", \"intergovernment\", \"document\", \"jose\", \"resid\", \"memorandum\", \"sam\", \"incorpor\", \"conserv\", \"report\", \"council\", \"pp\", \"order\", \"chang\", \"physic\", \"result\", \"rule\", \"avenu\", \"busi\", \"properti\", \"code\", \"event\", \"gener\", \"zone\", \"state\", \"exempt\", \"consent\", \"strateg\", \"administr\", \"guidelin\", \"raul\", \"aa\", \"locat\", \"governor\", \"major\", \"great\", \"cp\", \"exist\", \"asphalt\", \"west\"], \"Freq\": [87.0, 46.0, 40.0, 37.0, 37.0, 35.0, 36.0, 30.0, 32.0, 32.0, 27.0, 28.0, 27.0, 25.0, 25.0, 23.0, 24.0, 23.0, 23.0, 22.0, 21.0, 20.0, 18.0, 19.0, 16.0, 16.0, 16.0, 16.0, 16.0, 16.0, 86.95463030872577, 36.78842628062699, 32.010692486920945, 27.23295865028869, 24.047802722565134, 16.08491264581835, 14.492334546762725, 12.899756395154956, 12.103467293020346, 11.307178168268571, 10.510889015582043, 9.714599827912666, 8.918310595685968, 8.918310595666464, 8.91831059565425, 8.918310595648894, 8.918310595625242, 8.122021305189365, 8.122021305127006, 7.325731936793705, 7.325731936787366, 5.733152830014723, 5.733152830014713, 5.73315283001471, 5.733152830014658, 5.733152830014654, 4.936862965391987, 4.936862965391981, 4.9368629653919776, 4.936862965391963, 39.710674619821916, 35.67502475384881, 31.639374866394444, 27.603724947939746, 22.760944981356854, 21.953814977034583, 19.53242494001491, 15.496774759799582, 15.496774759793302, 15.496774759792697, 14.689644697015638, 12.268254422756113, 11.461124292358322, 10.653994134920275, 9.846863943561134, 9.846863943554402, 9.03973370889469, 8.232603417904706, 6.618342580365576, 6.618342580284366, 6.618342580243835, 6.618342580239297, 5.811211959315642, 5.811211959254919, 5.004081111568334, 5.004081111568331, 5.004081111568322, 5.00408111156832, 5.004081111568308, 5.004081111487193, 22.68286132606232, 21.014995573032945, 18.513196909245465, 16.011398186934763, 13.509599372870428, 13.50959937286637, 13.509599372865381, 11.841733416405603, 11.841733416400917, 11.007800402779896, 9.339934272181045, 9.339934272180024, 9.33993427217867, 8.506001134231626, 8.506001134201403, 7.672067926001863, 7.6720679259886415, 7.672067925983182, 6.838134620702136, 6.838134620675107, 6.838134620565714, 6.004201175742267, 6.0042011757018985, 6.004201175694859, 6.004201175692881, 6.004201175692265, 6.004201175689542, 5.170267519914845, 5.170267519914844, 5.170267519914842, 5.170267519914841, 45.43424790751582, 37.05152495986391, 34.53670806226855, 25.315712676334744, 25.315712676334456, 11.903354909633265, 11.903354909625905, 11.903354909622834, 11.903354909621163, 11.065082443908626, 8.5502648215675, 8.5502648215627, 7.711992163398555, 7.711992163355178, 7.711992163324261, 6.873719409159163, 6.873719409153474, 6.873719409087067, 6.035446516972424, 6.035446516935173, 6.035446516926247, 5.19717341618719, 5.1971734161871845, 5.197173416187182, 5.197173416187176, 5.197173416187167, 5.197173416121679, 4.358899978423908, 4.358899978423886, 4.358899978423885, 4.358899978423882, 4.358899978423882, 30.143030508866612, 26.71767405934284, 23.292317574956677, 18.154282739108115, 15.585265236203947, 13.016247630851378, 12.159908394799917, 12.159908394786733, 11.30356913494882, 11.303569134938991, 10.447229845265348, 10.447229845258354, 10.44722984525473, 10.447229845254116, 8.734551140144733, 7.878211696290574, 7.878211696272733, 7.021872160738508, 7.021872160715524, 7.021872160690091, 6.165532493200322, 6.165532493197647, 6.165532493159083, 6.16553249308289, 5.309192626332211, 5.30919262632872, 5.309192626322831, 4.452852437450752, 4.452852437450745, 4.4528524374507406, 4.452852437450739], \"Total\": [87.0, 46.0, 40.0, 37.0, 37.0, 35.0, 36.0, 30.0, 32.0, 32.0, 27.0, 28.0, 27.0, 25.0, 25.0, 23.0, 24.0, 23.0, 23.0, 22.0, 21.0, 20.0, 18.0, 19.0, 16.0, 16.0, 16.0, 16.0, 16.0, 16.0, 87.62189360515512, 37.45569006484932, 32.6779563980606, 27.90022273335075, 24.715066958651715, 16.75217753437143, 15.159599653569185, 13.56702177531195, 12.770732837458509, 11.974443900700393, 11.17815496529514, 10.38186603158401, 9.585577100030541, 9.58557710003162, 9.585577100032326, 9.585577100032635, 9.585577100033758, 8.789288171299269, 8.78928817130249, 7.992999246340604, 7.992999246340879, 6.400421414340887, 6.4004214143408875, 6.4004214143408875, 6.40042141434089, 6.400421414340891, 5.604132513413938, 5.604132513413937, 5.604132513413935, 5.604132513413938, 40.37576425774693, 36.34011447784208, 32.304464698616655, 28.26881492037162, 23.426035188515556, 22.618905233519058, 20.19751536929029, 16.161865599323935, 16.161865599324173, 16.161865599324184, 15.354735646176392, 12.933345789450879, 12.126215838441789, 11.319085888287931, 10.511955939206826, 10.511955939206992, 9.70482599149564, 8.897696045565274, 7.283436161787518, 7.283436161790229, 7.283436161791684, 7.283436161791733, 6.476306226296429, 6.4763062262985915, 5.669176297975268, 5.669176297975268, 5.669176297975269, 5.669176297975268, 5.66917629797527, 5.669176297978158, 23.34257791495906, 21.674712260726814, 19.17291377906461, 16.67111529686608, 14.169316813826685, 14.16931681382666, 14.169316813826615, 12.501451157730049, 12.501451157730065, 11.667518329357316, 9.999652671664869, 9.999652671664883, 9.999652671664848, 9.165719842152646, 9.165719842152756, 8.33178701199648, 8.331787011996632, 8.33178701199644, 7.4978541809508314, 7.4978541809505375, 7.497854180949978, 6.66392134862515, 6.6639213486250855, 6.66392134862467, 6.663921348624919, 6.663921348624813, 6.663921348624889, 5.8299885143671855, 5.8299885143671855, 5.8299885143671855, 5.829988514367186, 46.093094062702164, 37.71037125213976, 35.1955544087625, 25.974559314893664, 25.974559314893636, 12.562202801523968, 12.5622028015239, 12.562202801523787, 12.562202801523773, 11.723930517787386, 9.209113663047102, 9.209113663047045, 8.370841376293276, 8.370841376292686, 8.37084137629232, 7.532569088033049, 7.532569088033008, 7.532569088032114, 6.69429679761006, 6.694296797609474, 6.694296797609414, 5.856024503916667, 5.856024503916666, 5.856024503916667, 5.856024503916666, 5.856024503916667, 5.856024503915946, 5.017752204940467, 5.017752204940466, 5.017752204940468, 5.017752204940467, 5.017752204940468, 30.79825604965223, 27.37289971212196, 23.947543373107884, 18.809508859936038, 16.240491599733254, 13.671474335170041, 12.815135245523855, 12.815135245523358, 11.95879615486471, 11.958796154864409, 11.102457062935871, 11.1024570629356, 11.102457062935436, 11.102457062935468, 9.38977887372591, 8.53343977523528, 8.533439775234623, 7.677100672841677, 7.677100672840852, 7.677100672839662, 6.820761564830743, 6.820761564830603, 6.82076156482894, 6.8207615648260225, 5.964422448335835, 5.964422448335844, 5.964422448335549, 5.1080833181358525, 5.108083318135853, 5.108083318135852, 5.108083318135853], \"Category\": [\"Default\", \"Default\", \"Default\", \"Default\", \"Default\", \"Default\", \"Default\", \"Default\", \"Default\", \"Default\", \"Default\", \"Default\", \"Default\", \"Default\", \"Default\", \"Default\", \"Default\", \"Default\", \"Default\", \"Default\", \"Default\", \"Default\", \"Default\", \"Default\", \"Default\", \"Default\", \"Default\", \"Default\", \"Default\", \"Default\", \"Topic1\", \"Topic1\", \"Topic1\", \"Topic1\", \"Topic1\", \"Topic1\", \"Topic1\", \"Topic1\", \"Topic1\", \"Topic1\", \"Topic1\", \"Topic1\", \"Topic1\", \"Topic1\", \"Topic1\", \"Topic1\", \"Topic1\", \"Topic1\", \"Topic1\", \"Topic1\", \"Topic1\", \"Topic1\", \"Topic1\", \"Topic1\", \"Topic1\", \"Topic1\", \"Topic1\", \"Topic1\", \"Topic1\", \"Topic1\", \"Topic2\", \"Topic2\", \"Topic2\", \"Topic2\", \"Topic2\", \"Topic2\", \"Topic2\", \"Topic2\", \"Topic2\", \"Topic2\", \"Topic2\", \"Topic2\", \"Topic2\", \"Topic2\", \"Topic2\", \"Topic2\", \"Topic2\", \"Topic2\", \"Topic2\", \"Topic2\", \"Topic2\", \"Topic2\", \"Topic2\", \"Topic2\", \"Topic2\", \"Topic2\", \"Topic2\", \"Topic2\", \"Topic2\", \"Topic2\", \"Topic3\", \"Topic3\", \"Topic3\", \"Topic3\", \"Topic3\", \"Topic3\", \"Topic3\", \"Topic3\", \"Topic3\", \"Topic3\", \"Topic3\", \"Topic3\", \"Topic3\", \"Topic3\", \"Topic3\", \"Topic3\", \"Topic3\", \"Topic3\", \"Topic3\", \"Topic3\", \"Topic3\", \"Topic3\", \"Topic3\", \"Topic3\", \"Topic3\", \"Topic3\", \"Topic3\", \"Topic3\", \"Topic3\", \"Topic3\", \"Topic3\", \"Topic4\", \"Topic4\", \"Topic4\", \"Topic4\", \"Topic4\", \"Topic4\", \"Topic4\", \"Topic4\", \"Topic4\", \"Topic4\", \"Topic4\", \"Topic4\", \"Topic4\", \"Topic4\", \"Topic4\", \"Topic4\", \"Topic4\", \"Topic4\", \"Topic4\", \"Topic4\", \"Topic4\", \"Topic4\", \"Topic4\", \"Topic4\", \"Topic4\", \"Topic4\", \"Topic4\", \"Topic4\", \"Topic4\", \"Topic4\", \"Topic4\", \"Topic4\", \"Topic5\", \"Topic5\", \"Topic5\", \"Topic5\", \"Topic5\", \"Topic5\", \"Topic5\", \"Topic5\", \"Topic5\", \"Topic5\", \"Topic5\", \"Topic5\", \"Topic5\", \"Topic5\", \"Topic5\", \"Topic5\", \"Topic5\", \"Topic5\", \"Topic5\", \"Topic5\", \"Topic5\", \"Topic5\", \"Topic5\", \"Topic5\", \"Topic5\", \"Topic5\", \"Topic5\", \"Topic5\", \"Topic5\", \"Topic5\", \"Topic5\"], \"logprob\": [30.0, 29.0, 28.0, 27.0, 26.0, 25.0, 24.0, 23.0, 22.0, 21.0, 20.0, 19.0, 18.0, 17.0, 16.0, 15.0, 14.0, 13.0, 12.0, 11.0, 10.0, 9.0, 8.0, 7.0, 6.0, 5.0, 4.0, 3.0, 2.0, 1.0, -2.0847, -2.9449, -3.084, -3.2456, -3.37, -3.7722, -3.8765, -3.9929, -4.0566, -4.1246, -4.1977, -4.2764, -4.362, -4.362, -4.362, -4.362, -4.362, -4.4555, -4.4555, -4.5587, -4.5587, -4.8038, -4.8038, -4.8038, -4.8038, -4.8038, -4.9533, -4.9533, -4.9533, -4.9533, -2.846, -2.9532, -3.0733, -3.2097, -3.4026, -3.4387, -3.5556, -3.787, -3.787, -3.787, -3.8405, -4.0206, -4.0887, -4.1617, -4.2405, -4.2405, -4.326, -4.4196, -4.6378, -4.6378, -4.6378, -4.6378, -4.7679, -4.7679, -4.9174, -4.9174, -4.9174, -4.9174, -4.9174, -4.9174, -3.3551, -3.4314, -3.5582, -3.7034, -3.8733, -3.8733, -3.8733, -4.005, -4.005, -4.0781, -4.2424, -4.2424, -4.2424, -4.3359, -4.3359, -4.4391, -4.4391, -4.4391, -4.5541, -4.5541, -4.5541, -4.6842, -4.6842, -4.6842, -4.6842, -4.6842, -4.6842, -4.8337, -4.8337, -4.8337, -4.8337, -2.6527, -2.8566, -2.9269, -3.2375, -3.2375, -3.9921, -3.9921, -3.9921, -3.9921, -4.0651, -4.323, -4.323, -4.4262, -4.4262, -4.4262, -4.5412, -4.5412, -4.5412, -4.6713, -4.6713, -4.6713, -4.8208, -4.8208, -4.8208, -4.8208, -4.8208, -4.8208, -4.9967, -4.9967, -4.9967, -4.9967, -4.9967, -3.0323, -3.1529, -3.2901, -3.5393, -3.6919, -3.872, -3.9401, -3.9401, -4.0131, -4.0131, -4.0919, -4.0919, -4.0919, -4.0919, -4.2709, -4.3741, -4.3741, -4.4892, -4.4892, -4.4892, -4.6193, -4.6193, -4.6193, -4.6193, -4.7688, -4.7688, -4.7688, -4.9447, -4.9447, -4.9447, -4.9447], \"loglift\": [30.0, 29.0, 28.0, 27.0, 26.0, 25.0, 24.0, 23.0, 22.0, 21.0, 20.0, 19.0, 18.0, 17.0, 16.0, 15.0, 14.0, 13.0, 12.0, 11.0, 10.0, 9.0, 8.0, 7.0, 6.0, 5.0, 4.0, 3.0, 2.0, 1.0, 1.5449, 1.5345, 1.5319, 1.5283, 1.5251, 1.5119, 1.5075, 1.5021, 1.4988, 1.4952, 1.491, 1.4861, 1.4804, 1.4804, 1.4804, 1.4804, 1.4804, 1.4736, 1.4736, 1.4653, 1.4653, 1.4424, 1.4424, 1.4424, 1.4424, 1.4424, 1.4257, 1.4257, 1.4257, 1.4257, 1.5583, 1.5565, 1.5541, 1.5511, 1.5461, 1.5451, 1.5414, 1.5329, 1.5329, 1.5329, 1.5306, 1.5221, 1.5185, 1.5144, 1.5096, 1.5096, 1.5039, 1.4972, 1.4792, 1.4792, 1.4792, 1.4792, 1.4666, 1.4666, 1.4501, 1.4501, 1.4501, 1.4501, 1.4501, 1.4501, 1.5973, 1.595, 1.5909, 1.5855, 1.5782, 1.5782, 1.5782, 1.5717, 1.5717, 1.5677, 1.5577, 1.5577, 1.5577, 1.5512, 1.5512, 1.5434, 1.5434, 1.5434, 1.5338, 1.5338, 1.5338, 1.5217, 1.5217, 1.5217, 1.5217, 1.5217, 1.5217, 1.5058, 1.5058, 1.5058, 1.5058, 1.6192, 1.616, 1.6147, 1.608, 1.608, 1.5798, 1.5798, 1.5798, 1.5798, 1.5758, 1.5594, 1.5594, 1.5517, 1.5517, 1.5517, 1.5421, 1.5421, 1.5421, 1.53, 1.53, 1.53, 1.5143, 1.5143, 1.5143, 1.5143, 1.5143, 1.5143, 1.4929, 1.4929, 1.4929, 1.4929, 1.4929, 1.6428, 1.6401, 1.6366, 1.6289, 1.6232, 1.6152, 1.6119, 1.6119, 1.608, 1.608, 1.6035, 1.6035, 1.6035, 1.6035, 1.592, 1.5845, 1.5845, 1.5751, 1.5751, 1.5751, 1.5634, 1.5634, 1.5634, 1.5634, 1.548, 1.548, 1.548, 1.5271, 1.5271, 1.5271, 1.5271]}, \"token.table\": {\"Topic\": [5, 2, 2, 2, 5, 1, 3, 1, 2, 1, 2, 1, 1, 4, 2, 5, 2, 4, 5, 4, 1, 5, 4, 4, 4, 2, 5, 1, 5, 3, 4, 3, 2, 5, 4, 4, 2, 1, 4, 1, 5, 2, 2, 5, 3, 2, 1, 3, 3, 1, 4, 4, 1, 2, 1, 3, 3, 4, 3, 3, 5, 3, 5, 5, 2, 3, 2, 3, 5, 1, 5, 5, 5, 3, 3, 4, 1, 4, 1, 4, 4, 2, 2, 4, 2, 4, 3, 2, 5, 5, 2, 4, 2, 3, 2, 3, 4, 1, 4, 1, 3, 4, 4, 3, 5, 2, 2, 2, 3, 5, 1, 3, 5, 1, 3, 4, 5, 4, 2, 4, 5, 4, 3, 3, 1, 1, 1, 5, 4, 1, 5, 3, 5, 4, 4, 3, 1, 1, 2, 3, 3, 1, 5, 1, 5, 1, 1, 4, 2, 2, 3, 5, 3, 5], \"Freq\": [0.8796671666311906, 0.9281106755786431, 0.9264540295570898, 0.9905751510988605, 0.9118025538944495, 0.9710675694365699, 0.9688709934134005, 0.9389106055983121, 0.9904907608922119, 0.9101988516112648, 0.9512977468543826, 0.9878338894822026, 0.9389106055982126, 0.9292978156842795, 0.9264540295573992, 0.7830725833696393, 0.9610848292625102, 0.9552464794267139, 0.9198250273314774, 0.853821563870825, 0.8757663780844888, 0.9198250273315006, 0.9772927481733448, 0.896285327854398, 0.9944437752992517, 0.8819623411227723, 0.9851918522135621, 0.9929025317809551, 0.9007015242944701, 0.9909813510321306, 0.9292978156843898, 0.9003707706181036, 0.8991091580372992, 0.9118025538942102, 0.7971696960367252, 0.8538215638708249, 0.9718099242785943, 0.9374382734481052, 0.89628532785439, 0.9389106055984178, 0.9863770475162037, 0.9818136024689139, 0.9610848292625166, 0.7830725833696391, 0.9819196042420348, 0.9278341579475773, 0.9374382734481046, 0.8576346227232188, 0.9003707706181597, 0.9389106055981026, 0.962480236793283, 0.8538215638708249, 0.9101988516115983, 0.9610848292627086, 0.8921987458419481, 0.9598885640232253, 0.9003707706180948, 0.9552464794267002, 0.9601781692788404, 0.9000312606359342, 0.9007015242944834, 0.988050460297324, 0.9374883060893278, 0.7830725833696389, 0.8819623411227726, 0.985323903974654, 0.881962341122323, 0.9598885640232265, 0.9007015242944808, 0.937438273448105, 0.8383041347775553, 0.8383041347775955, 0.8796671666309581, 0.9601781692788229, 0.9880504602973209, 0.9556984346467822, 0.8921987458419481, 0.7971696960367253, 0.8921987458419486, 0.938251892853762, 0.853821563870825, 0.9906933214849343, 0.8819623411227726, 0.85382156387093, 0.990640797842025, 0.8962853278543115, 0.8576346227232187, 0.9610848292630664, 0.879667166631567, 0.838304134777554, 0.9902208085658593, 0.9624802367932819, 0.9512977468543677, 0.9819196042420466, 0.9071255325283318, 0.9597438272775763, 0.7971696960367254, 0.9374382734481045, 0.9552464794267053, 0.8921987458419482, 0.900370770618126, 0.9292978156842745, 0.9772927481733508, 0.9427883196311134, 0.9569627858991959, 0.9281106755786575, 0.9768973133533089, 0.8819623411227724, 0.933600445015897, 0.9508850092749204, 0.9792534028198643, 0.8576346227232188, 0.9604325438169188, 0.9632179773441223, 0.8576346227232188, 0.9811624434193431, 0.900701524294448, 0.955246479426715, 0.9281106755786437, 0.8538215638708249, 0.8796671666309762, 0.9556984346468913, 0.9880504602973192, 0.900031260635931, 0.8757663780845188, 0.9550997156740881, 0.9840622208362418, 0.9740811282182569, 0.7971696960367253, 0.9677342097963018, 0.936392770742816, 0.960178169278845, 0.9363927707428523, 0.7971696960367252, 0.9762850794694931, 0.9336004450159335, 0.9396485035535446, 0.9389106055982429, 0.9726377016425225, 0.9336004450160033, 0.9003707706181404, 0.9582058771112342, 0.9374883060892555, 0.937438273448105, 0.9118025538943081, 0.9235072376534582, 0.9186230351253809, 0.9556984346468496, 0.9273736600621916, 0.8819623411227726, 0.9000312606359323, 0.7830725833696389, 0.9003707706181301, 0.9584890252510022], \"Term\": [\"aa\", \"accept\", \"act\", \"action\", \"administr\", \"adopt\", \"agreement\", \"airport\", \"amend\", \"annual\", \"appropri\", \"approv\", \"approxim\", \"area\", \"arena\", \"asphalt\", \"assess\", \"author\", \"avenu\", \"award\", \"build\", \"busi\", \"carri\", \"categor\", \"ceqa\", \"certain\", \"chang\", \"citi\", \"code\", \"committe\", \"commun\", \"compens\", \"concret\", \"consent\", \"conserv\", \"consist\", \"construct\", \"consult\", \"conting\", \"contract\", \"council\", \"councilmemb\", \"covid\", \"cp\", \"day\", \"defer\", \"depart\", \"determin\", \"develop\", \"director\", \"district\", \"document\", \"drop\", \"easement\", \"eir\", \"emerg\", \"enforc\", \"environ\", \"environment\", \"esparza\", \"event\", \"execut\", \"exempt\", \"exist\", \"facil\", \"file\", \"final\", \"fund\", \"gener\", \"govern\", \"governor\", \"great\", \"guidelin\", \"homeless\", \"hous\", \"impact\", \"improv\", \"incorpor\", \"industri\", \"inform\", \"intergovernment\", \"item\", \"jone\", \"jose\", \"jos\\u00e9\", \"land\", \"llc\", \"local\", \"locat\", \"major\", \"manag\", \"march\", \"master\", \"maya\", \"mayor\", \"meet\", \"memorandum\", \"minut\", \"motion\", \"need\", \"negoti\", \"new\", \"north\", \"open\", \"order\", \"ordin\", \"page\", \"pass\", \"peralez\", \"physic\", \"plan\", \"polic\", \"pp\", \"present\", \"program\", \"project\", \"properti\", \"provid\", \"public\", \"question\", \"raul\", \"real\", \"recommend\", \"referr\", \"regard\", \"relat\", \"renumber\", \"report\", \"resid\", \"resolut\", \"result\", \"rezon\", \"rule\", \"sam\", \"san\", \"sch\", \"second\", \"section\", \"servic\", \"special\", \"sponsor\", \"staff\", \"state\", \"statu\", \"strateg\", \"street\", \"support\", \"technolog\", \"unanim\", \"use\", \"water\", \"west\", \"year\", \"zone\"]}, \"R\": 30, \"lambda.step\": 0.01, \"plot.opts\": {\"xlab\": \"PC1\", \"ylab\": \"PC2\"}, \"topic.order\": [4, 5, 2, 3, 1]};\n",
       "\n",
       "function LDAvis_load_lib(url, callback){\n",
       "  var s = document.createElement('script');\n",
       "  s.src = url;\n",
       "  s.async = true;\n",
       "  s.onreadystatechange = s.onload = callback;\n",
       "  s.onerror = function(){console.warn(\"failed to load library \" + url);};\n",
       "  document.getElementsByTagName(\"head\")[0].appendChild(s);\n",
       "}\n",
       "\n",
       "if(typeof(LDAvis) !== \"undefined\"){\n",
       "   // already loaded: just create the visualization\n",
       "   !function(LDAvis){\n",
       "       new LDAvis(\"#\" + \"ldavis_el625521403382020402405770912992\", ldavis_el625521403382020402405770912992_data);\n",
       "   }(LDAvis);\n",
       "}else if(typeof define === \"function\" && define.amd){\n",
       "   // require.js is available: use it to load d3/LDAvis\n",
       "   require.config({paths: {d3: \"https://cdnjs.cloudflare.com/ajax/libs/d3/3.5.5/d3.min\"}});\n",
       "   require([\"d3\"], function(d3){\n",
       "      window.d3 = d3;\n",
       "      LDAvis_load_lib(\"https://cdn.rawgit.com/bmabey/pyLDAvis/files/ldavis.v1.0.0.js\", function(){\n",
       "        new LDAvis(\"#\" + \"ldavis_el625521403382020402405770912992\", ldavis_el625521403382020402405770912992_data);\n",
       "      });\n",
       "    });\n",
       "}else{\n",
       "    // require.js not available: dynamically load d3 & LDAvis\n",
       "    LDAvis_load_lib(\"https://cdnjs.cloudflare.com/ajax/libs/d3/3.5.5/d3.min.js\", function(){\n",
       "         LDAvis_load_lib(\"https://cdn.rawgit.com/bmabey/pyLDAvis/files/ldavis.v1.0.0.js\", function(){\n",
       "                 new LDAvis(\"#\" + \"ldavis_el625521403382020402405770912992\", ldavis_el625521403382020402405770912992_data);\n",
       "            })\n",
       "         });\n",
       "}\n",
       "</script>"
      ],
      "text/plain": [
       "PreparedData(topic_coordinates=              x         y  topics  cluster       Freq\n",
       "topic                                                \n",
       "3      0.297840  0.114266       1        1  21.171613\n",
       "4     -0.191936  0.247915       2        1  20.702367\n",
       "1     -0.033426 -0.103694       3        1  19.673004\n",
       "2     -0.043759 -0.176950       4        1  19.521690\n",
       "0     -0.028719 -0.081537       5        1  18.931326, topic_info=        Term       Freq      Total Category  logprob  loglift\n",
       "109     citi  87.000000  87.000000  Default  30.0000  30.0000\n",
       "574      san  46.000000  46.000000  Default  29.0000  29.0000\n",
       "342     item  40.000000  40.000000  Default  28.0000  28.0000\n",
       "505  project  37.000000  37.000000  Default  27.0000  27.0000\n",
       "42    approv  37.000000  37.000000  Default  26.0000  26.0000\n",
       "..       ...        ...        ...      ...      ...      ...\n",
       "280    great   5.309193   5.964422   Topic5  -4.7688   1.5480\n",
       "166       cp   4.452852   5.108083   Topic5  -4.9447   1.5271\n",
       "238    exist   4.452852   5.108083   Topic5  -4.9447   1.5271\n",
       "48   asphalt   4.452852   5.108083   Topic5  -4.9447   1.5271\n",
       "695     west   4.452852   5.108083   Topic5  -4.9447   1.5271\n",
       "\n",
       "[184 rows x 6 columns], token_table=      Topic      Freq       Term\n",
       "term                            \n",
       "0         5  0.879667         aa\n",
       "4         2  0.928111     accept\n",
       "8         2  0.926454        act\n",
       "9         2  0.990575     action\n",
       "14        5  0.911803  administr\n",
       "...     ...       ...        ...\n",
       "683       2  0.881962        use\n",
       "693       3  0.900031      water\n",
       "695       5  0.783073       west\n",
       "699       3  0.900371       year\n",
       "700       5  0.958489       zone\n",
       "\n",
       "[154 rows x 3 columns], R=30, lambda_step=0.01, plot_opts={'xlab': 'PC1', 'ylab': 'PC2'}, topic_order=[4, 5, 2, 3, 1])"
      ]
     },
     "execution_count": 24,
     "metadata": {},
     "output_type": "execute_result"
    }
   ],
   "source": [
    "pyLDAvis.sklearn.prepare(lda_tfidf, word_matrix, tfidf_vectorizer)"
   ]
  },
  {
   "cell_type": "code",
   "execution_count": null,
   "metadata": {},
   "outputs": [],
   "source": []
  }
 ],
 "metadata": {
  "kernelspec": {
   "display_name": "Python [conda env:metis] *",
   "language": "python",
   "name": "conda-env-metis-py"
  },
  "language_info": {
   "codemirror_mode": {
    "name": "ipython",
    "version": 3
   },
   "file_extension": ".py",
   "mimetype": "text/x-python",
   "name": "python",
   "nbconvert_exporter": "python",
   "pygments_lexer": "ipython3",
   "version": "3.8.5"
  }
 },
 "nbformat": 4,
 "nbformat_minor": 4
}
