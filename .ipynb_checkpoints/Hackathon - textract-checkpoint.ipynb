{
 "cells": [
  {
   "cell_type": "code",
   "execution_count": 1,
   "metadata": {},
   "outputs": [],
   "source": [
    "import boto3\n",
    "import json\n",
    "import pandas as pd\n",
    "\n",
    "# Let's use Amazon S3\n",
    "s3c = boto3.client('s3')\n",
    "s3r = boto3.resource('s3')"
   ]
  },
  {
   "cell_type": "code",
   "execution_count": 2,
   "metadata": {},
   "outputs": [],
   "source": [
    "buckets = []\n",
    "\n",
    "# Print out bucket names\n",
    "for bucket in s3r.buckets.all():\n",
    "    buckets.append(bucket)"
   ]
  },
  {
   "cell_type": "code",
   "execution_count": 3,
   "metadata": {
    "scrolled": true
   },
   "outputs": [],
   "source": [
    "for i in buckets[1].objects.iterator():\n",
    "    pass\n",
    "    #print(i)"
   ]
  },
  {
   "cell_type": "code",
   "execution_count": 4,
   "metadata": {},
   "outputs": [],
   "source": [
    "documents = s3c.list_objects(Bucket = buckets[1].name)['Contents']"
   ]
  },
  {
   "cell_type": "code",
   "execution_count": 5,
   "metadata": {},
   "outputs": [],
   "source": [
    "textract_c = boto3.client('textract')"
   ]
  },
  {
   "cell_type": "code",
   "execution_count": 6,
   "metadata": {},
   "outputs": [],
   "source": [
    "documents_ls = [d['Key'] for d in documents]\n",
    "#documents_ls"
   ]
  },
  {
   "cell_type": "code",
   "execution_count": 7,
   "metadata": {},
   "outputs": [],
   "source": [
    "response_ls = []\n",
    "for d in documents_ls:\n",
    "    response_ls.append(textract_c.start_document_analysis(DocumentLocation={'S3Object':{'Bucket':buckets[1].name,'Name':d}},FeatureTypes = ['TABLES']))"
   ]
  },
  {
   "cell_type": "code",
   "execution_count": 8,
   "metadata": {
    "scrolled": true
   },
   "outputs": [],
   "source": [
    "jobId_ls = [r['JobId'] for r in response_ls]"
   ]
  },
  {
   "cell_type": "code",
   "execution_count": 13,
   "metadata": {},
   "outputs": [],
   "source": [
    "result_ls = []\n",
    "\n",
    "for j in jobId_ls:\n",
    "    result_ls.append(textract_c.get_document_analysis(JobId=j))"
   ]
  },
  {
   "cell_type": "code",
   "execution_count": 15,
   "metadata": {
    "scrolled": true
   },
   "outputs": [
    {
     "ename": "AttributeError",
     "evalue": "module 'pandas' has no attribute 'DataSeries'",
     "output_type": "error",
     "traceback": [
      "\u001b[1;31m---------------------------------------------------------------------------\u001b[0m",
      "\u001b[1;31mAttributeError\u001b[0m                            Traceback (most recent call last)",
      "\u001b[1;32m<ipython-input-15-b85d8864ed08>\u001b[0m in \u001b[0;36m<module>\u001b[1;34m\u001b[0m\n\u001b[0;32m      2\u001b[0m \u001b[1;33m\u001b[0m\u001b[0m\n\u001b[0;32m      3\u001b[0m \u001b[0mjobStatus\u001b[0m \u001b[1;33m=\u001b[0m \u001b[1;33m[\u001b[0m\u001b[0mr\u001b[0m\u001b[1;33m[\u001b[0m\u001b[1;34m'JobStatus'\u001b[0m\u001b[1;33m]\u001b[0m \u001b[1;32mfor\u001b[0m \u001b[0mr\u001b[0m \u001b[1;32min\u001b[0m \u001b[0mresult_ls\u001b[0m\u001b[1;33m]\u001b[0m\u001b[1;33m\u001b[0m\u001b[1;33m\u001b[0m\u001b[0m\n\u001b[1;32m----> 4\u001b[1;33m \u001b[0mjobStatus_df\u001b[0m \u001b[1;33m=\u001b[0m \u001b[0mpd\u001b[0m\u001b[1;33m.\u001b[0m\u001b[0mDataSeries\u001b[0m\u001b[1;33m(\u001b[0m\u001b[0mjobStatus\u001b[0m\u001b[1;33m)\u001b[0m\u001b[1;33m\u001b[0m\u001b[1;33m\u001b[0m\u001b[0m\n\u001b[0m\u001b[0;32m      5\u001b[0m \u001b[0mjobStatus\u001b[0m\u001b[1;33m.\u001b[0m\u001b[0mvalues_count\u001b[0m\u001b[1;33m(\u001b[0m\u001b[1;33m)\u001b[0m\u001b[1;33m\u001b[0m\u001b[1;33m\u001b[0m\u001b[0m\n",
      "\u001b[1;32m~\\AppData\\Local\\Packages\\PythonSoftwareFoundation.Python.3.8_qbz5n2kfra8p0\\LocalCache\\local-packages\\Python38\\site-packages\\pandas\\__init__.py\u001b[0m in \u001b[0;36m__getattr__\u001b[1;34m(name)\u001b[0m\n\u001b[0;32m    256\u001b[0m             \u001b[1;32mreturn\u001b[0m \u001b[0m_SparseArray\u001b[0m\u001b[1;33m\u001b[0m\u001b[1;33m\u001b[0m\u001b[0m\n\u001b[0;32m    257\u001b[0m \u001b[1;33m\u001b[0m\u001b[0m\n\u001b[1;32m--> 258\u001b[1;33m         \u001b[1;32mraise\u001b[0m \u001b[0mAttributeError\u001b[0m\u001b[1;33m(\u001b[0m\u001b[1;34mf\"module 'pandas' has no attribute '{name}'\"\u001b[0m\u001b[1;33m)\u001b[0m\u001b[1;33m\u001b[0m\u001b[1;33m\u001b[0m\u001b[0m\n\u001b[0m\u001b[0;32m    259\u001b[0m \u001b[1;33m\u001b[0m\u001b[0m\n\u001b[0;32m    260\u001b[0m \u001b[1;33m\u001b[0m\u001b[0m\n",
      "\u001b[1;31mAttributeError\u001b[0m: module 'pandas' has no attribute 'DataSeries'"
     ]
    }
   ],
   "source": [
    "jobStatus = [r['JobStatus'] for r in result_ls]\n",
    "jobStatus_df = pd.DataSeries(jobStatus)\n"
   ]
  },
  {
   "cell_type": "code",
   "execution_count": 6,
   "metadata": {},
   "outputs": [],
   "source": [
    "import json\n",
    "\n",
    "with open('./raw/city of san jose minutes_19.json') as jsonFile:\n",
    "    data = json.load(jsonFile)\n",
    "    \n",
    "rawtxt, rawls = creatRaw(data)"
   ]
  },
  {
   "cell_type": "code",
   "execution_count": 7,
   "metadata": {
    "scrolled": true
   },
   "outputs": [
    {
     "data": {
      "text/plain": [
       "\"CITY OF SANJOSE CAPITAL OF SILICON VALLEY SPECIAL MEETING MINUTES OF THE CITY COUNCIL SAN JOSÉ, CALIFORNIA THURSDAY, MAY 21, 2020 Consistent with the California Governor's Executive Order No. N-29-20, Resolution No. 79450 from the City of San José and the Santa Clara County Health Officer's March 16, 2020 Shelter in Place Order, the City Council meeting was not physically open to the public. Public comments were accepted via eComment, email, by phone and webinar. The Council meeting was teleconferenced from remote locations. The Council of the City of San José convened in a Special Session on Thursday, May 21, 2020, at 1:33 p.m. Present: Councilmembers - Arenas, Carrasco, Davis, Diep, Esparza, Jimenez, Jones, Khamis, Peralez; Liccardo. Absent: Councilmembers - Foley. Staff: City Attorney Richard Doyle; City Manager, David Sykes; Budget Director, Jim Shannon; City Clerk Toni J. Taber, CMC; Deputy City Clerk Ruth Krantz. 3.1 02-2610 Public Hearing on the 2020-2021 Proposed Operating/Capital Budgets and the 2020-2021 Proposed Fees and Charges for the City of San José. Recommendation: Public Hearing on the Proposed Operating and Capital Budgets for the Fiscal Year July 1, 2020 to June 30, 2021, the Proposed Five- Year Capital Improvement Program for 2021 - 2025, and the Proposed Fees and Charges Report for the Fiscal Year 2020 - 2021. (City Manager) Staff and Council were available to hear public comment. City Manager, David Sykes indicated that as this meeting was held for the sole purpose of hearing public comment, no presentation was to be made. Public Comments: Robin Roemer spoke on the devastating effects of air pollution, especially on the young and those with respiratory issues, the disparity among low income communities, and the need for grant funding, training for planning staff, partnering with non-profits, and whatever resources we can find. He stressed that clean air is essential. City of San José May 21, 2020 CITY OF SANJOSE CAPITAL OF SILICON VALLEY SPECIAL MEETING MINUTES OF THE CITY COUNCIL SAN JOSÉ, CALIFORNIA THURSDAY, MAY 21, 2020 Consistent with the California Governor's Executive Order No. N-29-20, Resolution No. 79450 from the City of San José and the Santa Clara County Health Officer's March 16, 2020 Shelter in Place Order, the City Council meeting was not physically open to the public. Public comments were accepted via eComment, email, by phone and webinar. The Council meeting was teleconferenced from remote locations. The Council of the City of San José convened in a Special Session on Thursday, May 21, 2020, at 1:33 p.m. Present: Councilmembers - Arenas, Carrasco, Davis, Diep, Esparza, Jimenez, Jones, Khamis, Peralez; Liccardo. Absent: Councilmembers - Foley. Staff: City Attorney Richard Doyle; City Manager, David Sykes; Budget Director, Jim Shannon; City Clerk Toni J. Taber, CMC; Deputy City Clerk Ruth Krantz. 3.1 02-2610 Public Hearing on the 2020-2021 Proposed Operating/Capital Budgets and the 2020-2021 Proposed Fees and Charges for the City of San José. Recommendation: Public Hearing on the Proposed Operating and Capital Budgets for the Fiscal Year July 1, 2020 to June 30, 2021, the Proposed Five- Year Capital Improvement Program for 2021 - 2025, and the Proposed Fees and Charges Report for the Fiscal Year 2020 - 2021. (City Manager) Staff and Council were available to hear public comment. City Manager, David Sykes indicated that as this meeting was held for the sole purpose of hearing public comment, no presentation was to be made. Public Comments: Robin Roemer spoke on the devastating effects of air pollution, especially on the young and those with respiratory issues, the disparity among low income communities, and the need for grant funding, training for planning staff, partnering with non-profits, and whatever resources we can find. He stressed that clean air is essential. City of San José 1 May 21, 2020 ADJOURNMENT Mayor Sam Liccardo adjourned the Special Meeting of the Council of the City of San José at 1:37 p.m. Minutes Recorded, Prepared and Respectfully Submitted by, draft Toni J. Taber, CMC City Clerk Rmk/5-21-20SPEC_MII City of San José May 21, 2020 ADJOURNMENT Mayor Sam Liccardo adjourned the Special Meeting of the Council of the City of San José at 1:37 p.m. Minutes Recorded, Prepared and Respectfully Submitted by, draft Toni J. Taber, CMC City Clerk Rmk/5-21-20SPEC_MII City of San José 2 May 21, 2020 \""
      ]
     },
     "execution_count": 7,
     "metadata": {},
     "output_type": "execute_result"
    }
   ],
   "source": [
    "rawtxt"
   ]
  },
  {
   "cell_type": "code",
   "execution_count": 2,
   "metadata": {},
   "outputs": [],
   "source": [
    "def creatRaw(result):\n",
    "\n",
    "    raw_ls=[]\n",
    "    raw_txt=''\n",
    "    for t in result['Blocks']:\n",
    "        try:\n",
    "            if t['Text'][:4]=='Page':\n",
    "                pass\n",
    "            else:\n",
    "                raw_ls.append( t['Text'])\n",
    "                raw_txt += t['Text']+' '\n",
    "        except:\n",
    "            pass\n",
    "\n",
    "    return raw_txt,raw_ls"
   ]
  },
  {
   "cell_type": "code",
   "execution_count": 29,
   "metadata": {
    "scrolled": true
   },
   "outputs": [],
   "source": [
    "file_head = 'city of san jose minutes_'\n",
    "file_surfix = '.json'\n",
    "i = 0\n",
    "\n",
    "for r in result_ls:\n",
    "    raw_txt,raw_ls = creatRaw(result_ls[i])\n",
    "    with open(file_head+str(i+1)+file_surfix,'w') as f:\n",
    "        json.dump(result_ls[i],f)\n",
    "        f.close()\n",
    "    i+=1\n",
    "    "
   ]
  },
  {
   "cell_type": "code",
   "execution_count": 6,
   "metadata": {},
   "outputs": [],
   "source": [
    "import pickle\n",
    "\n",
    "def load_obj(filename):\n",
    "    with open(filename, 'rb') as f:\n",
    "        return pickle.load(f)"
   ]
  },
  {
   "cell_type": "code",
   "execution_count": 16,
   "metadata": {},
   "outputs": [
    {
     "data": {
      "text/plain": [
       "\"CITY OF JET'\\n\\nsan Jose\\n\\nCAPITAL OF SILICON VALLEY\\n\\nCity Council Meeting \\n\\nMINUTES\\n\\nTuesday, January 7,2020\\n\\nSAM LICCARDO, MAYOR \\n\\nCHAPPIE JONES, VICE MAYOR, DISTRICT 1 \\n\\nSERGIO JIMENEZ, DISTRICT 2 \\nRAUL PERALEZ, DISTRICT 3 \\n\\nLAN DEEP, DISTRICT 4 \\n\\nMAGDALENA CARRASCO, DISTRICT 5 \\n\\nDEV DAVIS, DISTRICT 6 \\n\\nMAYA ESPARZA, DISTRICT 7 \\nSYLVIA ARENAS, DISTRICT 8 \\n\\nPAM FOLEY, DISTRICT 9 \\n\\nJOHNNY KHAMIS, DISTRICT 10\\n\\nCity of San Jose\\n\\nPage 1\\n\\nJanuary 7,2020\\n\\n\\x0c#%CITY OF HzT ZHH\\nSAN JOSE\\n\\nCAPITAL OF SILICON VALLEY\\n\\nMINUTES OF THE CITY COUNCIL\\n\\nThe Council of the City of San Jose convened in Regular Session on Tuesday, January 7,2020, at \\n9:35 a.m. in the Council Chambers at City Hall.\\n\\n20-011 - Closed Session, Call to Order in Council Chambers (See Page 9 for Closed Session Minutes)\\n\\nBy unanimous consent, Council recessed from the Closed Session at 11:15 a.m.; Council reconvened to \\nRegular Session at 1:34 p.m. in the Council Chambers.\\n\\nPresent: Councilmembers - Arenas, Carrasco, Davis, Diep, Jimenez, Jones, Khamis, Esparza,\\n\\nPeralez, Foley; Liccardo.\\n\\nAbsent: Councilmembers - All Present.\\n\\n•  Invocation (District 1)\\n\\nJianSheng Shi, Abbess of Chung Tai Zen Center of Sunnyvale provided the Invocation.\\n\\n•  Pledge of Allegiance\\n\\nMayor Sam Liccardo led the Pledge of Allegiance.\\n\\n•  Orders of the Day\\n\\nUpon motion by Councilmember Johnny Khamis, seconded by Councilmember Pam Foley, and carried \\nunanimously, the Orders of the Day and the Amended Agenda were approved, with Item 6.1 “Submit \\nLetter to VTA In Affirmation and Preservation of Funding for Planned Highway and Streets Projects \\nwith Committed VTA Measure B Tax Dollars” approved to include on the agenda. Council's Rules of \\nConduct, Resolution No. 78145, Rule 3(d) (8 votes required).\\n(11-0.)\\nSee Item 6.1 for action taken.\\n\\n•  Closed Session Report\\n\\nNone provided.\\n\\n1.  CEREMONIAL ITEMS\\n\\nNone provided.\\n\\nCity of San Jose\\n\\nPage 2\\n\\nJanuary 7,2020\\n\\n\\x0c2.  CONSENT CALENDAR\\n\\nUpon motion by Councilmember Dev Davis, seconded by Vice Mayor Chappie Jones, and carried \\nunanimously, the Consent Calendar was approved and the below listed actions were taken as indicated. \\n(11-0.)\\n\\n2.1 Approval of City Council Minutes.\\n\\nNone provided.\\n\\n2.2 Final Adoption of Ordinances.\\n\\n20-056 \\n\\nFinal Adoption of Ordinances.\\n\\n(a) Ord No. 30352 - An Ordinance of the City of San Jose Rezoning \\nCertain Real Property of Approximately 3.71 Gross Acre Site Situated \\non the Southeast Corner of Oakland Road and Corie Court (1510 &\\n1530 Oakland Road) from the LI(PD) Light Industrial Planned \\nDevelopment Zoning District to the CIC Combined Industrial/ \\nCommercial Zoning District. [Passed for Publication on 12/17/19 - Item \\n10.1(b) (19-1212)]\\n(b) Ord No. 30353 - An Ordinance of the City of San Jose Amending \\nTitle 20 (Zoning Ordinance or Zoning Code) of the San Jose Municipal \\nCode to Amend Section 20.30.100, Amend Section 20.30.110, Repeal \\nSection 20.30.150, Amend Section 20.30.310, and add Part 4.5 to \\nChapter 20.30 of Title 20; Amend Section 20.80.160 of Chapter 20.80 \\nof Title 20; Amend Section 20.90.220 of Chapter 20.90 of Title 20; add \\nSection 20.200.324 and Amend Section 20.200.325 of Chapter 20.200 \\nof Title 20 to Modify Current Accessory Dwelling Unit (ADU) \\nProvisions to, Among Other Changes, Omit Minimum Lot Size and Lot \\nCoverage Requirements, and to Make Other Technical, \\nNon-Substantive, or Formatting Changes Within Those Sections of Title \\n20 of the San Jose Municipal Code. [Passed for Publication on \\n12/17/19 - Item 10.3(a) (19-1258)]\\n\\nAction: Ordinance Numbers 30352 and 30353 were adopted. (11-0.)\\n\\n2.3  Approval of Council Committee Minutes.\\n\\nNone provided.\\n\\nCity of San Jose\\n\\nPage 3\\n\\nJanuary 7,2020\\n\\n\\x0c2.4\\n\\n20-005\\n\\nMayor and Council Excused Absence Requests.\\n\\nRequest for an excused absence for Councilmember Jimenez, from the \\nNeighborhood Services and Education Committee on December 12,\\n2019, due to illness.\\nCEQA: Not a Project, File No. PP17-010, City Organizational and \\nAdministrative Activities resulting in no changes to the physical \\nenvironment. (Jimenez)\\n\\nAction: The Excused Absence Request was approved. (11-0.)\\n\\n2.5 City Council Travel Reports.\\n\\nNone provided.\\n\\n2.6 Report from the Council Liaison to the Retirement Boards.\\n\\nCouncilmember Dev Davis pulled Item 2.6 to report out on actions taken by the Federated Retirement \\nBoard. Councilmember Pam Foley reported on actions taken by the Police and Fire Retirement Board.\\n\\nAction: Upon motion by Councilmember Dev Davis, seconded by Councilmember Pam Foley and carried \\nunanimously, the Council Liaison to the Retirement Board reports were accepted. (11-0.)\\n\\n2.7 \\n\\n20-006 \\n\\nAmendment to the Agreement with Cruz Strategies, LLC for State Legislative\\nAdvocacy Services.\\nAdopt a resolution authorizing the City Manager to execute the First \\nAmendment to the Agreement for Consultant Services with Cruz \\nStrategies, LLC that includes:\\n(a) Additional lobbying services obligations for Cruz Strategies, LLC \\nincluding lobbying services relating to Public Safety Power Shutoff \\nevents and advancing energy resiliency;\\n(b) Increase the total compensation paid for state legislative advocacy \\nservices from $480,000 to $570,000 for the period of July 1, 2019 to \\nJune 30, 2021 (an additional $5,000 per month for the remaining 18 \\nmonths of the contract), subject to the appropriation of funds; and\\n(c) Increase the contract amount for the one-year option to extend the \\nAgreement from July 1, 2021 to June 30, 2022 to provide ongoing \\nservices from $240,000 to $300,000 (an additional $5,000 per month), \\nsubject to the appropriation of funds.\\nCEQA: Not a Project, File No. PP17 002, Consultant services for \\ndesign, study, inspection, or other professional services with no \\ncommitment to future action. (City Manager)\\n\\nAction: Resolution No. 79365 was adopted. (11-0.)\\n\\nCity of San Jose\\n\\nPage 4\\n\\nJanuary 7,2020\\n\\n\\x0c2.8 \\n\\n20-007 \\n\\nRetroactive Approval of Eastridge Fall Fiesta Sponsored by Council District 8\\nas a City Council Sponsored Special Event to Expend City Funds and Accept \\nDonations of Materials and Services for the Event.\\n(a) Retroactively approve the Eastridge Fall Fiesta Event that took place \\non Thursday, October 25, 2019 as a City Council sponsored Special \\nEvent and approve the expenditure of funds; and\\n(b) Approve and accept donations from various individuals, businesses, \\nor community groups to support the event.\\nCEQA: Not a Project, File No. PP17-011, Temporary Special Events \\nresulting in no changes to the physical environment. (Arenas)\\n\\nAction: The City Council Sponsored Special Event was retroactively approved. (11-0.)\\n\\n3.  STRATEGIC SUPPORT\\n\\n3.1 Report of the City Manager, David Sykes (Verbal Report)\\n\\nNone provided.\\n\\n3.2 Labor Negotiations Update.\\n\\nNone provided.\\n\\n3.3 \\n\\n20-008 \\n\\nCommunity Wi-Fi Strategy Update. - DEFERRED\\n\\nAs recommended by the Smart Cities and Service Improvements \\nCommittee on November 7, 2019, accept the report on the Citywide \\napproach for the implementation of wi-fi that will help support \\neconomic development, City infrastructure, and minimize the digital \\ndivide.\\nCEQA: Not a Project, File No. PP17-009, Staff Reports, Assessments, \\nAnnual Reports, and Informational Memos that involve no approvals of \\nany City action. (City Manager)\\n[Smart Cities and Service Improvements Committee referral -11/7/19 - \\nItem (d)3]\\nDeferred to 1/28/20per Administration\\n\\nCity of San Jose\\n\\nPage 5\\n\\nJanuary 7,2020\\n\\n\\x0c4.  COMMUNITY & ECONOMIC DEVELOPMENT\\n\\n4.1 \\n\\n20-002 \\n\\nCity Council Priority #7: Accessory Dwelling Unit (ADU) Amnesty Program.\\n\\n(a) Accept the staff analysis and recommendation to establish an \\nAmnesty Program for unpermitted accessory dwelling units;\\n(b) Determine that the City Council Policy Priority #7 is completed and \\nwill be removed from the Council Policy Priority list at the next \\npriority-setting session in 2020.\\nCEQA: Not a Project, File No. PP17-008, General Procedure and \\nPolicy Making resulting in no changes to the physical environment.\\n(Planning, Building and Code Enforcement)\\n[Deferred from 12/17/19 - Item 4.4 (19-1207)]\\n\\nRosalynn Hughey, Director, Planning, Building and Code Enforcement, provided a presentation and \\nresponded to questions from Council.\\n\\nMotion: Councilmember Pam Foley moved approval of staff recommendations, including the \\nmemorandum from Mayor Sam Liccardo, dated January 7, 2020. Councilmember Magdalena Carrasco \\nseconded the motion.\\n\\nAssistant City Attorney Ed Moran outlined the process and procedures required to formalize the \\nproposed waiver.\\n\\nThe motion was modified to include adoption of a fee resolution that will set fees to $0 for property \\nowners who meet the criteria for a Financial Hardship Exemption, pending a fees resolution update and \\nan ordinance update to include a fee waiver.\\n\\nAction: On a call for the question, the motion carried unanimously, and the staff recommendation was \\napproved, with adoption of a fee resolution that will set fees to $0 for property owners who meet the \\ncriteria for a Financial Hardship Exemption, pending a fees resolution update and an ordinance update to \\ninclude a fee waiver. Also including the memorandum from Mayor Sam Liccardo, dated January 7, \\n2020, to “Accept staff recommendation and direct staff to include the following elements in an ADU \\namnesty program: (a) Waive the business tax for property owners who meet the criteria for a Financial \\nHardship Exemption: (i) Low revenue generating business with gross receipts below two times the \\npoverty level; (ii) Limited household income with adjusted gross income below four times the poverty \\nlevel; (b) Waive permit fees and impact fees for property owners who meet the same criteria as the \\nbusiness tax Financial Hardship Exemption, (c) Utilize third-party inspectors to conduct ADU \\ninspections, plan check, customer assistance, and consultations without risk of enforcement unless an \\nimminent threat to health and safety is found. (2) Direct staff to return to Council to propose a funding \\nreserve for the program through the budget process.\\n(11-0.)\\n\\n5.  NEIGHBORHOOD SERVICES\\n\\nCity of San Jos£\\n\\nPage 6\\n\\nJanuary 7,2020\\n\\n\\x0c6.  TRANSPORTATION & AVIATION SERVICES\\n\\n6.1 \\n\\n20-003 \\n\\nSubmit Letter to VTA In Affirmation and Preservation of Funding for Planned\\nHighway and Streets Projects with Committed VTA Measure B Tax Dollars.\\nAdopt a position of support for the preservation of existing VTA \\nMeasure B highway and streets funding commitments against efforts to \\ndivert & redirect the voter-approved funding to nonhighway/streets \\npurposes, and submit a letter to the VTA Board of Directors calling for \\nimplementation of Measure B’s funding program as passed by voters in \\n2016, in advance of their January 9, 2020 Board meeting.\\nCEQA: Not a project, File No. PP17-010, City Organizational &\\nAdministrative Activities resulting in no changes to the physical \\nenvironment. (Jones, Foley, Davis, Khamis)\\n\\nPublic Comments: Cole Cameron and Monica Mallon offered support to the deferral of this item.\\n\\nAction: Upon motion by Councilmember Johnny Khamis, seconded by Councilmember Dev Davis, \\nand carried unanimously, under Orders of the Day, this item was deferred to January 28, 2020 to provide \\nan opportunity to engage advocates on the issue of reallocation of Measure B tax dollars. (11-0.)\\n\\n7.  ENVIRONMENTAL & UTILITY SERVICES\\n8.  PUBLIC SAFETY\\n\\n9.  REDEVELOPMENT - SUCCESSOR AGENCY\\n\\n10.  LAND USE\\n\\n10.1  Land Use on Consent Calendar \\n\\nNo Land Use items on Consent Calendar.\\n\\nEND OF CONSENT CALENDAR \\n\\n10 Land Use - Regular Agenda - None.\\n\\nCity of San Jose\\n\\nPage 7\\n\\nJanuary 7,2020\\n\\n\\x0c•  Open Forum\\n\\nPaul Soto offered appreciation to Councilmember Sergio Jimenez for his presence at recent display of 161 \\ntombstones honoring the homeless people who died in Santa Clara in 2019 and expressed disappointment in \\nthe absence and perceived lack of engagement by other officials.\\n\\n•  Adjournment\\n\\nThe Council of the City of San Jose adjourned at 2:34 p.m.\\n\\nMinutes Recorded, Prepared and Respectfully Submitted by,\\n\\nToni J. Taber, CMC \\nCity Clerk\\n\\nrmk/01-7-20 MIN\\n\\nCity of San Jose\\n\\nPage 8\\n\\nJanuary 7,2020\\n\\n\\x0cCITY OFSan Jose\\n\\nCAPITAL OF SILICON VALLEY\\n\\nCLOSED SESSION MINUTES\\n\\nSAN JOSE, CALIFORNIA \\n\\nTUESDAY, JANUARY 7,2020\\n\\nThe Council of the City of San Jose convened into Closed Session at 9:40 a.m.\\n\\nAbsent Councilmembers: Carrasco (excused)\\nCouncilmember Jimenez (10:15 a.m.); Councilmember Lan Diep (9:57 a.m.);\\nCouncilmember Esparza (10:50 a.m.)\\n\\nCouncil recessed at 9:40 a.m. to a Closed Session in Room W133; for the following:\\nA. PUBLIC EMPLOYMENT/PUBLIC EMPLOYEE EVALUATION PURSUANT TO GOVERNMENT \\nCODE SECTION 54957: Title: Toni J. Taber, CMC Name: City Clerk B. CONFERENCE WITH LEGAL \\nCOUNSEL - ANTICIPATED LITIGATION: Significant exposure to litigation pursuant to Sections \\n54956.9(d)(2) and (e)(1) of the Government Code: Number of matter(s) to be discussed: 1 C. CONFERENCE \\nWITH LEGAL COUNSEL - EXISTING LITIGATION PURSUANT TO GOVERNMENT CODE SECTION \\n54956.9(d)(1): 1. Case Name: Estate of Nunez, et al. v. City of San Jose Name(s) of Parties(s) Involved: CITY \\nOF SAN JOSE, MICHAEL SANTOS and ANTHONY VIZZUSI; TONY NUNEZ, individually and as a \\nsuccessor-in-interest to Decedent ANTHONY NUNEZ and THE ESTATE OF ANTHONY NUNEZ Court:\\nU.S. District Court, Northern District of California, San Jose Division Case No.: 17-CV-03860-LHK Amount of \\nMoney or Other Relief Sought: Damages according to proof 2. Case Name: City of San Jose, et al. v. \\nAmerisourceBergen Drug Corporation, et al. Name(s) of Parties(s) Involved: AMERISOURCEBERGEN \\nDRUG CORPORATION; CARDINAL HEALTH, INC.; MCKESSON CORPORATION; PURDUE \\nPHARMA L.P.; PURDUE PHARMA, INC.; THE PURDUE FREDERICK COMPANY, INC.; TEVA \\nPHARMACEUTICAL INDUSTRIES, LTD.; TEVA PHARMACEUTICALS USA, INC.; CEPHALON, INC.; \\nJOHNSON & JOHNSON; JANSSEN PHARMACEUTICALS, INC.; ORTHO-MCNEIL-JANS SEN \\nPHARMACEUTICALS, INC. N/K/A JANSSEN PHARMACEUTICALS, INC.; JANSSEN \\nPHARMACEUTICA INC. N/K/A JANSSEN PHARMACEUTICALS, INC.; NORAMCO, INC.; ENDO \\nHEALTH SOLUTIONS INC.; ENDO PHARMACEUTICALS, INC.; ALLERGAN PLC F/K/A ACTAVIS \\nPLS; WATSON PHARMACEUTICALS, INC. N/K/A ACTAVIS, INC.; WATSON LABORATORIES, INC.; \\nACTAVIS LLC; ACTAVIS PHARMA, INC. F/K/A WATSON PHARMA, INC.; MALLINCKRODT PLC;\\nMALLINCKRODT LLC; INSYS THERAPEUTICS, INC; CVS HEALTH CORP.; THE KROGER CO.; RITE \\nAID OF MARYLAND, INC.; THRIFTY PAYLESS, INC.; WALGREENS BOOTS ALLIANCE, INC.; WAL- \\nMART, INC. Court: U.S. District Court, Northern District of California, San Jose Division Case No.: 5:19-cv- \\n04529 Amount of Money or Other Relief Sought: Damages according to proof D CONFERENCE WITH \\nLABOR NEGOTIATOR PURSUANT TO GOVERNMENT CODE SECTION 54957.6: City Negotiator: \\nJennifer Schembri, Director of Employee Relations Employee Organizations: 1. Organization or Name and \\nTitle of Unrepresented Employees: Peace Officer Park Ranger Association (POPRA) Nature of negotiations: \\nwages/salaries, hours, working conditions, etc. Name of Existing Contract or MOA: Memorandum of\\n\\nCity of San Jose\\n\\nPage 9\\n\\nJanuary 7,2020\\n\\n\\x0cClosed Session Minutes (Cont’d.)\\n\\nAgreement — City of San Jose and Peace Officer Park Ranger Association How to Obtain a copy of Existing \\nContract or MOA: Web: http://www.sanjoseca.gov/index.aspx7NniN508 Telephone - Employee Relations: \\n(408) 535-8150 2. Organization or Name and Title of Unrepresented Employees: City Association of \\nManagement Personnel Agreement (CAMP) Nature of negotiations: wages/salaries, hours, working conditions, \\netc. Name of Existing Contract or MOA: Benefit & Compensation Summary — City of San Jose and City \\nAssociation of Management Personnel Agreement How to Obtain a copy of Existing Contract or MOA: Web: \\nhttp://www.sanjoseca.gov/index.aspx7NniN508 Telephone - Employee Relations: (408) 535-8150 3. \\nOrganization or Name and Title of Unrepresented Employees: Municipal Employees’ Federation, AFSCME \\nLocal 101, AFL-CIO (MEF) Nature of negotiations: wages/salaries, hours, working conditions, etc. Name of \\nExisting Contract or MOA: Memorandum of Agreement — City of San Jose and Municipal Employees’ \\nFederation, AFSCME Local 101, AFL-CIO Howto Obtain a copy of Existing Contract or MOA: Web: \\nhttp://www.sanjoseca.gov/index.aspx7NICN508 Telephone - Employee Relations: (408) 535-8150\\n\\nMinutes \\n\\npared and Respectfully Submitted by,\\n\\nToni J. Taber, CMC \\nCity Clerk\\n\\nrmk/01-7-20 MIN\\n\\nCity of San Jose\\n\\nPage 10\\n\\nJanuary 7,2020\\n\\n\\x0c\""
      ]
     },
     "execution_count": 16,
     "metadata": {},
     "output_type": "execute_result"
    }
   ],
   "source": [
    "raw = load_obj('./council_minutes_dict.pkl')\n",
    "\n",
    "#print(raw['1'])\n",
    "min_01 = raw['1'].decode('UTF-8')\n",
    "min_01"
   ]
  },
  {
   "cell_type": "code",
   "execution_count": 152,
   "metadata": {},
   "outputs": [
    {
     "name": "stdout",
     "output_type": "stream",
     "text": [
      "['1.  CEREMONIAL ITEMS', '2.  CONSENT CALENDAR', '3.  STRATEGIC SUPPORT', '4.  COMMUNITY & ECONOMIC DEVELOPMENT', '5.  NEIGHBORHOOD SERVICES', '6.  TRANSPORTATION & AVIATION SERVICES', '7.  ENVIRONMENTAL & UTILITY SERVICES', '9.  REDEVELOPMENT - SUCCESSOR AGENCY', '10.  LAND USE', '1. Case Name: Estate of Nunez, et al. v. City of San Jose Name(s) of Parties(s) Involved: CITY ', '2. Case Name: City of San Jose, et al. v. ', '1. Organization or Name and ', '2. Organization or Name and Title of Unrepresented Employees: City Association of ', '3. \\nOrganization or Name and Title of Unrepresented Employees: Municipal Employees’ Federation, AFSCME ']\n",
      "['6.1 for action taken', '2.1 Approval of City Council Minutes', '2.2 Final Adoption of Ordinances', '2.3  Approval of Council Committee Minutes', '2.5 City Council Travel Reports', '2.6 Report from the Council Liaison to the Retirement Boards', '3.2 Labor Negotiations Update']\n",
      "['20-011 - Closed Session, Call to Order in Council Chambers (See Page 9 for Closed Session Minutes)', '20-056 \\n\\nFinal Adoption of Ordinances.', '20-005\\n\\nMayor and Council Excused Absence Requests.', '20-006 \\n\\nAmendment to the Agreement with Cruz Strategies, LLC for State Legislative', '20-007 \\n\\nRetroactive Approval of Eastridge Fall Fiesta Sponsored by Council District 8', '20-008 \\n\\nCommunity Wi-Fi Strategy Update. - DEFERRED', '20-002 \\n\\nCity Council Priority #7: Accessory Dwelling Unit (ADU) Amnesty Program.', '20-003 \\n\\nSubmit Letter to VTA In Affirmation and Preservation of Funding for Planned', '535-8150 2. Organization or Name and Title of Unrepresented Employees: City Association of ', '535-8150 3. ', '535-8150\\n\\nMinutes ']\n",
      "['$480,000', '$570,000', '$5,000', '$240,000', '$300,000', '$5,000']\n"
     ]
    }
   ],
   "source": [
    "import regex as re\n",
    "\n",
    "pattern_maintitle = re.compile('\\s(\\d?\\d[.]\\s+.*)\\n')\n",
    "pattern_subtitle = re.compile('\\s(\\d?\\d[.]\\d\\s+.*)[.]')\n",
    "pattern_item = re.compile('\\s(\\d+-\\d+\\s+.*)\\n')\n",
    "pattern_dollar = re.compile('[$]\\d+,\\d+')\n",
    "\n",
    "maintitle = re.findall(pattern_maintitle,min_01)\n",
    "subtitle = re.findall(pattern_subtitle,min_01)\n",
    "item = re.findall(pattern_item,min_01)\n",
    "dollar = re.findall(pattern_dollar,min_01)\n",
    "\n",
    "print(maintitle)\n",
    "print(subtitle)\n",
    "print(item)\n",
    "print(dollar)"
   ]
  },
  {
   "cell_type": "markdown",
   "metadata": {},
   "source": [
    "common words"
   ]
  },
  {
   "cell_type": "code",
   "execution_count": 61,
   "metadata": {},
   "outputs": [],
   "source": [
    "# Creat sents and words for listed sentances and words.\n",
    "\n",
    "from nltk.tokenize import sent_tokenize, word_tokenize\n",
    "\n",
    "sents = sent_tokenize(min_01)\n",
    "words = word_tokenize(min_01)\n",
    "\n",
    "words_lower = [w.lower() for w in words]\n",
    "words_unique = set(words_lower)"
   ]
  },
  {
   "cell_type": "code",
   "execution_count": 63,
   "metadata": {},
   "outputs": [],
   "source": [
    "# create stop words list and remove stop words from word list\n",
    "\n",
    "from nltk.corpus import stopwords\n",
    "\n",
    "english_stop = stopwords.words('english')\n",
    "\n",
    "words_alpha = [t for t in words_lower if t.isalpha()] #extracta only alphabetic words\n",
    "words_ns = [w for w in words_alpha if w not in english_stop]"
   ]
  },
  {
   "cell_type": "code",
   "execution_count": 65,
   "metadata": {},
   "outputs": [],
   "source": [
    "from nltk.stem import WordNetLemmatizer\n",
    "\n",
    "word_lemmatizer = WordNetLemmatizer()\n",
    "\n",
    "words_lemm = [word_lemmatizer.lemmatize(w) for w in words_ns]"
   ]
  },
  {
   "cell_type": "code",
   "execution_count": 66,
   "metadata": {},
   "outputs": [
    {
     "name": "stdout",
     "output_type": "stream",
     "text": [
      "[('city', 52), ('san', 28), ('jose', 28), ('council', 27), ('district', 18), ('january', 17), ('councilmember', 16), ('service', 15), ('action', 13), ('section', 13), ('b', 12), ('page', 11), ('session', 11), ('item', 11), ('employee', 11), ('name', 11), ('report', 10), ('title', 10), ('fee', 10), ('minute', 9)]\n"
     ]
    }
   ],
   "source": [
    "from collections import Counter\n",
    "\n",
    "bow_s = Counter(words_lemm)\n",
    "print(bow_s.most_common(20))"
   ]
  },
  {
   "cell_type": "markdown",
   "metadata": {},
   "source": [
    "Extract naming entity"
   ]
  },
  {
   "cell_type": "code",
   "execution_count": 67,
   "metadata": {},
   "outputs": [],
   "source": [
    "sents_word = [word_tokenize(s) for s in sents]"
   ]
  },
  {
   "cell_type": "code",
   "execution_count": 68,
   "metadata": {},
   "outputs": [],
   "source": [
    "from gensim.corpora.dictionary import Dictionary\n",
    "\n",
    "dictionary = Dictionary([words])\n",
    "\n",
    "gen_corpus = dictionary.doc2bow(words)"
   ]
  },
  {
   "cell_type": "code",
   "execution_count": 69,
   "metadata": {},
   "outputs": [
    {
     "name": "stdout",
     "output_type": "stream",
     "text": [
      ", 170\n",
      ". 110\n",
      "of 101\n",
      "the 89\n",
      "( 70\n"
     ]
    }
   ],
   "source": [
    "bow_gen_corpus = sorted(gen_corpus,key=lambda w:w[1],reverse=True)\n",
    "\n",
    "for word_id, word_count in bow_gen_corpus[:5]:\n",
    "    print(dictionary.get(word_id), word_count)"
   ]
  },
  {
   "cell_type": "code",
   "execution_count": 70,
   "metadata": {},
   "outputs": [],
   "source": [
    "from collections import defaultdict\n",
    "import itertools\n",
    "\n",
    "total_word_count = defaultdict(int)\n",
    "\n",
    "for word_id, word_count in gen_corpus:\n",
    "    total_word_count[word_id] += word_count"
   ]
  },
  {
   "cell_type": "code",
   "execution_count": 71,
   "metadata": {},
   "outputs": [],
   "source": [
    "from gensim.models.tfidfmodel import TfidfModel\n",
    "\n",
    "tfidf = TfidfModel([gen_corpus])\n",
    "tfidf_weights = tfidf[gen_corpus]"
   ]
  },
  {
   "cell_type": "code",
   "execution_count": 79,
   "metadata": {
    "scrolled": true
   },
   "outputs": [],
   "source": [
    "from nltk import pos_tag,ne_chunk_sents\n",
    "\n",
    "sents_pos = [pos_tag(s) for s in sents_word]\n",
    "\n",
    "sents_chunked = ne_chunk_sents(sents_pos,binary=True)\n",
    "chunk_ls = []\n",
    "\n",
    "for sent in sents_chunked:\n",
    "    for chunk in sent:\n",
    "        if hasattr(chunk,'label'):\n",
    "            chunk_ls.append(chunk)"
   ]
  },
  {
   "cell_type": "code",
   "execution_count": 83,
   "metadata": {},
   "outputs": [],
   "source": [
    "chk_ls=[]\n",
    "for chunk in chunk_ls:\n",
    "    for c in chunk:\n",
    "        chk_ls.append(c)"
   ]
  },
  {
   "cell_type": "code",
   "execution_count": 88,
   "metadata": {},
   "outputs": [
    {
     "data": {
      "text/plain": [
       "True"
      ]
     },
     "execution_count": 88,
     "metadata": {},
     "output_type": "execute_result"
    }
   ],
   "source": [
    "new_ls =[]\n",
    "\n",
    "for chk in chk_ls:\n",
    "    (a,b) = chk\n",
    "    a = a.lower()\n",
    "    new_ls.append((a,b))\n",
    "    \n",
    "new_ls[4] == new_ls[0]"
   ]
  },
  {
   "cell_type": "code",
   "execution_count": 90,
   "metadata": {},
   "outputs": [],
   "source": [
    "def countLS(LS):\n",
    "    sum_ls = []\n",
    "    for i in LS:\n",
    "        temp_ls = [a for [a,b] in sum_ls]\n",
    "        if i in temp_ls:\n",
    "            sum_ls[temp_ls.index(i)][1] += 1\n",
    "        else:\n",
    "            sum_ls.append([i,1])\n",
    "    \n",
    "    return sum_ls"
   ]
  },
  {
   "cell_type": "code",
   "execution_count": 91,
   "metadata": {},
   "outputs": [],
   "source": [
    "sum_ls = countLS(new_ls)"
   ]
  },
  {
   "cell_type": "code",
   "execution_count": 92,
   "metadata": {},
   "outputs": [
    {
     "data": {
      "text/plain": [
       "[[('city', 'NNP'), 30],\n",
       " [('of', 'NNP'), 5],\n",
       " [('jose', 'NNP'), 25],\n",
       " [('valley', 'NNP'), 3],\n",
       " [('council', 'NNP'), 21],\n",
       " [('meeting', 'NNP'), 1],\n",
       " [('sam', 'NNP'), 1],\n",
       " [('liccardo', 'NNP'), 1],\n",
       " [('mayor', 'NNP'), 1],\n",
       " [('vice', 'NNP'), 1],\n",
       " [('district', 'NNP'), 15],\n",
       " [('sergio', 'NNP'), 1],\n",
       " [('jimenez', 'NNP'), 3],\n",
       " [('raul', 'NNP'), 1],\n",
       " [('peralez', 'NNP'), 2],\n",
       " [('lan', 'NNP'), 1],\n",
       " [('deep', 'NNP'), 1],\n",
       " [('magdalena', 'NNP'), 1],\n",
       " [('carrasco', 'NNP'), 2],\n",
       " [('sylvia', 'NNP'), 1],\n",
       " [('arenas', 'NNP'), 3],\n",
       " [('johnny', 'NNP'), 1],\n",
       " [('khamis', 'NNP'), 3],\n",
       " [('san', 'NNP'), 25],\n",
       " [('minutes', 'NNP'), 6],\n",
       " [('the', 'NNP'), 4],\n",
       " [('regular', 'JJ'), 3],\n",
       " [('session', 'NN'), 3],\n",
       " [('chambers', 'NNP'), 3],\n",
       " [('hall', 'NNP'), 1],\n",
       " [('closed', 'JJ'), 4],\n",
       " [('see', 'NNP'), 1],\n",
       " [('session', 'NNP'), 2],\n",
       " [('davis', 'NNP'), 2],\n",
       " [('diep', 'NNP'), 1],\n",
       " [('jones', 'NNP'), 2],\n",
       " [('esparza', 'NNP'), 1],\n",
       " [('foley', 'NNP'), 2],\n",
       " [('absent', 'NN'), 1],\n",
       " [('jiansheng', 'NNP'), 1],\n",
       " [('shi', 'NNP'), 1],\n",
       " [('abbess', 'NNP'), 1],\n",
       " [('chung', 'NNP'), 1],\n",
       " [('tai', 'NNP'), 1],\n",
       " [('zen', 'NNP'), 1],\n",
       " [('center', 'NNP'), 1],\n",
       " [('sunnyvale', 'NNP'), 1],\n",
       " [('allegiance', 'NNP'), 1],\n",
       " [('amended', 'NNP'), 1],\n",
       " [('agenda', 'NNP'), 2],\n",
       " [('vta', 'NNP'), 4],\n",
       " [('planned', 'NNP'), 2],\n",
       " [('highway', 'NNP'), 2],\n",
       " [('streets', 'NNP'), 2],\n",
       " [('projects', 'NNPS'), 2],\n",
       " [('committed', 'NNP'), 2],\n",
       " [('conduct', 'NNP'), 1],\n",
       " [('resolution', 'NNP'), 1],\n",
       " [('no', 'NNP'), 9],\n",
       " [('report', 'NNP'), 2],\n",
       " [('none', 'NNP'), 1],\n",
       " [('ceremonial', 'NNP'), 1],\n",
       " [('consent', 'NNP'), 1],\n",
       " [('calendar', 'NNP'), 1],\n",
       " [('upon', 'NNP'), 1],\n",
       " [('none', 'NN'), 4],\n",
       " [('rezoning', 'NNP'), 1],\n",
       " [('certain', 'NNP'), 1],\n",
       " [('real', 'NNP'), 1],\n",
       " [('property', 'NNP'), 1],\n",
       " [('southeast', 'NNP'), 1],\n",
       " [('corner', 'NNP'), 1],\n",
       " [('oakland', 'NNP'), 2],\n",
       " [('road', 'NNP'), 2],\n",
       " [('corie', 'NNP'), 1],\n",
       " [('court', 'NNP'), 4],\n",
       " [('cic', 'NNP'), 1],\n",
       " [('combined', 'NNP'), 1],\n",
       " [('amending', 'NNP'), 1],\n",
       " [('municipal', 'NNP'), 3],\n",
       " [('code', 'NNP'), 4],\n",
       " [('amend', 'NNP'), 5],\n",
       " [('repeal', 'NNP'), 1],\n",
       " [('modify', 'NNP'), 1],\n",
       " [('current', 'NNP'), 1],\n",
       " [('accessory', 'NNP'), 1],\n",
       " [('dwelling', 'NNP'), 1],\n",
       " [('unit', 'NNP'), 1],\n",
       " [('adu', 'NNP'), 3],\n",
       " [('omit', 'NNP'), 1],\n",
       " [('minimum', 'NNP'), 1],\n",
       " [('lot', 'NNP'), 2],\n",
       " [('size', 'NNP'), 1],\n",
       " [('coverage', 'NNP'), 1],\n",
       " [('requirements', 'NNP'), 1],\n",
       " [('committee', 'NNP'), 4],\n",
       " [('absence', 'NNP'), 2],\n",
       " [('request', 'NNP'), 2],\n",
       " [('neighborhood', 'NNP'), 2],\n",
       " [('services', 'NNPS'), 2],\n",
       " [('education', 'NNP'), 1],\n",
       " [('ceqa', 'NN'), 6],\n",
       " [('file', 'NNP'), 6],\n",
       " [('organizational', 'NNP'), 2],\n",
       " [('administrative', 'NNP'), 2],\n",
       " [('activities', 'NNP'), 1],\n",
       " [('excused', 'JJ'), 1],\n",
       " [('liaison', 'NNP'), 2],\n",
       " [('retirement', 'NNP'), 3],\n",
       " [('boards', 'NNPS'), 1],\n",
       " [('federated', 'NNP'), 1],\n",
       " [('board', 'NNP'), 3],\n",
       " [('fire', 'NNP'), 1],\n",
       " [('action', 'NN'), 3],\n",
       " [('cruz', 'NNP'), 3],\n",
       " [('strategies', 'NNP'), 3],\n",
       " [('llc', 'NNP'), 3],\n",
       " [('manager', 'NNP'), 4],\n",
       " [('consultant', 'NNP'), 2],\n",
       " [('public', 'NNP'), 4],\n",
       " [('safety', 'NNP'), 1],\n",
       " [('power', 'NNP'), 1],\n",
       " [('shutoff', 'NNP'), 1],\n",
       " [('eastridge', 'NNP'), 2],\n",
       " [('fall', 'NNP'), 2],\n",
       " [('fiesta', 'NNP'), 2],\n",
       " [('sponsored', 'NNP'), 3],\n",
       " [('special', 'NNP'), 3],\n",
       " [('funds', 'NNPS'), 1],\n",
       " [('accept', 'NNP'), 2],\n",
       " [('donations', 'NNP'), 1],\n",
       " [('materials', 'NNP'), 1],\n",
       " [('special', 'JJ'), 1],\n",
       " [('event', 'NNP'), 1],\n",
       " [('temporary', 'NNP'), 1],\n",
       " [('strategic', 'NNP'), 1],\n",
       " [('david', 'NNP'), 1],\n",
       " [('sykes', 'NNP'), 1],\n",
       " [('verbal', 'NNP'), 1],\n",
       " [('labor', 'NNP'), 2],\n",
       " [('negotiations', 'NNP'), 1],\n",
       " [('update', 'NNP'), 1],\n",
       " [('deferred', 'NN'), 1],\n",
       " [('as', 'IN'), 1],\n",
       " [('smart', 'NNP'), 1],\n",
       " [('cities', 'NNP'), 2],\n",
       " [('service', 'NNP'), 2],\n",
       " [('improvements', 'NNP'), 2],\n",
       " [('citywide', 'NNP'), 1],\n",
       " [('staff', 'NNP'), 1],\n",
       " [('reports', 'NNP'), 2],\n",
       " [('assessments', 'NNP'), 1],\n",
       " [('annual', 'NNP'), 1],\n",
       " [('informational', 'NNP'), 1],\n",
       " [('memos', 'NNP'), 1],\n",
       " [('smart', 'JJ'), 1],\n",
       " [('item', 'NN'), 1],\n",
       " [('community', 'NNP'), 1],\n",
       " [('economic', 'NNP'), 1],\n",
       " [('amnesty', 'NNP'), 1],\n",
       " [('program', 'NNP'), 1],\n",
       " [('policy', 'NNP'), 3],\n",
       " [('general', 'NNP'), 1],\n",
       " [('procedure', 'NNP'), 1],\n",
       " [('rosalynn', 'NNP'), 1],\n",
       " [('hughey', 'NNP'), 1],\n",
       " [('director', 'NNP'), 1],\n",
       " [('enforcement', 'NNP'), 1],\n",
       " [('motion', 'NN'), 1],\n",
       " [('assistant', 'NNP'), 1],\n",
       " [('transportation', 'NNP'), 1],\n",
       " [('aviation', 'NNP'), 1],\n",
       " [('submit', 'NNP'), 1],\n",
       " [('letter', 'NNP'), 1],\n",
       " [('measure', 'NN'), 2],\n",
       " [('b', 'NNP'), 2],\n",
       " [('activities', 'NNPS'), 1],\n",
       " [('comments', 'NNPS'), 1],\n",
       " [('monica', 'NNP'), 1],\n",
       " [('mallon', 'NNP'), 1],\n",
       " [('environmental', 'NNP'), 1],\n",
       " [('utility', 'NNP'), 1],\n",
       " [('redevelopment', 'NNP'), 1],\n",
       " [('successor', 'NNP'), 1],\n",
       " [('land', 'NNP'), 3],\n",
       " [('use', 'NNP'), 2],\n",
       " [('end', 'NN'), 1],\n",
       " [('santa', 'NNP'), 1],\n",
       " [('clara', 'NNP'), 1],\n",
       " [('recorded', 'NNP'), 1],\n",
       " [('respectfully', 'NNP'), 2],\n",
       " [('submitted', 'NNP'), 2],\n",
       " [('toni', 'NNP'), 2],\n",
       " [('j.', 'NNP'), 2],\n",
       " [('taber', 'NNP'), 2],\n",
       " [('cmc', 'NNP'), 3],\n",
       " [('clerk', 'NNP'), 2],\n",
       " [('min', 'NNP'), 2],\n",
       " [('california', 'NNP'), 3],\n",
       " [('room', 'NNP'), 1],\n",
       " [('w133', 'NNP'), 1],\n",
       " [('conference', 'NN'), 1],\n",
       " [('with', 'NNP'), 1],\n",
       " [('legal', 'NNP'), 1],\n",
       " [('counsel', 'NNP'), 2],\n",
       " [('anticipated', 'JJ'), 1],\n",
       " [('litigation', 'NN'), 1],\n",
       " [('existing', 'NN'), 1],\n",
       " [('litigation', 'NNP'), 1],\n",
       " [('case', 'NNP'), 4],\n",
       " [('nunez', 'NNP'), 3],\n",
       " [('name', 'NNP'), 1],\n",
       " [('parties', 'NNP'), 2],\n",
       " [('michael', 'NNP'), 1],\n",
       " [('santos', 'NNP'), 1],\n",
       " [('anthony', 'NNP'), 2],\n",
       " [('vizzusi', 'NNP'), 1],\n",
       " [('tony', 'NNP'), 1],\n",
       " [('estate', 'NNP'), 1],\n",
       " [('u.s.', 'NNP'), 2],\n",
       " [('northern', 'NNP'), 2],\n",
       " [('division', 'NNP'), 2],\n",
       " [('amerisourcebergen', 'NNP'), 2],\n",
       " [('drug', 'NNP'), 1],\n",
       " [('corporation', 'NNP'), 2],\n",
       " [('name', 'NN'), 4],\n",
       " [('cardinal', 'NNP'), 1],\n",
       " [('health', 'NNP'), 1],\n",
       " [('mckesson', 'NNP'), 1],\n",
       " [('purdue', 'NNP'), 3],\n",
       " [('pharma', 'NNP'), 4],\n",
       " [('frederick', 'NNP'), 1],\n",
       " [('company', 'NNP'), 1],\n",
       " [('teva', 'NNP'), 2],\n",
       " [('cephalon', 'NNP'), 1],\n",
       " [('johnson', 'NNP'), 2],\n",
       " [('janssen', 'NNP'), 2],\n",
       " [('pharmaceuticals', 'NNP'), 3],\n",
       " [('pharmaceutica', 'NNP'), 1],\n",
       " [('noramco', 'NNP'), 1],\n",
       " [('endo', 'NNP'), 2],\n",
       " [('solutions', 'NNP'), 1],\n",
       " [('allergan', 'NNP'), 1],\n",
       " [('watson', 'NNP'), 3],\n",
       " [('laboratories', 'NNP'), 1],\n",
       " [('actavis', 'NNP'), 2],\n",
       " [('mallinckrodt', 'NNP'), 2],\n",
       " [('insys', 'NNP'), 1],\n",
       " [('inc', 'NNP'), 1],\n",
       " [('cvs', 'NNP'), 1],\n",
       " [('kroger', 'NNP'), 1],\n",
       " [('rite', 'NNP'), 1],\n",
       " [('maryland', 'NNP'), 1],\n",
       " [('thrifty', 'NNP'), 1],\n",
       " [('payless', 'NNP'), 1],\n",
       " [('walgreens', 'NNP'), 1],\n",
       " [('employee', 'NNP'), 2],\n",
       " [('relations', 'NNP'), 1],\n",
       " [('organization', 'NN'), 3],\n",
       " [('unrepresented', 'NNP'), 3],\n",
       " [('popra', 'NNP'), 1],\n",
       " [('cont', 'NNP'), 1],\n",
       " [('peace', 'NNP'), 1],\n",
       " [('officer', 'NNP'), 1],\n",
       " [('park', 'NNP'), 1],\n",
       " [('ranger', 'NNP'), 1],\n",
       " [('association', 'NNP'), 2],\n",
       " [('how', 'NNP'), 1],\n",
       " [('telephone', 'NNP'), 3],\n",
       " [('employee', 'NN'), 3],\n",
       " [('relations', 'NNS'), 3],\n",
       " [('camp', 'NNP'), 1],\n",
       " [('employees', 'NNP'), 2],\n",
       " [('afscme', 'NNP'), 2],\n",
       " [('local', 'NNP'), 2],\n",
       " [('mef', 'NNP'), 1],\n",
       " [('agreement', 'NNP'), 1]]"
      ]
     },
     "execution_count": 92,
     "metadata": {},
     "output_type": "execute_result"
    }
   ],
   "source": [
    "sum_ls"
   ]
  }
 ],
 "metadata": {
  "kernelspec": {
   "display_name": "Python 3",
   "language": "python",
   "name": "python3"
  },
  "language_info": {
   "codemirror_mode": {
    "name": "ipython",
    "version": 3
   },
   "file_extension": ".py",
   "mimetype": "text/x-python",
   "name": "python",
   "nbconvert_exporter": "python",
   "pygments_lexer": "ipython3",
   "version": "3.8.8"
  }
 },
 "nbformat": 4,
 "nbformat_minor": 4
}
