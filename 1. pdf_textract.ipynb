{
 "cells": [
  {
   "cell_type": "markdown",
   "metadata": {},
   "source": [
    "### 1.3 pyPDF4 reading pdf files."
   ]
  },
  {
   "cell_type": "markdown",
   "metadata": {},
   "source": [
    "+ get a list of files from file directory filedir"
   ]
  },
  {
   "cell_type": "code",
   "execution_count": 6,
   "metadata": {},
   "outputs": [],
   "source": [
    "from os import listdir\n",
    "from os.path import isfile,join\n",
    "from tika import parser\n",
    "\n",
    "import pickle"
   ]
  },
  {
   "cell_type": "markdown",
   "metadata": {},
   "source": [
    "+ use Tika package parser to read and extract pdf contents and save them in contentDICT.\n",
    "+ need JAVA8 installed"
   ]
  },
  {
   "cell_type": "code",
   "execution_count": 20,
   "metadata": {},
   "outputs": [],
   "source": [
    "def dirPDF2pkl(filedir,filename):\n",
    "    minsFiles = [f for f in listdir(filedir) if isfile(join(filedir,f))]\n",
    "    contentDICT = {f:parser.from_file(join(filedir,f))['content'] for f in minsFiles}\n",
    "    with open(filename, 'wb') as handle:\n",
    "        pickle.dump(contentDICT, handle, protocol=pickle.HIGHEST_PROTOCOL)\n",
    "        \n",
    "    return contentDICTntDICT"
   ]
  },
  {
   "cell_type": "markdown",
   "metadata": {},
   "source": [
    "+ save the files contents dictionary with their file name"
   ]
  },
  {
   "cell_type": "code",
   "execution_count": 23,
   "metadata": {},
   "outputs": [],
   "source": [
    "fileDIR = './data'\n",
    "filename = \"council_minutes_dict.pkl\"\n",
    "\n",
    "content = dirPDF2pkl(fileDIR,filename)"
   ]
  },
  {
   "cell_type": "markdown",
   "metadata": {},
   "source": [
    "+ validate pickle file read."
   ]
  },
  {
   "cell_type": "code",
   "execution_count": 26,
   "metadata": {},
   "outputs": [
    {
     "data": {
      "text/plain": [
       "dict"
      ]
     },
     "execution_count": 26,
     "metadata": {},
     "output_type": "execute_result"
    }
   ],
   "source": [
    "with open(filename,'rb') as file:\n",
    "    check = pickle.load(file)\n",
    "type(check)"
   ]
  }
 ],
 "metadata": {
  "kernelspec": {
   "display_name": "Python 3",
   "language": "python",
   "name": "python3"
  },
  "language_info": {
   "codemirror_mode": {
    "name": "ipython",
    "version": 3
   },
   "file_extension": ".py",
   "mimetype": "text/x-python",
   "name": "python",
   "nbconvert_exporter": "python",
   "pygments_lexer": "ipython3",
   "version": "3.8.6"
  }
 },
 "nbformat": 4,
 "nbformat_minor": 4
}
