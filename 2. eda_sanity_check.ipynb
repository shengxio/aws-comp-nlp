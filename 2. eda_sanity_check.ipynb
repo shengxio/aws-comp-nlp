{
 "cells": [
  {
   "cell_type": "markdown",
   "metadata": {},
   "source": [
    "## Load Dataset"
   ]
  },
  {
   "cell_type": "code",
   "execution_count": 1,
   "metadata": {},
   "outputs": [],
   "source": [
    "import pickle"
   ]
  },
  {
   "cell_type": "code",
   "execution_count": 2,
   "metadata": {},
   "outputs": [],
   "source": [
    "def load_obj(name ):\n",
    "    with open('data/' + name + '.pkl', 'rb') as f:\n",
    "        return pickle.load(f)"
   ]
  },
  {
   "cell_type": "code",
   "execution_count": 3,
   "metadata": {},
   "outputs": [],
   "source": [
    "d = load_obj(\"council_minutes_dict\")"
   ]
  },
  {
   "cell_type": "markdown",
   "metadata": {},
   "source": [
    "## Pre-processing"
   ]
  },
  {
   "cell_type": "code",
   "execution_count": 4,
   "metadata": {},
   "outputs": [],
   "source": [
    "import re"
   ]
  },
  {
   "cell_type": "code",
   "execution_count": 5,
   "metadata": {},
   "outputs": [],
   "source": [
    "def clean_text(text):\n",
    "    text = text.decode(\"UTF-8\")\n",
    "    text = text.replace('\\n',\" \")\n",
    "    text = text.replace('\\x0c',\" \")\n",
    "    text = re.sub(r\"-\", \" \", text) # Split the words with \"-\" (for example：pre-processing ==> pre processing）\n",
    "    text = re.sub(r\"\\d+/\\d+/\\d+\", \"\", text) # Take out the dates\n",
    "    text = re.sub(r\"[0-2]?[0-9]:[0-6][0-9]\", \"\", text) # Take out the time\n",
    "    text = re.sub(r\"[\\w]+@[\\.\\w]+\", \"\", text) # Take out the emails\n",
    "    text = re.sub(r\"/[a-zA-Z]*[:\\//\\]*[A-Za-z0-9\\-_]+\\.+[A-Za-z0-9\\.\\/%&=\\?\\-_]+/i\", \"\", text) # Take out the websites\n",
    "    pure_text = ''\n",
    "    # Validate to check if there are any non-text content \n",
    "    for letter in text:\n",
    "        # Keep only letters and spaces\n",
    "        if letter.isalpha() or letter==' ':\n",
    "            pure_text += letter\n",
    "    # Join the words are not stand-alone letters\n",
    "    text = ' '.join(word for word in pure_text.split() if len(word)>1)\n",
    "    return text"
   ]
  },
  {
   "cell_type": "code",
   "execution_count": 6,
   "metadata": {},
   "outputs": [],
   "source": [
    "# stop_words = ENGLISH_STOP_WORDS.union(word for word in ['docx','fyi','fw','get','see','ok','pm','whose','would','pls','thx','yes','print','okay','pis'])"
   ]
  },
  {
   "cell_type": "code",
   "execution_count": 7,
   "metadata": {},
   "outputs": [],
   "source": [
    "text = clean_text(d['10'])"
   ]
  },
  {
   "cell_type": "markdown",
   "metadata": {},
   "source": [
    "## Lemmatization"
   ]
  },
  {
   "cell_type": "code",
   "execution_count": 8,
   "metadata": {},
   "outputs": [],
   "source": [
    "import spacy\n",
    "import string\n",
    "# Create our list of punctuation marks\n",
    "punctuations = string.punctuation\n",
    "# Load English tokenizer, tagger, parser, NER and word vectors\n",
    "parser = spacy.load('en_core_web_sm')\n",
    "# Create our list of stopwords\n",
    "stop_words = spacy.lang.en.stop_words.STOP_WORDS\n",
    "# Creating our tokenizer function\n",
    "def spacy_tokenizer(sentence):\n",
    "    # Creating our token object, which is used to create documents with linguistic annotations.\n",
    "    mytokens = parser(sentence)\n",
    "    # Lemmatizing each token and converting each token into lowercase\n",
    "    mytokens = [ word.lemma_.lower().strip() if word.lemma_ != \"-PRON-\" else word.lower_ for word in mytokens ]\n",
    "    # Removing stop words\n",
    "    mytokens = [ word for word in mytokens if word not in stop_words and word not in punctuations ]\n",
    "    # return preprocessed list of tokens\n",
    "    return ' '.join(mytokens)"
   ]
  },
  {
   "cell_type": "code",
   "execution_count": 9,
   "metadata": {},
   "outputs": [],
   "source": [
    "text = spacy_tokenizer(text)"
   ]
  },
  {
   "cell_type": "markdown",
   "metadata": {},
   "source": [
    "## Steminization"
   ]
  },
  {
   "cell_type": "code",
   "execution_count": 10,
   "metadata": {},
   "outputs": [],
   "source": [
    "import nltk\n",
    "from nltk.stem.porter import PorterStemmer\n",
    "\n",
    "def nltk_stemmer(text):\n",
    "    porter_stemmer = PorterStemmer()\n",
    "    word_data = text\n",
    "    # First Word tokenization\n",
    "    nltk_tokens = nltk.word_tokenize(word_data)\n",
    "    #Next find the roots of the word\n",
    "    t = []\n",
    "    for w in nltk_tokens:       \n",
    "        t.append(porter_stemmer.stem(w))\n",
    "    return t"
   ]
  },
  {
   "cell_type": "code",
   "execution_count": 11,
   "metadata": {},
   "outputs": [],
   "source": [
    "text = nltk_stemmer(text)"
   ]
  },
  {
   "cell_type": "markdown",
   "metadata": {},
   "source": [
    "## TF-IDF"
   ]
  },
  {
   "cell_type": "code",
   "execution_count": 12,
   "metadata": {},
   "outputs": [],
   "source": [
    "from sklearn.feature_extraction.text import CountVectorizer, TfidfVectorizer, ENGLISH_STOP_WORDS"
   ]
  },
  {
   "cell_type": "code",
   "execution_count": 13,
   "metadata": {},
   "outputs": [],
   "source": [
    "# text = [text]"
   ]
  },
  {
   "cell_type": "code",
   "execution_count": 14,
   "metadata": {},
   "outputs": [],
   "source": [
    "tfidf_vectorizer = TfidfVectorizer(stop_words=ENGLISH_STOP_WORDS)\n",
    "\n",
    "word_matrix = tfidf_vectorizer.fit_transform(text)\n",
    "\n",
    "vocab = tfidf_vectorizer.get_feature_names()"
   ]
  },
  {
   "cell_type": "markdown",
   "metadata": {},
   "source": [
    "## LDA"
   ]
  },
  {
   "cell_type": "code",
   "execution_count": 16,
   "metadata": {},
   "outputs": [],
   "source": [
    "from sklearn.decomposition import LatentDirichletAllocation\n",
    "import pyLDAvis\n",
    "import pyLDAvis.sklearn\n",
    "pyLDAvis.enable_notebook()"
   ]
  },
  {
   "cell_type": "code",
   "execution_count": 17,
   "metadata": {},
   "outputs": [
    {
     "name": "stderr",
     "output_type": "stream",
     "text": [
      "C:\\Users\\Silver\\AppData\\Local\\Packages\\PythonSoftwareFoundation.Python.3.8_qbz5n2kfra8p0\\LocalCache\\local-packages\\Python38\\site-packages\\ipykernel\\ipkernel.py:283: DeprecationWarning: `should_run_async` will not call `transform_cell` automatically in the future. Please pass the result to `transformed_cell` argument and any exception that happen during thetransform in `preprocessing_exc_tuple` in IPython 7.17 and above.\n",
      "  and should_run_async(code)\n"
     ]
    },
    {
     "data": {
      "text/plain": [
       "LatentDirichletAllocation(n_components=5, random_state=0)"
      ]
     },
     "execution_count": 17,
     "metadata": {},
     "output_type": "execute_result"
    }
   ],
   "source": [
    "lda_tfidf = LatentDirichletAllocation(n_components=5, random_state=0)\n",
    "lda_tfidf.fit(word_matrix)"
   ]
  },
  {
   "cell_type": "code",
   "execution_count": 18,
   "metadata": {},
   "outputs": [
    {
     "name": "stderr",
     "output_type": "stream",
     "text": [
      "C:\\Users\\Silver\\AppData\\Local\\Packages\\PythonSoftwareFoundation.Python.3.8_qbz5n2kfra8p0\\LocalCache\\local-packages\\Python38\\site-packages\\ipykernel\\ipkernel.py:283: DeprecationWarning: `should_run_async` will not call `transform_cell` automatically in the future. Please pass the result to `transformed_cell` argument and any exception that happen during thetransform in `preprocessing_exc_tuple` in IPython 7.17 and above.\n",
      "  and should_run_async(code)\n"
     ]
    },
    {
     "data": {
      "text/html": [
       "\n",
       "<link rel=\"stylesheet\" type=\"text/css\" href=\"https://cdn.jsdelivr.net/gh/bmabey/pyLDAvis@3.3.1/pyLDAvis/js/ldavis.v1.0.0.css\">\n",
       "\n",
       "\n",
       "<div id=\"ldavis_el1194818486319561928295581769\"></div>\n",
       "<script type=\"text/javascript\">\n",
       "\n",
       "var ldavis_el1194818486319561928295581769_data = {\"mdsDat\": {\"x\": [0.29784023494203615, -0.19193635241328375, -0.03342574865891253, -0.04375873914668553, -0.02871939472315452], \"y\": [0.11426592617241439, 0.24791460671559135, -0.10369374708829511, -0.17694985839704022, -0.0815369274026704], \"topics\": [1, 2, 3, 4, 5], \"cluster\": [1, 1, 1, 1, 1], \"Freq\": [21.17161293490895, 20.70236718264966, 19.67300380725712, 19.521690153623492, 18.93132592156078]}, \"tinfo\": {\"Term\": [\"citi\", \"san\", \"item\", \"project\", \"approv\", \"ceqa\", \"jos\\u00e9\", \"report\", \"action\", \"plan\", \"council\", \"amend\", \"resolut\", \"march\", \"district\", \"pp\", \"adopt\", \"file\", \"councilmemb\", \"servic\", \"agreement\", \"manag\", \"order\", \"committe\", \"chang\", \"meet\", \"relat\", \"ordin\", \"public\", \"accept\", \"citi\", \"approv\", \"plan\", \"resolut\", \"adopt\", \"relat\", \"street\", \"staff\", \"second\", \"support\", \"renumber\", \"present\", \"contract\", \"airport\", \"section\", \"approxim\", \"director\", \"drop\", \"annual\", \"regard\", \"build\", \"consult\", \"govern\", \"statu\", \"depart\", \"minut\", \"improv\", \"need\", \"industri\", \"eir\", \"declar\", \"item\", \"jos\\u00e9\", \"action\", \"amend\", \"councilmemb\", \"servic\", \"manag\", \"ordin\", \"public\", \"accept\", \"page\", \"defer\", \"mayor\", \"construct\", \"appropri\", \"master\", \"unanim\", \"concret\", \"local\", \"easement\", \"covid\", \"assess\", \"arena\", \"act\", \"jone\", \"facil\", \"pass\", \"use\", \"certain\", \"final\", \"file\", \"agreement\", \"committe\", \"meet\", \"recommend\", \"hous\", \"execut\", \"fund\", \"emerg\", \"open\", \"water\", \"referr\", \"esparza\", \"maya\", \"day\", \"environment\", \"homeless\", \"rezon\", \"peralez\", \"sch\", \"special\", \"enforc\", \"compens\", \"develop\", \"negoti\", \"sponsor\", \"year\", \"polic\", \"program\", \"determin\", \"llc\", \"agreementscontract\", \"san\", \"project\", \"ceqa\", \"march\", \"district\", \"environ\", \"motion\", \"author\", \"provid\", \"inform\", \"carri\", \"north\", \"impact\", \"technolog\", \"real\", \"new\", \"area\", \"commun\", \"land\", \"conting\", \"categor\", \"question\", \"award\", \"consist\", \"intergovernment\", \"document\", \"jose\", \"resid\", \"memorandum\", \"sam\", \"incorpor\", \"conserv\", \"report\", \"council\", \"pp\", \"order\", \"chang\", \"physic\", \"result\", \"rule\", \"avenu\", \"busi\", \"properti\", \"code\", \"event\", \"gener\", \"zone\", \"state\", \"exempt\", \"consent\", \"strateg\", \"administr\", \"guidelin\", \"raul\", \"aa\", \"locat\", \"governor\", \"major\", \"great\", \"cp\", \"exist\", \"asphalt\"], \"Freq\": [87.0, 46.0, 40.0, 37.0, 37.0, 35.0, 36.0, 30.0, 32.0, 32.0, 27.0, 28.0, 27.0, 25.0, 25.0, 23.0, 24.0, 23.0, 23.0, 22.0, 21.0, 20.0, 18.0, 19.0, 16.0, 16.0, 16.0, 16.0, 16.0, 16.0, 86.9546303087256, 36.78842628062692, 32.01069248692088, 27.232958650288637, 24.047802722565088, 16.084912645818317, 14.492334546762697, 12.899756395154931, 12.103467293020323, 11.307178168268548, 10.510889015582022, 9.714599827912647, 8.91831059568595, 8.918310595666448, 8.918310595654232, 8.918310595648876, 8.918310595625224, 8.12202130518935, 8.12202130512699, 7.325731936793691, 7.325731936787352, 5.733152830014712, 5.733152830014702, 5.733152830014698, 5.733152830014648, 5.733152830014642, 4.9368629653919776, 4.936862965391971, 4.936862965391968, 4.936862965391954, 4.936862965391951, 39.71067461982199, 35.675024753848874, 31.639374866394498, 27.603724947939792, 22.760944981356893, 21.95381497703462, 19.53242494001494, 15.496774759799608, 15.496774759793327, 15.496774759792723, 14.689644697015662, 12.268254422756133, 11.461124292358342, 10.653994134920293, 9.84686394356115, 9.846863943554418, 9.039733708894707, 8.232603417904718, 6.618342580365588, 6.618342580284376, 6.618342580243846, 6.618342580239308, 5.811211959315652, 5.811211959254929, 5.004081111568343, 5.00408111156834, 5.00408111156833, 5.004081111568329, 5.004081111568317, 5.004081111487202, 22.6828613260624, 21.014995573033023, 18.513196909245533, 16.01139818693482, 13.509599372870477, 13.50959937286642, 13.509599372865429, 11.841733416405647, 11.84173341640096, 11.007800402779935, 9.33993427218108, 9.339934272180058, 9.339934272178704, 8.506001134231658, 8.506001134201435, 7.672067926001891, 7.67206792598867, 7.672067925983209, 6.838134620702161, 6.838134620675133, 6.838134620565739, 6.004201175742288, 6.004201175701921, 6.004201175694881, 6.004201175692903, 6.0042011756922875, 6.004201175689564, 5.170267519914862, 5.170267519914865, 5.170267519914861, 5.1702675199148596, 5.170267519914855, 45.434247907515726, 37.05152495986384, 34.53670806226848, 25.315712676334694, 25.31571267633441, 11.903354909633242, 11.903354909625882, 11.903354909622811, 11.90335490962114, 11.065082443908604, 8.550264821567485, 8.550264821562685, 7.7119921633985395, 7.711992163355164, 7.711992163324246, 6.87371940915915, 6.873719409153461, 6.8737194090870535, 6.035446516972413, 6.035446516935162, 6.0354465169262355, 5.19717341618718, 5.197173416187174, 5.197173416187172, 5.197173416187165, 5.197173416187156, 5.197173416121668, 4.358899978423899, 4.358899978423877, 4.358899978423876, 4.358899978423874, 4.3588999784238736, 30.143030508866705, 26.717674059342922, 23.292317574956748, 18.154282739108172, 15.585265236203995, 13.016247630851419, 12.159908394799954, 12.15990839478677, 11.303569134948855, 11.303569134939025, 10.44722984526538, 10.447229845258386, 10.447229845254762, 10.44722984525415, 8.73455114014476, 7.878211696290598, 7.878211696272758, 7.021872160738529, 7.021872160715545, 7.021872160690113, 6.165532493200341, 6.1655324931976665, 6.165532493159102, 6.1655324930829085, 5.309192626332228, 5.309192626328735, 5.309192626322847, 4.452852437450766, 4.452852437450758, 4.452852437450755], \"Total\": [87.0, 46.0, 40.0, 37.0, 37.0, 35.0, 36.0, 30.0, 32.0, 32.0, 27.0, 28.0, 27.0, 25.0, 25.0, 23.0, 24.0, 23.0, 23.0, 22.0, 21.0, 20.0, 18.0, 19.0, 16.0, 16.0, 16.0, 16.0, 16.0, 16.0, 87.62189360515495, 37.45569006484925, 32.67795639806054, 27.900222733350695, 24.71506695865167, 16.752177534371405, 15.15959965356916, 13.567021775311929, 12.770732837458487, 11.97444390070037, 11.178154965295121, 10.381866031583995, 9.585577100030525, 9.585577100031605, 9.58557710003231, 9.585577100032618, 9.585577100033742, 8.789288171299253, 8.789288171302474, 7.992999246340589, 7.992999246340867, 6.400421414340876, 6.400421414340878, 6.400421414340877, 6.400421414340881, 6.400421414340881, 5.604132513413929, 5.604132513413929, 5.604132513413927, 5.60413251341393, 5.60413251341393, 40.375764257747, 36.34011447784215, 32.304464698616705, 28.268814920371668, 23.426035188515595, 22.6189052335191, 20.197515369290322, 16.161865599323963, 16.161865599324198, 16.161865599324212, 15.354735646176417, 12.933345789450899, 12.12621583844181, 11.319085888287947, 10.511955939206844, 10.511955939207008, 9.704825991495657, 8.897696045565288, 7.283436161787529, 7.283436161790241, 7.283436161791695, 7.2834361617917445, 6.47630622629644, 6.476306226298601, 5.669176297975277, 5.6691762979752784, 5.669176297975277, 5.669176297975278, 5.6691762979752784, 5.669176297978167, 23.342577914959143, 21.674712260726892, 19.17291377906468, 16.671115296866137, 14.169316813826734, 14.16931681382671, 14.169316813826663, 12.501451157730092, 12.501451157730108, 11.667518329357355, 9.999652671664904, 9.999652671664919, 9.999652671664881, 9.16571984215268, 9.165719842152788, 8.331787011996507, 8.33178701199666, 8.331787011996468, 7.497854180950855, 7.497854180950563, 7.497854180950003, 6.663921348625172, 6.663921348625107, 6.663921348624691, 6.663921348624942, 6.663921348624834, 6.663921348624911, 5.829988514367204, 5.829988514367206, 5.829988514367205, 5.829988514367206, 5.829988514367206, 46.09309406270207, 37.71037125213969, 35.195554408762426, 25.974559314893614, 25.974559314893593, 12.562202801523945, 12.562202801523878, 12.562202801523764, 12.562202801523751, 11.723930517787364, 9.209113663047088, 9.209113663047031, 8.370841376293262, 8.370841376292674, 8.370841376292306, 7.5325690880330365, 7.5325690880329965, 7.532569088032102, 6.69429679761005, 6.694296797609464, 6.694296797609404, 5.856024503916657, 5.8560245039166565, 5.856024503916658, 5.8560245039166565, 5.856024503916657, 5.856024503915935, 5.01775220494046, 5.017752204940459, 5.017752204940459, 5.01775220494046, 5.01775220494046, 30.798256049652323, 27.37289971212204, 23.947543373107955, 18.809508859936095, 16.240491599733303, 13.671474335170082, 12.815135245523892, 12.815135245523395, 11.958796154864746, 11.958796154864443, 11.102457062935903, 11.102457062935633, 11.102457062935468, 11.102457062935501, 9.389778873725936, 8.533439775235303, 8.533439775234648, 7.677100672841698, 7.677100672840873, 7.677100672839684, 6.820761564830762, 6.820761564830622, 6.82076156482896, 6.820761564826041, 5.964422448335853, 5.96442244833586, 5.964422448335565, 5.108083318135868, 5.108083318135867, 5.108083318135867], \"Category\": [\"Default\", \"Default\", \"Default\", \"Default\", \"Default\", \"Default\", \"Default\", \"Default\", \"Default\", \"Default\", \"Default\", \"Default\", \"Default\", \"Default\", \"Default\", \"Default\", \"Default\", \"Default\", \"Default\", \"Default\", \"Default\", \"Default\", \"Default\", \"Default\", \"Default\", \"Default\", \"Default\", \"Default\", \"Default\", \"Default\", \"Topic1\", \"Topic1\", \"Topic1\", \"Topic1\", \"Topic1\", \"Topic1\", \"Topic1\", \"Topic1\", \"Topic1\", \"Topic1\", \"Topic1\", \"Topic1\", \"Topic1\", \"Topic1\", \"Topic1\", \"Topic1\", \"Topic1\", \"Topic1\", \"Topic1\", \"Topic1\", \"Topic1\", \"Topic1\", \"Topic1\", \"Topic1\", \"Topic1\", \"Topic1\", \"Topic1\", \"Topic1\", \"Topic1\", \"Topic1\", \"Topic1\", \"Topic2\", \"Topic2\", \"Topic2\", \"Topic2\", \"Topic2\", \"Topic2\", \"Topic2\", \"Topic2\", \"Topic2\", \"Topic2\", \"Topic2\", \"Topic2\", \"Topic2\", \"Topic2\", \"Topic2\", \"Topic2\", \"Topic2\", \"Topic2\", \"Topic2\", \"Topic2\", \"Topic2\", \"Topic2\", \"Topic2\", \"Topic2\", \"Topic2\", \"Topic2\", \"Topic2\", \"Topic2\", \"Topic2\", \"Topic2\", \"Topic3\", \"Topic3\", \"Topic3\", \"Topic3\", \"Topic3\", \"Topic3\", \"Topic3\", \"Topic3\", \"Topic3\", \"Topic3\", \"Topic3\", \"Topic3\", \"Topic3\", \"Topic3\", \"Topic3\", \"Topic3\", \"Topic3\", \"Topic3\", \"Topic3\", \"Topic3\", \"Topic3\", \"Topic3\", \"Topic3\", \"Topic3\", \"Topic3\", \"Topic3\", \"Topic3\", \"Topic3\", \"Topic3\", \"Topic3\", \"Topic3\", \"Topic3\", \"Topic4\", \"Topic4\", \"Topic4\", \"Topic4\", \"Topic4\", \"Topic4\", \"Topic4\", \"Topic4\", \"Topic4\", \"Topic4\", \"Topic4\", \"Topic4\", \"Topic4\", \"Topic4\", \"Topic4\", \"Topic4\", \"Topic4\", \"Topic4\", \"Topic4\", \"Topic4\", \"Topic4\", \"Topic4\", \"Topic4\", \"Topic4\", \"Topic4\", \"Topic4\", \"Topic4\", \"Topic4\", \"Topic4\", \"Topic4\", \"Topic4\", \"Topic4\", \"Topic5\", \"Topic5\", \"Topic5\", \"Topic5\", \"Topic5\", \"Topic5\", \"Topic5\", \"Topic5\", \"Topic5\", \"Topic5\", \"Topic5\", \"Topic5\", \"Topic5\", \"Topic5\", \"Topic5\", \"Topic5\", \"Topic5\", \"Topic5\", \"Topic5\", \"Topic5\", \"Topic5\", \"Topic5\", \"Topic5\", \"Topic5\", \"Topic5\", \"Topic5\", \"Topic5\", \"Topic5\", \"Topic5\", \"Topic5\"], \"logprob\": [30.0, 29.0, 28.0, 27.0, 26.0, 25.0, 24.0, 23.0, 22.0, 21.0, 20.0, 19.0, 18.0, 17.0, 16.0, 15.0, 14.0, 13.0, 12.0, 11.0, 10.0, 9.0, 8.0, 7.0, 6.0, 5.0, 4.0, 3.0, 2.0, 1.0, -2.0847, -2.9449, -3.084, -3.2456, -3.37, -3.7722, -3.8765, -3.9929, -4.0566, -4.1246, -4.1977, -4.2764, -4.362, -4.362, -4.362, -4.362, -4.362, -4.4555, -4.4555, -4.5587, -4.5587, -4.8038, -4.8038, -4.8038, -4.8038, -4.8038, -4.9533, -4.9533, -4.9533, -4.9533, -4.9533, -2.846, -2.9532, -3.0733, -3.2097, -3.4026, -3.4387, -3.5556, -3.787, -3.787, -3.787, -3.8405, -4.0206, -4.0887, -4.1617, -4.2405, -4.2405, -4.326, -4.4196, -4.6378, -4.6378, -4.6378, -4.6378, -4.7679, -4.7679, -4.9174, -4.9174, -4.9174, -4.9174, -4.9174, -4.9174, -3.3551, -3.4314, -3.5582, -3.7034, -3.8733, -3.8733, -3.8733, -4.005, -4.005, -4.0781, -4.2424, -4.2424, -4.2424, -4.3359, -4.3359, -4.4391, -4.4391, -4.4391, -4.5541, -4.5541, -4.5541, -4.6842, -4.6842, -4.6842, -4.6842, -4.6842, -4.6842, -4.8337, -4.8337, -4.8337, -4.8337, -4.8337, -2.6527, -2.8566, -2.9269, -3.2375, -3.2375, -3.9921, -3.9921, -3.9921, -3.9921, -4.0651, -4.323, -4.323, -4.4262, -4.4262, -4.4262, -4.5412, -4.5412, -4.5412, -4.6713, -4.6713, -4.6713, -4.8208, -4.8208, -4.8208, -4.8208, -4.8208, -4.8208, -4.9967, -4.9967, -4.9967, -4.9967, -4.9967, -3.0323, -3.1529, -3.2901, -3.5393, -3.6919, -3.872, -3.9401, -3.9401, -4.0131, -4.0131, -4.0919, -4.0919, -4.0919, -4.0919, -4.2709, -4.3741, -4.3741, -4.4892, -4.4892, -4.4892, -4.6193, -4.6193, -4.6193, -4.6193, -4.7688, -4.7688, -4.7688, -4.9447, -4.9447, -4.9447], \"loglift\": [30.0, 29.0, 28.0, 27.0, 26.0, 25.0, 24.0, 23.0, 22.0, 21.0, 20.0, 19.0, 18.0, 17.0, 16.0, 15.0, 14.0, 13.0, 12.0, 11.0, 10.0, 9.0, 8.0, 7.0, 6.0, 5.0, 4.0, 3.0, 2.0, 1.0, 1.5449, 1.5345, 1.5319, 1.5283, 1.5251, 1.5119, 1.5075, 1.5021, 1.4988, 1.4952, 1.491, 1.4861, 1.4804, 1.4804, 1.4804, 1.4804, 1.4804, 1.4736, 1.4736, 1.4653, 1.4653, 1.4424, 1.4424, 1.4424, 1.4424, 1.4424, 1.4257, 1.4257, 1.4257, 1.4257, 1.4257, 1.5583, 1.5565, 1.5541, 1.5511, 1.5461, 1.5451, 1.5414, 1.5329, 1.5329, 1.5329, 1.5306, 1.5221, 1.5185, 1.5144, 1.5096, 1.5096, 1.5039, 1.4972, 1.4792, 1.4792, 1.4792, 1.4792, 1.4666, 1.4666, 1.4501, 1.4501, 1.4501, 1.4501, 1.4501, 1.4501, 1.5973, 1.595, 1.5909, 1.5855, 1.5782, 1.5782, 1.5782, 1.5717, 1.5717, 1.5677, 1.5577, 1.5577, 1.5577, 1.5512, 1.5512, 1.5434, 1.5434, 1.5434, 1.5338, 1.5338, 1.5338, 1.5217, 1.5217, 1.5217, 1.5217, 1.5217, 1.5217, 1.5058, 1.5058, 1.5058, 1.5058, 1.5058, 1.6192, 1.616, 1.6147, 1.608, 1.608, 1.5798, 1.5798, 1.5798, 1.5798, 1.5758, 1.5594, 1.5594, 1.5517, 1.5517, 1.5517, 1.5421, 1.5421, 1.5421, 1.53, 1.53, 1.53, 1.5143, 1.5143, 1.5143, 1.5143, 1.5143, 1.5143, 1.4929, 1.4929, 1.4929, 1.4929, 1.4929, 1.6428, 1.6401, 1.6366, 1.6289, 1.6232, 1.6152, 1.6119, 1.6119, 1.608, 1.608, 1.6035, 1.6035, 1.6035, 1.6035, 1.592, 1.5845, 1.5845, 1.5751, 1.5751, 1.5751, 1.5634, 1.5634, 1.5634, 1.5634, 1.548, 1.548, 1.548, 1.5271, 1.5271, 1.5271]}, \"token.table\": {\"Topic\": [5, 2, 2, 2, 5, 1, 3, 3, 1, 2, 1, 2, 1, 1, 4, 2, 5, 2, 4, 5, 4, 1, 5, 4, 4, 4, 2, 5, 1, 5, 3, 4, 3, 2, 5, 4, 4, 2, 1, 4, 1, 5, 2, 2, 5, 3, 1, 2, 1, 3, 3, 1, 4, 4, 1, 2, 1, 3, 3, 4, 3, 3, 5, 3, 5, 5, 2, 3, 2, 3, 5, 1, 5, 5, 5, 3, 3, 4, 1, 4, 1, 4, 4, 2, 2, 4, 2, 4, 3, 2, 5, 5, 2, 4, 2, 3, 2, 3, 4, 1, 4, 1, 3, 4, 4, 3, 5, 2, 2, 2, 3, 5, 1, 3, 5, 1, 3, 4, 5, 4, 2, 4, 5, 4, 3, 3, 1, 1, 1, 5, 4, 1, 5, 3, 5, 4, 4, 3, 1, 1, 2, 3, 3, 1, 5, 1, 5, 1, 1, 4, 2, 2, 3, 3, 5], \"Freq\": [0.8796671666311882, 0.9281106755786415, 0.9264540295570884, 0.9905751510988591, 0.9118025538944469, 0.9710675694365718, 0.968870993413397, 0.8576346227232158, 0.9389106055983135, 0.9904907608922103, 0.9101988516112665, 0.9512977468543811, 0.9878338894822045, 0.9389106055982144, 0.9292978156842809, 0.9264540295573975, 0.7830725833696369, 0.9610848292625086, 0.9552464794267157, 0.9198250273314748, 0.8538215638708264, 0.8757663780844901, 0.9198250273314981, 0.9772927481733463, 0.8962853278543993, 0.9944437752992537, 0.8819623411227709, 0.9851918522135591, 0.992902531780957, 0.9007015242944674, 0.990981351032127, 0.9292978156843913, 0.9003707706181007, 0.8991091580372977, 0.9118025538942076, 0.7971696960367264, 0.8538215638708261, 0.9718099242785929, 0.9374382734481067, 0.8962853278543912, 0.9389106055984193, 0.9863770475162007, 0.9818136024689122, 0.9610848292625152, 0.7830725833696368, 0.9819196042420314, 0.8921987458419494, 0.9278341579475758, 0.9374382734481059, 0.8576346227232159, 0.9003707706181568, 0.9389106055981042, 0.9624802367932845, 0.8538215638708263, 0.9101988516116, 0.9610848292627071, 0.8921987458419494, 0.9598885640232221, 0.9003707706180919, 0.9552464794267019, 0.9601781692788373, 0.9000312606359312, 0.9007015242944808, 0.9880504602973207, 0.937488306089325, 0.7830725833696369, 0.8819623411227709, 0.9853239039746505, 0.8819623411223215, 0.9598885640232233, 0.900701524294478, 0.9374382734481065, 0.8383041347775527, 0.8383041347775932, 0.8796671666309557, 0.9601781692788197, 0.9880504602973175, 0.9556984346467838, 0.8921987458419496, 0.7971696960367264, 0.8921987458419498, 0.9382518928537636, 0.8538215638708264, 0.9906933214849326, 0.8819623411227712, 0.8538215638709316, 0.9906407978420231, 0.8962853278543129, 0.8576346227232158, 0.9610848292630648, 0.8796671666315645, 0.8383041347775517, 0.9902208085658577, 0.9624802367932838, 0.9512977468543663, 0.981919604242043, 0.9071255325283303, 0.959743827277573, 0.7971696960367265, 0.9374382734481059, 0.955246479426707, 0.8921987458419496, 0.900370770618123, 0.929297815684276, 0.9772927481733523, 0.9427883196311103, 0.956962785899193, 0.9281106755786558, 0.9768973133533072, 0.8819623411227712, 0.933600445015894, 0.9508850092749175, 0.9792534028198662, 0.8576346227232161, 0.9604325438169159, 0.9632179773441237, 0.8576346227232158, 0.981162443419345, 0.9007015242944455, 0.9552464794267166, 0.9281106755786424, 0.8538215638708263, 0.8796671666309737, 0.955698434646893, 0.9880504602973157, 0.9000312606359278, 0.8757663780845205, 0.9550997156740896, 0.9840622208362435, 0.974081128218254, 0.7971696960367264, 0.9677342097963035, 0.9363927707428132, 0.9601781692788418, 0.9363927707428495, 0.7971696960367265, 0.9762850794694949, 0.9336004450159304, 0.9396485035535461, 0.9389106055982445, 0.9726377016425206, 0.9336004450160001, 0.9003707706181375, 0.9582058771112356, 0.9374883060892529, 0.9374382734481066, 0.9118025538943056, 0.9235072376534598, 0.9186230351253827, 0.955698434646851, 0.9273736600621901, 0.881962341122771, 0.9000312606359291, 0.9003707706181271, 0.9584890252509994], \"Term\": [\"aa\", \"accept\", \"act\", \"action\", \"administr\", \"adopt\", \"agreement\", \"agreementscontract\", \"airport\", \"amend\", \"annual\", \"appropri\", \"approv\", \"approxim\", \"area\", \"arena\", \"asphalt\", \"assess\", \"author\", \"avenu\", \"award\", \"build\", \"busi\", \"carri\", \"categor\", \"ceqa\", \"certain\", \"chang\", \"citi\", \"code\", \"committe\", \"commun\", \"compens\", \"concret\", \"consent\", \"conserv\", \"consist\", \"construct\", \"consult\", \"conting\", \"contract\", \"council\", \"councilmemb\", \"covid\", \"cp\", \"day\", \"declar\", \"defer\", \"depart\", \"determin\", \"develop\", \"director\", \"district\", \"document\", \"drop\", \"easement\", \"eir\", \"emerg\", \"enforc\", \"environ\", \"environment\", \"esparza\", \"event\", \"execut\", \"exempt\", \"exist\", \"facil\", \"file\", \"final\", \"fund\", \"gener\", \"govern\", \"governor\", \"great\", \"guidelin\", \"homeless\", \"hous\", \"impact\", \"improv\", \"incorpor\", \"industri\", \"inform\", \"intergovernment\", \"item\", \"jone\", \"jose\", \"jos\\u00e9\", \"land\", \"llc\", \"local\", \"locat\", \"major\", \"manag\", \"march\", \"master\", \"maya\", \"mayor\", \"meet\", \"memorandum\", \"minut\", \"motion\", \"need\", \"negoti\", \"new\", \"north\", \"open\", \"order\", \"ordin\", \"page\", \"pass\", \"peralez\", \"physic\", \"plan\", \"polic\", \"pp\", \"present\", \"program\", \"project\", \"properti\", \"provid\", \"public\", \"question\", \"raul\", \"real\", \"recommend\", \"referr\", \"regard\", \"relat\", \"renumber\", \"report\", \"resid\", \"resolut\", \"result\", \"rezon\", \"rule\", \"sam\", \"san\", \"sch\", \"second\", \"section\", \"servic\", \"special\", \"sponsor\", \"staff\", \"state\", \"statu\", \"strateg\", \"street\", \"support\", \"technolog\", \"unanim\", \"use\", \"water\", \"year\", \"zone\"]}, \"R\": 30, \"lambda.step\": 0.01, \"plot.opts\": {\"xlab\": \"PC1\", \"ylab\": \"PC2\"}, \"topic.order\": [4, 5, 2, 3, 1]};\n",
       "\n",
       "function LDAvis_load_lib(url, callback){\n",
       "  var s = document.createElement('script');\n",
       "  s.src = url;\n",
       "  s.async = true;\n",
       "  s.onreadystatechange = s.onload = callback;\n",
       "  s.onerror = function(){console.warn(\"failed to load library \" + url);};\n",
       "  document.getElementsByTagName(\"head\")[0].appendChild(s);\n",
       "}\n",
       "\n",
       "if(typeof(LDAvis) !== \"undefined\"){\n",
       "   // already loaded: just create the visualization\n",
       "   !function(LDAvis){\n",
       "       new LDAvis(\"#\" + \"ldavis_el1194818486319561928295581769\", ldavis_el1194818486319561928295581769_data);\n",
       "   }(LDAvis);\n",
       "}else if(typeof define === \"function\" && define.amd){\n",
       "   // require.js is available: use it to load d3/LDAvis\n",
       "   require.config({paths: {d3: \"https://d3js.org/d3.v5\"}});\n",
       "   require([\"d3\"], function(d3){\n",
       "      window.d3 = d3;\n",
       "      LDAvis_load_lib(\"https://cdn.jsdelivr.net/gh/bmabey/pyLDAvis@3.3.1/pyLDAvis/js/ldavis.v3.0.0.js\", function(){\n",
       "        new LDAvis(\"#\" + \"ldavis_el1194818486319561928295581769\", ldavis_el1194818486319561928295581769_data);\n",
       "      });\n",
       "    });\n",
       "}else{\n",
       "    // require.js not available: dynamically load d3 & LDAvis\n",
       "    LDAvis_load_lib(\"https://d3js.org/d3.v5.js\", function(){\n",
       "         LDAvis_load_lib(\"https://cdn.jsdelivr.net/gh/bmabey/pyLDAvis@3.3.1/pyLDAvis/js/ldavis.v3.0.0.js\", function(){\n",
       "                 new LDAvis(\"#\" + \"ldavis_el1194818486319561928295581769\", ldavis_el1194818486319561928295581769_data);\n",
       "            })\n",
       "         });\n",
       "}\n",
       "</script>"
      ],
      "text/plain": [
       "PreparedData(topic_coordinates=              x         y  topics  cluster       Freq\n",
       "topic                                                \n",
       "3      0.297840  0.114266       1        1  21.171613\n",
       "4     -0.191936  0.247915       2        1  20.702367\n",
       "1     -0.033426 -0.103694       3        1  19.673004\n",
       "2     -0.043759 -0.176950       4        1  19.521690\n",
       "0     -0.028719 -0.081537       5        1  18.931326, topic_info=        Term       Freq      Total Category  logprob  loglift\n",
       "109     citi  87.000000  87.000000  Default  30.0000  30.0000\n",
       "574      san  46.000000  46.000000  Default  29.0000  29.0000\n",
       "342     item  40.000000  40.000000  Default  28.0000  28.0000\n",
       "505  project  37.000000  37.000000  Default  27.0000  27.0000\n",
       "42    approv  37.000000  37.000000  Default  26.0000  26.0000\n",
       "..       ...        ...        ...      ...      ...      ...\n",
       "393    major   5.309193   5.964422   Topic5  -4.7688   1.5480\n",
       "280    great   5.309193   5.964422   Topic5  -4.7688   1.5480\n",
       "166       cp   4.452852   5.108083   Topic5  -4.9447   1.5271\n",
       "238    exist   4.452852   5.108083   Topic5  -4.9447   1.5271\n",
       "48   asphalt   4.452852   5.108083   Topic5  -4.9447   1.5271\n",
       "\n",
       "[185 rows x 6 columns], token_table=      Topic      Freq       Term\n",
       "term                            \n",
       "0         5  0.879667         aa\n",
       "4         2  0.928111     accept\n",
       "8         2  0.926454        act\n",
       "9         2  0.990575     action\n",
       "14        5  0.911803  administr\n",
       "...     ...       ...        ...\n",
       "674       2  0.927374     unanim\n",
       "683       2  0.881962        use\n",
       "693       3  0.900031      water\n",
       "699       3  0.900371       year\n",
       "700       5  0.958489       zone\n",
       "\n",
       "[155 rows x 3 columns], R=30, lambda_step=0.01, plot_opts={'xlab': 'PC1', 'ylab': 'PC2'}, topic_order=[4, 5, 2, 3, 1])"
      ]
     },
     "execution_count": 18,
     "metadata": {},
     "output_type": "execute_result"
    }
   ],
   "source": [
    "pyLDAvis.sklearn.prepare(lda_tfidf, word_matrix, tfidf_vectorizer)"
   ]
  },
  {
   "cell_type": "code",
   "execution_count": null,
   "metadata": {},
   "outputs": [],
   "source": []
  }
 ],
 "metadata": {
  "kernelspec": {
   "display_name": "Python 3",
   "language": "python",
   "name": "python3"
  },
  "language_info": {
   "codemirror_mode": {
    "name": "ipython",
    "version": 3
   },
   "file_extension": ".py",
   "mimetype": "text/x-python",
   "name": "python",
   "nbconvert_exporter": "python",
   "pygments_lexer": "ipython3",
   "version": "3.8.8"
  }
 },
 "nbformat": 4,
 "nbformat_minor": 4
}
