{
 "cells": [
  {
   "cell_type": "markdown",
   "metadata": {},
   "source": [
    "## Load Dataset"
   ]
  },
  {
   "cell_type": "code",
   "execution_count": 1,
   "metadata": {},
   "outputs": [],
   "source": [
    "import pickle"
   ]
  },
  {
   "cell_type": "code",
   "execution_count": 2,
   "metadata": {},
   "outputs": [],
   "source": [
    "def load_obj(name ):\n",
    "    with open('data/' + name + '.pkl', 'rb') as f:\n",
    "        return pickle.load(f)"
   ]
  },
  {
   "cell_type": "code",
   "execution_count": 3,
   "metadata": {},
   "outputs": [],
   "source": [
    "d = load_obj(\"council_minutes_dict\")"
   ]
  },
  {
   "cell_type": "markdown",
   "metadata": {},
   "source": [
    "## Pre-processing"
   ]
  },
  {
   "cell_type": "code",
   "execution_count": 6,
   "metadata": {},
   "outputs": [],
   "source": [
    "import re"
   ]
  },
  {
   "cell_type": "code",
   "execution_count": 7,
   "metadata": {},
   "outputs": [],
   "source": [
    "def clean_text(text):\n",
    "    text = text.decode(\"UTF-8\")\n",
    "    text = text.replace('\\n',\" \")\n",
    "    text = text.replace('\\x0c',\" \")\n",
    "    text = re.sub(r\"-\", \" \", text) # Split the words with \"-\" (for example：pre-processing ==> pre processing）\n",
    "    text = re.sub(r\"\\d+/\\d+/\\d+\", \"\", text) # Take out the dates\n",
    "    text = re.sub(r\"[0-2]?[0-9]:[0-6][0-9]\", \"\", text) # Take out the time\n",
    "    text = re.sub(r\"[\\w]+@[\\.\\w]+\", \"\", text) # Take out the emails\n",
    "    text = re.sub(r\"/[a-zA-Z]*[:\\//\\]*[A-Za-z0-9\\-_]+\\.+[A-Za-z0-9\\.\\/%&=\\?\\-_]+/i\", \"\", text) # Take out the websites\n",
    "    pure_text = ''\n",
    "    # Validate to check if there are any non-text content \n",
    "    for letter in text:\n",
    "        # Keep only letters and spaces\n",
    "        if letter.isalpha() or letter==' ':\n",
    "            pure_text += letter\n",
    "    # Join the words are not stand-alone letters\n",
    "    text = ' '.join(word for word in pure_text.split() if len(word)>1)\n",
    "    return text"
   ]
  },
  {
   "cell_type": "code",
   "execution_count": 16,
   "metadata": {},
   "outputs": [],
   "source": [
    "# stop_words = ENGLISH_STOP_WORDS.union(word for word in ['docx','fyi','fw','get','see','ok','pm','whose','would','pls','thx','yes','print','okay','pis'])"
   ]
  },
  {
   "cell_type": "code",
   "execution_count": 8,
   "metadata": {},
   "outputs": [],
   "source": [
    "text = clean_text(d['10'])"
   ]
  },
  {
   "cell_type": "markdown",
   "metadata": {},
   "source": [
    "## Lemmatization"
   ]
  },
  {
   "cell_type": "code",
   "execution_count": 9,
   "metadata": {},
   "outputs": [],
   "source": [
    "import spacy\n",
    "import string\n",
    "# Create our list of punctuation marks\n",
    "punctuations = string.punctuation\n",
    "# Load English tokenizer, tagger, parser, NER and word vectors\n",
    "parser = spacy.load('en_core_web_sm')\n",
    "# Create our list of stopwords\n",
    "stop_words = spacy.lang.en.stop_words.STOP_WORDS\n",
    "# Creating our tokenizer function\n",
    "def spacy_tokenizer(sentence):\n",
    "    # Creating our token object, which is used to create documents with linguistic annotations.\n",
    "    mytokens = parser(sentence)\n",
    "    # Lemmatizing each token and converting each token into lowercase\n",
    "    mytokens = [ word.lemma_.lower().strip() if word.lemma_ != \"-PRON-\" else word.lower_ for word in mytokens ]\n",
    "    # Removing stop words\n",
    "    mytokens = [ word for word in mytokens if word not in stop_words and word not in punctuations ]\n",
    "    # return preprocessed list of tokens\n",
    "    return ' '.join(mytokens)"
   ]
  },
  {
   "cell_type": "code",
   "execution_count": 10,
   "metadata": {},
   "outputs": [],
   "source": [
    "text = spacy_tokenizer(text)"
   ]
  },
  {
   "cell_type": "markdown",
   "metadata": {},
   "source": [
    "## Steminization"
   ]
  },
  {
   "cell_type": "code",
   "execution_count": 12,
   "metadata": {},
   "outputs": [],
   "source": [
    "import nltk\n",
    "from nltk.stem.porter import PorterStemmer\n",
    "\n",
    "def nltk_stemmer(text):\n",
    "    porter_stemmer = PorterStemmer()\n",
    "    word_data = text\n",
    "    # First Word tokenization\n",
    "    nltk_tokens = nltk.word_tokenize(word_data)\n",
    "    #Next find the roots of the word\n",
    "    t = []\n",
    "    for w in nltk_tokens:       \n",
    "        t.append(porter_stemmer.stem(w))\n",
    "    return t"
   ]
  },
  {
   "cell_type": "code",
   "execution_count": 14,
   "metadata": {},
   "outputs": [],
   "source": [
    "text = nltk_stemmer(text)"
   ]
  },
  {
   "cell_type": "markdown",
   "metadata": {},
   "source": [
    "## TF-IDF"
   ]
  },
  {
   "cell_type": "code",
   "execution_count": 15,
   "metadata": {},
   "outputs": [],
   "source": [
    "from sklearn.feature_extraction.text import CountVectorizer, TfidfVectorizer, ENGLISH_STOP_WORDS"
   ]
  },
  {
   "cell_type": "code",
   "execution_count": 77,
   "metadata": {},
   "outputs": [],
   "source": [
    "# text = [text]"
   ]
  },
  {
   "cell_type": "code",
   "execution_count": 16,
   "metadata": {},
   "outputs": [],
   "source": [
    "tfidf_vectorizer = TfidfVectorizer(stop_words=ENGLISH_STOP_WORDS)\n",
    "\n",
    "word_matrix = tfidf_vectorizer.fit_transform(text)\n",
    "\n",
    "vocab = tfidf_vectorizer.get_feature_names()"
   ]
  },
  {
   "cell_type": "markdown",
   "metadata": {},
   "source": [
    "## LDA"
   ]
  },
  {
   "cell_type": "code",
   "execution_count": 19,
   "metadata": {},
   "outputs": [],
   "source": [
    "from sklearn.decomposition import LatentDirichletAllocation\n",
    "import pyLDAvis\n",
    "import pyLDAvis.sklearn\n",
    "pyLDAvis.enable_notebook()"
   ]
  },
  {
   "cell_type": "code",
   "execution_count": 27,
   "metadata": {},
   "outputs": [
    {
     "name": "stderr",
     "output_type": "stream",
     "text": [
      "/opt/anaconda3/envs/metis/lib/python3.8/site-packages/ipykernel/ipkernel.py:287: DeprecationWarning: `should_run_async` will not call `transform_cell` automatically in the future. Please pass the result to `transformed_cell` argument and any exception that happen during thetransform in `preprocessing_exc_tuple` in IPython 7.17 and above.\n",
      "  and should_run_async(code)\n"
     ]
    },
    {
     "data": {
      "text/plain": [
       "LatentDirichletAllocation(n_components=4, random_state=0)"
      ]
     },
     "execution_count": 27,
     "metadata": {},
     "output_type": "execute_result"
    }
   ],
   "source": [
    "lda_tfidf = LatentDirichletAllocation(n_components=4, random_state=0)\n",
    "lda_tfidf.fit(word_matrix)"
   ]
  },
  {
   "cell_type": "code",
   "execution_count": 28,
   "metadata": {},
   "outputs": [
    {
     "name": "stderr",
     "output_type": "stream",
     "text": [
      "/opt/anaconda3/envs/metis/lib/python3.8/site-packages/ipykernel/ipkernel.py:287: DeprecationWarning: `should_run_async` will not call `transform_cell` automatically in the future. Please pass the result to `transformed_cell` argument and any exception that happen during thetransform in `preprocessing_exc_tuple` in IPython 7.17 and above.\n",
      "  and should_run_async(code)\n"
     ]
    },
    {
     "data": {
      "text/html": [
       "\n",
       "<link rel=\"stylesheet\" type=\"text/css\" href=\"https://cdn.rawgit.com/bmabey/pyLDAvis/files/ldavis.v1.0.0.css\">\n",
       "\n",
       "\n",
       "<div id=\"ldavis_el625521403382020400161497819045\"></div>\n",
       "<script type=\"text/javascript\">\n",
       "\n",
       "var ldavis_el625521403382020400161497819045_data = {\"mdsDat\": {\"x\": [0.29669354879054993, -0.1635044223696628, -0.061865108484179934, -0.07132401793670715], \"y\": [0.06392396031562098, 0.24292135155293615, -0.11973387683421043, -0.18711143503434677], \"topics\": [1, 2, 3, 4], \"cluster\": [1, 1, 1, 1], \"Freq\": [27.228210171504674, 25.094739519887057, 23.883805792848452, 23.793244515759827]}, \"tinfo\": {\"Term\": [\"citi\", \"san\", \"item\", \"project\", \"ceqa\", \"approv\", \"jos\\u00e9\", \"action\", \"report\", \"plan\", \"amend\", \"council\", \"councilmemb\", \"resolut\", \"march\", \"district\", \"pp\", \"file\", \"servic\", \"agreement\", \"adopt\", \"manag\", \"order\", \"public\", \"ordin\", \"accept\", \"meet\", \"committe\", \"page\", \"relat\", \"citi\", \"approv\", \"jos\\u00e9\", \"plan\", \"resolut\", \"adopt\", \"committe\", \"relat\", \"chang\", \"street\", \"staff\", \"second\", \"defer\", \"support\", \"mayor\", \"renumber\", \"construct\", \"master\", \"present\", \"properti\", \"director\", \"airport\", \"section\", \"approxim\", \"contract\", \"annual\", \"drop\", \"regard\", \"build\", \"local\", \"san\", \"project\", \"ceqa\", \"action\", \"amend\", \"march\", \"district\", \"servic\", \"page\", \"author\", \"environ\", \"motion\", \"emerg\", \"provid\", \"inform\", \"carri\", \"north\", \"impact\", \"technolog\", \"real\", \"new\", \"commun\", \"area\", \"covid\", \"conting\", \"arena\", \"categor\", \"land\", \"jose\", \"intergovernment\", \"councilmemb\", \"file\", \"agreement\", \"order\", \"meet\", \"execut\", \"hous\", \"recommend\", \"fund\", \"open\", \"appropri\", \"unanim\", \"esparza\", \"water\", \"referr\", \"day\", \"maya\", \"homeless\", \"environment\", \"rezon\", \"peralez\", \"strateg\", \"special\", \"sch\", \"assess\", \"negoti\", \"enforc\", \"sponsor\", \"compens\", \"act\", \"item\", \"report\", \"council\", \"pp\", \"manag\", \"public\", \"ordin\", \"accept\", \"physic\", \"rule\", \"result\", \"busi\", \"avenu\", \"event\", \"gener\", \"code\", \"concret\", \"zone\", \"state\", \"exempt\", \"administr\", \"easement\", \"consent\", \"guidelin\", \"locat\", \"raul\", \"aa\", \"increas\", \"final\", \"major\"], \"Freq\": [86.0, 45.0, 42.0, 37.0, 34.0, 36.0, 35.0, 32.0, 30.0, 32.0, 28.0, 27.0, 24.0, 27.0, 25.0, 25.0, 23.0, 23.0, 23.0, 22.0, 24.0, 21.0, 18.0, 17.0, 17.0, 17.0, 16.0, 18.0, 15.0, 16.0, 85.57152504541111, 36.22548817705293, 34.658947207391144, 31.525865209269327, 26.82624201322377, 23.69315968765793, 17.426994187105674, 15.860452509614547, 14.293910630593047, 14.293910630381804, 12.727368473655769, 11.944097256121113, 11.94409725612068, 11.160825919234345, 11.160825919233796, 10.377554435286045, 10.377554435285782, 9.594282767272196, 9.594282767272109, 9.59428276727122, 8.811010864643356, 8.811010864643166, 8.811010864642792, 8.811010864641903, 8.811010864641643, 8.027738656493646, 8.027738656492494, 7.244466040163431, 7.244466040162501, 6.4611928612571745, 44.64198206024779, 36.4129194524902, 33.9442006002502, 32.29838800725709, 28.183856412170357, 24.89223097784986, 24.892230977756302, 22.42351176832306, 15.017352841670974, 11.725725306591412, 11.725725306591086, 11.725725306589787, 11.725725306324346, 11.725725306310418, 10.902818153140247, 8.434095524408093, 8.434095524408022, 7.611187373948632, 7.61118737394852, 7.6111873739473985, 6.788278728240107, 6.788278728238788, 6.788278728238423, 6.788278728237972, 5.965369373090174, 5.965369373089246, 5.965369373088861, 5.965369373088306, 5.142458950256151, 5.142458950254342, 24.033428586452516, 23.182665236367882, 21.481138485066282, 18.07808470851324, 16.376557625815487, 13.824266621333063, 13.824266621014422, 13.824266620981652, 12.12273890238905, 11.271974875172672, 10.421210698618607, 9.570446331734066, 9.57044633173381, 9.570446331733805, 9.570446331733732, 8.719681717010541, 8.719681717010038, 7.868916771209204, 7.8689167712085295, 7.868916771208101, 7.018151369151602, 7.01815136915133, 7.018151369150803, 7.018151369150693, 7.018151369148916, 6.167385313553194, 6.167385313552454, 6.1673853135523045, 6.167385313551897, 6.1673853135516, 42.011639600319434, 30.069065993578, 26.656901889025477, 23.24473760950105, 20.685614231827067, 16.42040808125004, 16.420408081094326, 16.420408080915532, 13.008242312741109, 12.155200668041, 12.155200668040779, 11.30215890478652, 11.302158904786278, 10.4491169931586, 10.449116993158484, 10.449116993158398, 8.743032545453351, 8.743032545452403, 7.889989869539486, 7.889989869539166, 7.036946740316092, 7.036946740315741, 7.036946740315129, 6.1839029617773, 6.183902961776477, 6.183902961775726, 6.18390296177554, 5.330858206117172, 5.330858206115839, 5.330858206114771], \"Total\": [86.0, 45.0, 42.0, 37.0, 34.0, 36.0, 35.0, 32.0, 30.0, 32.0, 28.0, 27.0, 24.0, 27.0, 25.0, 25.0, 23.0, 23.0, 23.0, 22.0, 24.0, 21.0, 18.0, 17.0, 17.0, 17.0, 16.0, 18.0, 15.0, 16.0, 86.20402544791509, 36.857991251501794, 35.291450492231235, 32.158368978159736, 27.4587467221666, 24.325665232982765, 18.05950231917412, 16.492961613703212, 14.926420923549452, 14.926420923565662, 13.359880254519403, 12.576609930574325, 12.57660993057436, 11.793339615700823, 11.793339615700866, 11.010069312005006, 11.010069312005028, 10.22679902229948, 10.226799022299488, 10.226799022299549, 9.443528750426374, 9.443528750426381, 9.443528750426418, 9.443528750426488, 9.443528750426507, 8.660258501775122, 8.660258501775203, 7.876988284148691, 7.876988284148757, 7.0937181092824755, 45.26443695308376, 37.035375087142185, 34.56665652815834, 32.92084415578516, 28.806313226137053, 25.514688484222894, 25.514688484224152, 23.045969929316108, 15.639814279395795, 12.348189561449715, 12.348189561449725, 12.348189561449741, 12.348189561453367, 12.348189561454198, 11.52528338504179, 9.056564869154029, 9.05656486915403, 8.23365870412693, 8.23365870412693, 8.233658704126949, 7.410752544754215, 7.410752544754226, 7.41075254475423, 7.410752544754236, 6.587846393482451, 6.5878463934824785, 6.587846393482492, 6.587846393482496, 5.76494025440452, 5.764940254404547, 24.648841909431674, 23.79807876528527, 22.096552475281925, 18.693499886132145, 16.991973585064002, 14.439684120757816, 14.439684120747811, 14.439684120747595, 12.738157798449377, 11.887394631694999, 11.036631459955055, 10.185868281861083, 10.185868281861076, 10.185868281861076, 10.185868281861072, 9.335105095493391, 9.335105095493375, 8.484341898073401, 8.484341898073376, 8.484341898073367, 7.633578685422722, 7.6335786854227194, 7.633578685422695, 7.633578685422697, 7.6335786854226475, 6.782815450956391, 6.782815450956357, 6.78281545095637, 6.782815450956353, 6.782815450956331, 42.62647507211385, 30.683902720579393, 27.27173918353638, 23.859575640011496, 21.300452976145277, 17.03524851706128, 17.035248517057155, 17.03524851705084, 13.62308491838574, 12.770044011214674, 12.77004401121467, 11.917003099652836, 11.917003099652826, 11.063962182595878, 11.06396218259588, 11.063962182595873, 9.35788032535548, 9.357880325355456, 8.504839379993552, 8.504839379993543, 7.651798417844146, 7.651798417844135, 7.651798417844115, 6.798757431649229, 6.798757431649211, 6.79875743164917, 6.798757431649184, 5.945716409270801, 5.945716409270773, 5.9457164092707755], \"Category\": [\"Default\", \"Default\", \"Default\", \"Default\", \"Default\", \"Default\", \"Default\", \"Default\", \"Default\", \"Default\", \"Default\", \"Default\", \"Default\", \"Default\", \"Default\", \"Default\", \"Default\", \"Default\", \"Default\", \"Default\", \"Default\", \"Default\", \"Default\", \"Default\", \"Default\", \"Default\", \"Default\", \"Default\", \"Default\", \"Default\", \"Topic1\", \"Topic1\", \"Topic1\", \"Topic1\", \"Topic1\", \"Topic1\", \"Topic1\", \"Topic1\", \"Topic1\", \"Topic1\", \"Topic1\", \"Topic1\", \"Topic1\", \"Topic1\", \"Topic1\", \"Topic1\", \"Topic1\", \"Topic1\", \"Topic1\", \"Topic1\", \"Topic1\", \"Topic1\", \"Topic1\", \"Topic1\", \"Topic1\", \"Topic1\", \"Topic1\", \"Topic1\", \"Topic1\", \"Topic1\", \"Topic2\", \"Topic2\", \"Topic2\", \"Topic2\", \"Topic2\", \"Topic2\", \"Topic2\", \"Topic2\", \"Topic2\", \"Topic2\", \"Topic2\", \"Topic2\", \"Topic2\", \"Topic2\", \"Topic2\", \"Topic2\", \"Topic2\", \"Topic2\", \"Topic2\", \"Topic2\", \"Topic2\", \"Topic2\", \"Topic2\", \"Topic2\", \"Topic2\", \"Topic2\", \"Topic2\", \"Topic2\", \"Topic2\", \"Topic2\", \"Topic3\", \"Topic3\", \"Topic3\", \"Topic3\", \"Topic3\", \"Topic3\", \"Topic3\", \"Topic3\", \"Topic3\", \"Topic3\", \"Topic3\", \"Topic3\", \"Topic3\", \"Topic3\", \"Topic3\", \"Topic3\", \"Topic3\", \"Topic3\", \"Topic3\", \"Topic3\", \"Topic3\", \"Topic3\", \"Topic3\", \"Topic3\", \"Topic3\", \"Topic3\", \"Topic3\", \"Topic3\", \"Topic3\", \"Topic3\", \"Topic4\", \"Topic4\", \"Topic4\", \"Topic4\", \"Topic4\", \"Topic4\", \"Topic4\", \"Topic4\", \"Topic4\", \"Topic4\", \"Topic4\", \"Topic4\", \"Topic4\", \"Topic4\", \"Topic4\", \"Topic4\", \"Topic4\", \"Topic4\", \"Topic4\", \"Topic4\", \"Topic4\", \"Topic4\", \"Topic4\", \"Topic4\", \"Topic4\", \"Topic4\", \"Topic4\", \"Topic4\", \"Topic4\", \"Topic4\"], \"logprob\": [30.0, 29.0, 28.0, 27.0, 26.0, 25.0, 24.0, 23.0, 22.0, 21.0, 20.0, 19.0, 18.0, 17.0, 16.0, 15.0, 14.0, 13.0, 12.0, 11.0, 10.0, 9.0, 8.0, 7.0, 6.0, 5.0, 4.0, 3.0, 2.0, 1.0, -2.3523, -3.2119, -3.2561, -3.3509, -3.5123, -3.6365, -3.9436, -4.0378, -4.1418, -4.1418, -4.2579, -4.3214, -4.3214, -4.3893, -4.3893, -4.462, -4.462, -4.5405, -4.5405, -4.5405, -4.6257, -4.6257, -4.6257, -4.6257, -4.6257, -4.7188, -4.7188, -4.8214, -4.8214, -4.9359, -2.9214, -3.1252, -3.1954, -3.2451, -3.3813, -3.5055, -3.5055, -3.61, -4.0109, -4.2583, -4.2583, -4.2583, -4.2583, -4.2583, -4.3311, -4.5878, -4.5878, -4.6905, -4.6905, -4.6905, -4.8049, -4.8049, -4.8049, -4.8049, -4.9341, -4.9341, -4.9341, -4.9341, -5.0825, -5.0825, -3.4912, -3.5272, -3.6034, -3.7759, -3.8748, -4.0442, -4.0442, -4.0442, -4.1755, -4.2483, -4.3268, -4.4119, -4.4119, -4.4119, -4.4119, -4.505, -4.505, -4.6077, -4.6077, -4.6077, -4.7221, -4.7221, -4.7221, -4.7221, -4.7221, -4.8513, -4.8513, -4.8513, -4.8513, -4.8513, -2.9289, -3.2633, -3.3838, -3.5207, -3.6374, -3.8683, -3.8683, -3.8683, -4.1012, -4.1691, -4.1691, -4.2418, -4.2418, -4.3203, -4.3203, -4.3203, -4.4986, -4.4986, -4.6012, -4.6012, -4.7156, -4.7156, -4.7156, -4.8449, -4.8449, -4.8449, -4.8449, -4.9933, -4.9933, -4.9933], \"loglift\": [30.0, 29.0, 28.0, 27.0, 26.0, 25.0, 24.0, 23.0, 22.0, 21.0, 20.0, 19.0, 18.0, 17.0, 16.0, 15.0, 14.0, 13.0, 12.0, 11.0, 10.0, 9.0, 8.0, 7.0, 6.0, 5.0, 4.0, 3.0, 2.0, 1.0, 1.2936, 1.2836, 1.2828, 1.2811, 1.2776, 1.2746, 1.2653, 1.2618, 1.2576, 1.2576, 1.2524, 1.2493, 1.2493, 1.2458, 1.2458, 1.2418, 1.2418, 1.2371, 1.2371, 1.2371, 1.2316, 1.2316, 1.2316, 1.2316, 1.2316, 1.2251, 1.2251, 1.2172, 1.2172, 1.2075, 1.3687, 1.3656, 1.3643, 1.3634, 1.3607, 1.3578, 1.3578, 1.3551, 1.3419, 1.3308, 1.3308, 1.3308, 1.3308, 1.3308, 1.327, 1.3113, 1.3113, 1.3039, 1.3039, 1.3039, 1.2948, 1.2948, 1.2948, 1.2948, 1.2833, 1.2833, 1.2833, 1.2833, 1.2682, 1.2682, 1.4067, 1.4058, 1.4037, 1.3985, 1.3951, 1.3884, 1.3884, 1.3884, 1.3825, 1.3788, 1.3746, 1.3696, 1.3696, 1.3696, 1.3696, 1.3638, 1.3638, 1.3567, 1.3567, 1.3567, 1.3479, 1.3479, 1.3479, 1.3479, 1.3479, 1.3369, 1.3369, 1.3369, 1.3369, 1.3369, 1.4212, 1.4155, 1.413, 1.4097, 1.4065, 1.399, 1.399, 1.399, 1.3896, 1.3864, 1.3864, 1.3828, 1.3828, 1.3786, 1.3786, 1.3786, 1.3678, 1.3678, 1.3607, 1.3607, 1.352, 1.352, 1.352, 1.341, 1.341, 1.341, 1.341, 1.3266, 1.3266, 1.3266]}, \"token.table\": {\"Topic\": [4, 4, 3, 2, 4, 1, 3, 1, 2, 1, 3, 1, 1, 2, 2, 3, 2, 4, 1, 4, 2, 2, 2, 1, 1, 4, 1, 2, 3, 4, 4, 1, 2, 1, 4, 3, 2, 3, 1, 1, 2, 1, 4, 2, 3, 2, 3, 3, 4, 3, 4, 3, 4, 3, 4, 4, 3, 3, 2, 4, 2, 2, 4, 2, 1, 2, 1, 4, 4, 4, 2, 1, 3, 1, 3, 2, 3, 2, 2, 3, 3, 4, 2, 3, 4, 1, 4, 1, 2, 1, 2, 4, 4, 2, 3, 3, 1, 1, 1, 4, 1, 4, 3, 4, 2, 3, 1, 1, 2, 3, 3, 1, 4, 3, 1, 1, 2, 3, 3, 4], \"Freq\": [0.8825142035615428, 0.9392290334940143, 0.8845884195705251, 0.9720285375603486, 0.9148176177349184, 0.9866122784366366, 0.9503744995284413, 0.9530335786390913, 0.9720091488345876, 0.9237599545510349, 0.9060735638662635, 0.9767217034252555, 0.9530335786390806, 0.9445734367361942, 0.9107680479520516, 0.917001093257537, 0.9718023796349271, 0.9230508633769223, 0.8886645184031107, 0.9230508633769214, 0.8833371278824924, 0.9107680479520497, 0.9836068458719247, 0.9379341552610354, 0.9976332259792396, 0.9038353380970937, 0.9413326956386154, 0.9445734367361948, 0.8845884195705223, 0.961756261790847, 0.9148176177349222, 0.9082594956142847, 0.9107680479520553, 0.9530335786390786, 0.9900358689371588, 0.9736765762945073, 0.9445734367361934, 0.9641026970703129, 0.9541521973125212, 0.953033578639092, 0.9798277574683153, 0.9237599545510262, 0.9148176177349199, 0.9718023796346397, 0.8845884195705218, 0.9718023796349263, 0.9429134393813903, 0.9817523379727903, 0.9038353380970934, 0.9695502950701154, 0.9406409271900998, 0.966464571650656, 0.8409415545288742, 0.9420514480877892, 0.9038353380970932, 0.8825142035615369, 0.9429134393813875, 0.9695502950707872, 0.9716215217896008, 0.8409415545288702, 0.9544233866107331, 0.8673116770256005, 0.9853031462007121, 0.8673116770256046, 0.9917416119721293, 0.9107680479520491, 0.8458187804430385, 0.8825142035615393, 0.8409415545288739, 0.9858945264459043, 0.9798277574683636, 0.9778230684102674, 0.9641026970703146, 0.932729859263557, 0.941621049485626, 0.971802379634925, 0.8845884195705174, 0.9445734367361962, 0.8833371278824922, 0.9253499476387395, 0.9629015491825251, 0.939229033493666, 0.9590906728196448, 0.9170010932575281, 0.9542625681247261, 0.9950753417168858, 0.9639735570749203, 0.9778230684102666, 0.9720436181703033, 0.9778230684102608, 0.9718023796345743, 0.9392290334934387, 0.8825142035615446, 0.9716215217895986, 0.9695502950708017, 0.9817523379727906, 0.8886645184031181, 0.9701107887564818, 0.9082594956142863, 0.9777113515576131, 0.9832932388790975, 0.9396991889347901, 0.9429134393813913, 0.9396991889347899, 0.9941579533319315, 0.917001093257531, 0.9541521973125239, 0.9530335786390876, 0.9546137596931618, 0.9170010932575313, 0.88458841957052, 0.9730626137612527, 0.9406409271900988, 0.9170010932575283, 0.9379341552600169, 0.9327298592635603, 0.9716215217896008, 0.9817523379727896, 0.9817523379727903, 0.9617562617908493], \"Term\": [\"aa\", \"accept\", \"act\", \"action\", \"administr\", \"adopt\", \"agreement\", \"airport\", \"amend\", \"annual\", \"appropri\", \"approv\", \"approxim\", \"area\", \"arena\", \"assess\", \"author\", \"avenu\", \"build\", \"busi\", \"carri\", \"categor\", \"ceqa\", \"chang\", \"citi\", \"code\", \"committe\", \"commun\", \"compens\", \"concret\", \"consent\", \"construct\", \"conting\", \"contract\", \"council\", \"councilmemb\", \"covid\", \"day\", \"defer\", \"director\", \"district\", \"drop\", \"easement\", \"emerg\", \"enforc\", \"environ\", \"environment\", \"esparza\", \"event\", \"execut\", \"exempt\", \"file\", \"final\", \"fund\", \"gener\", \"guidelin\", \"homeless\", \"hous\", \"impact\", \"increas\", \"inform\", \"intergovernment\", \"item\", \"jose\", \"jos\\u00e9\", \"land\", \"local\", \"locat\", \"major\", \"manag\", \"march\", \"master\", \"maya\", \"mayor\", \"meet\", \"motion\", \"negoti\", \"new\", \"north\", \"open\", \"order\", \"ordin\", \"page\", \"peralez\", \"physic\", \"plan\", \"pp\", \"present\", \"project\", \"properti\", \"provid\", \"public\", \"raul\", \"real\", \"recommend\", \"referr\", \"regard\", \"relat\", \"renumber\", \"report\", \"resolut\", \"result\", \"rezon\", \"rule\", \"san\", \"sch\", \"second\", \"section\", \"servic\", \"special\", \"sponsor\", \"staff\", \"state\", \"strateg\", \"street\", \"support\", \"technolog\", \"unanim\", \"water\", \"zone\"]}, \"R\": 30, \"lambda.step\": 0.01, \"plot.opts\": {\"xlab\": \"PC1\", \"ylab\": \"PC2\"}, \"topic.order\": [4, 3, 2, 1]};\n",
       "\n",
       "function LDAvis_load_lib(url, callback){\n",
       "  var s = document.createElement('script');\n",
       "  s.src = url;\n",
       "  s.async = true;\n",
       "  s.onreadystatechange = s.onload = callback;\n",
       "  s.onerror = function(){console.warn(\"failed to load library \" + url);};\n",
       "  document.getElementsByTagName(\"head\")[0].appendChild(s);\n",
       "}\n",
       "\n",
       "if(typeof(LDAvis) !== \"undefined\"){\n",
       "   // already loaded: just create the visualization\n",
       "   !function(LDAvis){\n",
       "       new LDAvis(\"#\" + \"ldavis_el625521403382020400161497819045\", ldavis_el625521403382020400161497819045_data);\n",
       "   }(LDAvis);\n",
       "}else if(typeof define === \"function\" && define.amd){\n",
       "   // require.js is available: use it to load d3/LDAvis\n",
       "   require.config({paths: {d3: \"https://cdnjs.cloudflare.com/ajax/libs/d3/3.5.5/d3.min\"}});\n",
       "   require([\"d3\"], function(d3){\n",
       "      window.d3 = d3;\n",
       "      LDAvis_load_lib(\"https://cdn.rawgit.com/bmabey/pyLDAvis/files/ldavis.v1.0.0.js\", function(){\n",
       "        new LDAvis(\"#\" + \"ldavis_el625521403382020400161497819045\", ldavis_el625521403382020400161497819045_data);\n",
       "      });\n",
       "    });\n",
       "}else{\n",
       "    // require.js not available: dynamically load d3 & LDAvis\n",
       "    LDAvis_load_lib(\"https://cdnjs.cloudflare.com/ajax/libs/d3/3.5.5/d3.min.js\", function(){\n",
       "         LDAvis_load_lib(\"https://cdn.rawgit.com/bmabey/pyLDAvis/files/ldavis.v1.0.0.js\", function(){\n",
       "                 new LDAvis(\"#\" + \"ldavis_el625521403382020400161497819045\", ldavis_el625521403382020400161497819045_data);\n",
       "            })\n",
       "         });\n",
       "}\n",
       "</script>"
      ],
      "text/plain": [
       "PreparedData(topic_coordinates=              x         y  topics  cluster       Freq\n",
       "topic                                                \n",
       "3      0.296694  0.063924       1        1  27.228210\n",
       "2     -0.163504  0.242921       2        1  25.094740\n",
       "1     -0.061865 -0.119734       3        1  23.883806\n",
       "0     -0.071324 -0.187111       4        1  23.793245, topic_info=        Term       Freq      Total Category  logprob  loglift\n",
       "109     citi  86.000000  86.000000  Default  30.0000  30.0000\n",
       "574      san  45.000000  45.000000  Default  29.0000  29.0000\n",
       "342     item  42.000000  42.000000  Default  28.0000  28.0000\n",
       "505  project  37.000000  37.000000  Default  27.0000  27.0000\n",
       "96      ceqa  34.000000  34.000000  Default  26.0000  26.0000\n",
       "..       ...        ...        ...      ...      ...      ...\n",
       "520     raul   6.183903   6.798757   Topic4  -4.8449   1.3410\n",
       "0         aa   6.183903   6.798757   Topic4  -4.8449   1.3410\n",
       "322  increas   5.330858   5.945716   Topic4  -4.9933   1.3266\n",
       "255    final   5.330858   5.945716   Topic4  -4.9933   1.3266\n",
       "393    major   5.330858   5.945716   Topic4  -4.9933   1.3266\n",
       "\n",
       "[150 rows x 6 columns], token_table=      Topic      Freq       Term\n",
       "term                            \n",
       "0         4  0.882514         aa\n",
       "4         4  0.939229     accept\n",
       "8         3  0.884588        act\n",
       "9         2  0.972029     action\n",
       "14        4  0.914818  administr\n",
       "...     ...       ...        ...\n",
       "639       1  0.932730    support\n",
       "650       2  0.971622  technolog\n",
       "674       3  0.981752     unanim\n",
       "693       3  0.981752      water\n",
       "700       4  0.961756       zone\n",
       "\n",
       "[120 rows x 3 columns], R=30, lambda_step=0.01, plot_opts={'xlab': 'PC1', 'ylab': 'PC2'}, topic_order=[4, 3, 2, 1])"
      ]
     },
     "execution_count": 28,
     "metadata": {},
     "output_type": "execute_result"
    }
   ],
   "source": [
    "pyLDAvis.sklearn.prepare(lda_tfidf, word_matrix, tfidf_vectorizer)"
   ]
  },
  {
   "cell_type": "code",
   "execution_count": null,
   "metadata": {},
   "outputs": [],
   "source": []
  }
 ],
 "metadata": {
  "kernelspec": {
   "display_name": "Python [conda env:metis] *",
   "language": "python",
   "name": "conda-env-metis-py"
  },
  "language_info": {
   "codemirror_mode": {
    "name": "ipython",
    "version": 3
   },
   "file_extension": ".py",
   "mimetype": "text/x-python",
   "name": "python",
   "nbconvert_exporter": "python",
   "pygments_lexer": "ipython3",
   "version": "3.8.5"
  }
 },
 "nbformat": 4,
 "nbformat_minor": 4
}
