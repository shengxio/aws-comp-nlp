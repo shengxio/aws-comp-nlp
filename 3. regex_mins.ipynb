{
 "cells": [
  {
   "cell_type": "markdown",
   "metadata": {},
   "source": [
    "### 3.0 preload raw byte string content from pickle\n",
    "+ raw contains 45 meeting minutes from San Jose city concoil."
   ]
  },
  {
   "cell_type": "code",
   "execution_count": 1,
   "metadata": {},
   "outputs": [],
   "source": [
    "import pickle\n",
    "\n",
    "def load_obj(filename):\n",
    "    with open(filename, 'rb') as f:\n",
    "        return pickle.load(f)"
   ]
  },
  {
   "cell_type": "code",
   "execution_count": 2,
   "metadata": {},
   "outputs": [],
   "source": [
    "raw      = load_obj('./council_minutes_dict.pkl')\n",
    "articles = []\n",
    "for (key,article) in raw.items():\n",
    "    #article = byte_article.decode('ISO8859-1')\n",
    "    articles.append(article)"
   ]
  },
  {
   "cell_type": "markdown",
   "metadata": {},
   "source": [
    "### 3.1 search and separate content as per formal text pattern\n",
    "+ identify and separate individual main topic and the content between.\n",
    "+ identify sub topic within the content block.\n",
    "\n",
    "+ uses regex as main usage."
   ]
  },
  {
   "cell_type": "code",
   "execution_count": 3,
   "metadata": {},
   "outputs": [],
   "source": [
    "# import regex and identify patterns for each content of interests.\n",
    "import regex as re\n",
    "\n",
    "# room for improvement. host defined pattern to backend/user defined pattern\n",
    "# may subject to change between different pdf contents\n",
    "patterns = {'maintitle':re.compile(r'\\n{1}\\s?(\\d{0,2}[.]\\s*.*?)\\n'),\n",
    "           'subtitle':re.compile(r'\\s?(\\d?[.]\\d?\\s*.*)'),\n",
    "           'dollar':re.compile('([$]\\d+([,.]\\d+)*)'),\n",
    "           'item':re.compile(r'\\s(\\d+-\\d+\\s+.*)\\n'),\n",
    "           'section':re.compile(r'\\s((Sections?)\\s\\d+[.]\\d+[.]\\d+)'),\n",
    "           'date':re.compile(r'([ADFJMNOS]\\w* \\d{1,2},\\s?20\\d+)')}"
   ]
  },
  {
   "cell_type": "markdown",
   "metadata": {},
   "source": [
    "+ identifing recoganizable key words for main title recognition"
   ]
  },
  {
   "cell_type": "code",
   "execution_count": 4,
   "metadata": {},
   "outputs": [],
   "source": [
    "# \n",
    "\n",
    "mainTopicLS =['CEREMONIAL',\n",
    "              'CEREMONIALS',\n",
    "              'ITEMS',\n",
    "              'CONSENT',\n",
    "              'CALENDAR',\n",
    "              'STRATEGIC',\n",
    "              'SUPPORT',\n",
    "              'COMMUNITY',\n",
    "             'ECONOMIC',\n",
    "             'DEVELOPMENT',\n",
    "             'NEIGHBORHOOD',\n",
    "             'SERVICES',\n",
    "             'TRANSPORTATION',\n",
    "             'AVIATION',\n",
    "             'ENVIRONMENTAL',\n",
    "             'UTILITY',\n",
    "             'PUBLIC',\n",
    "             'SAFETY',\n",
    "             'REDEVELOPMENT',\n",
    "             'SUCCESSOR',\n",
    "             'AGENCY',\n",
    "             'LAND',\n",
    "             'USE']\n",
    "# The line below removes duplicates\n",
    "mainTopicLS = list(dict.fromkeys(mainTopicLS)) "
   ]
  },
  {
   "cell_type": "markdown",
   "metadata": {},
   "source": [
    "+ main method to turn a string into a dataframe with main and subtitle marked."
   ]
  },
  {
   "cell_type": "code",
   "execution_count": 5,
   "metadata": {},
   "outputs": [],
   "source": [
    "import pandas as pd\n",
    "import math\n",
    "\n",
    "def qcRework (BLOCKS,date,pickLS = [],articleID = 1):\n",
    "    Blocks = [[b,0,0,articleID,date] for b in BLOCKS]\n",
    "    Blocks_result = []\n",
    "    i = 0\n",
    "    j = 0\n",
    "\n",
    "    for b in Blocks:\n",
    "        word_ls = b[0].split(' ')\n",
    "        word_ls = [w for w in word_ls if w!=' ']\n",
    "        word_ls = [w for w in word_ls if w!='']\n",
    "        word_ls = [w for w in word_ls if w!='\\n']\n",
    "        try:\n",
    "            # check the first item in the list and see if it is decimal number\n",
    "            firstN = float(word_ls[0])\n",
    "            subID = round((firstN-i)*100)\n",
    "            # process, and realign the number\n",
    "            if subID % 10 == 0 and j % 10 != 9:\n",
    "                subID = round(subID/10)\n",
    "            else:\n",
    "                pass\n",
    "            \n",
    "            if math.floor(firstN)==i and subID == j+1:\n",
    "                j = subID\n",
    "            # print(word_ls[0],subID,j)\n",
    "        except:\n",
    "            pass\n",
    "        \n",
    "        if len(word_ls)<2:\n",
    "            b[1] = j\n",
    "            b[2] = i\n",
    "            Blocks_result.append(b)\n",
    "            continue\n",
    "        \n",
    "        if word_ls[-1] == word_ls[-1].upper() and word_ls[1] in pickLS:\n",
    "            i = int(re.match('^\\d+',word_ls[0]).group(0))\n",
    "            j = 0\n",
    "            b[2] = i\n",
    "            Blocks_result.append(b)\n",
    "            \n",
    "        else:\n",
    "            b[1] = j\n",
    "            b[2] = i\n",
    "            Blocks_result.append(b)\n",
    "            \n",
    "    df_blocks = pd.DataFrame(Blocks_result,columns = ['content','subID','mainID','artID','date'])\n",
    "    return df_blocks"
   ]
  },
  {
   "cell_type": "markdown",
   "metadata": {},
   "source": [
    "+ process all articles in the string list."
   ]
  },
  {
   "cell_type": "code",
   "execution_count": 6,
   "metadata": {},
   "outputs": [],
   "source": [
    "articles_in_blocks = []\n",
    "i = 1\n",
    "\n",
    "for a in articles:\n",
    "    #print(i)\n",
    "    BLOCKS = re.split(patterns['maintitle'],a)\n",
    "    articles_in_blocks.append(qcRework(BLOCKS,re.search(patterns['date'],a).group(0),mainTopicLS,i))\n",
    "    i+=1"
   ]
  },
  {
   "cell_type": "markdown",
   "metadata": {},
   "source": [
    "+ visual validation"
   ]
  },
  {
   "cell_type": "markdown",
   "metadata": {},
   "source": [
    "### 3.2 pack up all the subtitle content into one string.\n",
    "\n",
    "+ function to identify the all the subtitle content pack into one"
   ]
  },
  {
   "cell_type": "code",
   "execution_count": 7,
   "metadata": {},
   "outputs": [],
   "source": [
    "def df_pack(df_messy):\n",
    "    df_compact = pd.DataFrame(columns = df_messy.columns)\n",
    "    lastrow = None\n",
    "\n",
    "    for id,row in df_messy.iterrows():\n",
    "        if lastrow is None:\n",
    "            lastrow = row\n",
    "            continue\n",
    "        if (row['subID'] == lastrow['subID']) and row['mainID'] == lastrow['mainID'] and row['artID'] == lastrow['artID']:\n",
    "            lastrow['content'] += row['content']\n",
    "        else:\n",
    "            df_compact = df_compact.append(lastrow,ignore_index = True)\n",
    "            lastrow = row\n",
    "                  \n",
    "    df_compact = df_compact.append(lastrow,ignore_index = True)\n",
    "    \n",
    "    return df_compact"
   ]
  },
  {
   "cell_type": "markdown",
   "metadata": {},
   "source": [
    "+ process all the articles block list into dataframes."
   ]
  },
  {
   "cell_type": "code",
   "execution_count": 8,
   "metadata": {},
   "outputs": [],
   "source": [
    "df_articles = []\n",
    "\n",
    "for a in articles_in_blocks:\n",
    "    df_articles.append(df_pack(a))"
   ]
  },
  {
   "cell_type": "markdown",
   "metadata": {},
   "source": [
    "### 3.3 add logic columns for specific contents\n",
    "\n",
    "+ findPattern: find all the patterns in a string and return a logic value\n",
    "+ addColumn: add a logic column for a specific pattern recognition by using findPattern function"
   ]
  },
  {
   "cell_type": "code",
   "execution_count": 9,
   "metadata": {},
   "outputs": [],
   "source": [
    "def findPattern(s,pattern):\n",
    "    sub = re.findall(pattern,s)\n",
    "    #rint(sub)\n",
    "    return sub !=[]\n",
    "\n",
    "def addColumn(df,pattern,colname = None):\n",
    "    if colname is None:\n",
    "        colname = 'col' + str(len(df.columns))\n",
    "    \n",
    "    df[colname] = df['content'].apply(findPattern,args=[pattern])\n",
    "    return df      \n"
   ]
  },
  {
   "cell_type": "markdown",
   "metadata": {},
   "source": [
    "+ add hasDollar, hasItem and hasSection for all the artical dataframe"
   ]
  },
  {
   "cell_type": "code",
   "execution_count": 10,
   "metadata": {},
   "outputs": [],
   "source": [
    "for df in df_articles:\n",
    "    df = addColumn(df,patterns['dollar'],'hasDollar')\n",
    "    df = addColumn(df,patterns['item'],'hasItem')\n",
    "    df = addColumn(df,patterns['section'],'hasSection')\n"
   ]
  },
  {
   "cell_type": "markdown",
   "metadata": {},
   "source": [
    "+ visual validation."
   ]
  },
  {
   "cell_type": "markdown",
   "metadata": {},
   "source": [
    "### 3.4 join all dataset in one dataframe"
   ]
  },
  {
   "cell_type": "code",
   "execution_count": 11,
   "metadata": {},
   "outputs": [
    {
     "data": {
      "text/html": [
       "<div>\n",
       "<style scoped>\n",
       "    .dataframe tbody tr th:only-of-type {\n",
       "        vertical-align: middle;\n",
       "    }\n",
       "\n",
       "    .dataframe tbody tr th {\n",
       "        vertical-align: top;\n",
       "    }\n",
       "\n",
       "    .dataframe thead th {\n",
       "        text-align: right;\n",
       "    }\n",
       "</style>\n",
       "<table border=\"1\" class=\"dataframe\">\n",
       "  <thead>\n",
       "    <tr style=\"text-align: right;\">\n",
       "      <th></th>\n",
       "      <th>content</th>\n",
       "      <th>subID</th>\n",
       "      <th>mainID</th>\n",
       "      <th>artID</th>\n",
       "      <th>date</th>\n",
       "      <th>hasDollar</th>\n",
       "      <th>hasItem</th>\n",
       "      <th>hasSection</th>\n",
       "    </tr>\n",
       "  </thead>\n",
       "  <tbody>\n",
       "    <tr>\n",
       "      <th>0</th>\n",
       "      <td>\\n\\n\\n\\n\\n\\n\\n\\n\\n\\n\\n\\n\\n\\n\\n\\n\\n\\n\\n\\n\\n\\n\\n...</td>\n",
       "      <td>0</td>\n",
       "      <td>0</td>\n",
       "      <td>1</td>\n",
       "      <td>January 7,2020</td>\n",
       "      <td>False</td>\n",
       "      <td>True</td>\n",
       "      <td>False</td>\n",
       "    </tr>\n",
       "    <tr>\n",
       "      <th>1</th>\n",
       "      <td>1. CEREMONIAL ITEMSNone provided.\\n\\nCity of S...</td>\n",
       "      <td>0</td>\n",
       "      <td>1</td>\n",
       "      <td>1</td>\n",
       "      <td>January 7,2020</td>\n",
       "      <td>False</td>\n",
       "      <td>False</td>\n",
       "      <td>False</td>\n",
       "    </tr>\n",
       "    <tr>\n",
       "      <th>2</th>\n",
       "      <td>2. CONSENT CALENDAR\\nUpon motion by Councilmem...</td>\n",
       "      <td>0</td>\n",
       "      <td>2</td>\n",
       "      <td>1</td>\n",
       "      <td>January 7,2020</td>\n",
       "      <td>False</td>\n",
       "      <td>False</td>\n",
       "      <td>False</td>\n",
       "    </tr>\n",
       "    <tr>\n",
       "      <th>3</th>\n",
       "      <td>2.1 Approval of City Council Minutes.None prov...</td>\n",
       "      <td>1</td>\n",
       "      <td>2</td>\n",
       "      <td>1</td>\n",
       "      <td>January 7,2020</td>\n",
       "      <td>False</td>\n",
       "      <td>False</td>\n",
       "      <td>False</td>\n",
       "    </tr>\n",
       "    <tr>\n",
       "      <th>4</th>\n",
       "      <td>2.2 Final Adoption of Ordinances.20-056 Final ...</td>\n",
       "      <td>2</td>\n",
       "      <td>2</td>\n",
       "      <td>1</td>\n",
       "      <td>January 7,2020</td>\n",
       "      <td>False</td>\n",
       "      <td>False</td>\n",
       "      <td>True</td>\n",
       "    </tr>\n",
       "  </tbody>\n",
       "</table>\n",
       "</div>"
      ],
      "text/plain": [
       "                                             content subID mainID artID  \\\n",
       "0  \\n\\n\\n\\n\\n\\n\\n\\n\\n\\n\\n\\n\\n\\n\\n\\n\\n\\n\\n\\n\\n\\n\\n...     0      0     1   \n",
       "1  1. CEREMONIAL ITEMSNone provided.\\n\\nCity of S...     0      1     1   \n",
       "2  2. CONSENT CALENDAR\\nUpon motion by Councilmem...     0      2     1   \n",
       "3  2.1 Approval of City Council Minutes.None prov...     1      2     1   \n",
       "4  2.2 Final Adoption of Ordinances.20-056 Final ...     2      2     1   \n",
       "\n",
       "             date hasDollar hasItem hasSection  \n",
       "0  January 7,2020     False    True      False  \n",
       "1  January 7,2020     False   False      False  \n",
       "2  January 7,2020     False   False      False  \n",
       "3  January 7,2020     False   False      False  \n",
       "4  January 7,2020     False   False       True  "
      ]
     },
     "execution_count": 11,
     "metadata": {},
     "output_type": "execute_result"
    }
   ],
   "source": [
    "df_minutes =pd.DataFrame(columns= df_articles[0].columns)\n",
    "df_minutes = df_minutes.append(df_articles,ignore_index = True)\n",
    "df_minutes.head()"
   ]
  },
  {
   "cell_type": "markdown",
   "metadata": {},
   "source": [
    "### 3.5 save and read\n",
    "+ to and from feather file\n",
    "+ need pyarrow installed."
   ]
  },
  {
   "cell_type": "code",
   "execution_count": 12,
   "metadata": {},
   "outputs": [
    {
     "name": "stdout",
     "output_type": "stream",
     "text": [
      "0.15399813652038574\n"
     ]
    },
    {
     "data": {
      "text/html": [
       "<div>\n",
       "<style scoped>\n",
       "    .dataframe tbody tr th:only-of-type {\n",
       "        vertical-align: middle;\n",
       "    }\n",
       "\n",
       "    .dataframe tbody tr th {\n",
       "        vertical-align: top;\n",
       "    }\n",
       "\n",
       "    .dataframe thead th {\n",
       "        text-align: right;\n",
       "    }\n",
       "</style>\n",
       "<table border=\"1\" class=\"dataframe\">\n",
       "  <thead>\n",
       "    <tr style=\"text-align: right;\">\n",
       "      <th></th>\n",
       "      <th>content</th>\n",
       "      <th>subID</th>\n",
       "      <th>mainID</th>\n",
       "      <th>artID</th>\n",
       "      <th>date</th>\n",
       "      <th>hasDollar</th>\n",
       "      <th>hasItem</th>\n",
       "      <th>hasSection</th>\n",
       "    </tr>\n",
       "  </thead>\n",
       "  <tbody>\n",
       "    <tr>\n",
       "      <th>0</th>\n",
       "      <td>\\n\\n\\n\\n\\n\\n\\n\\n\\n\\n\\n\\n\\n\\n\\n\\n\\n\\n\\n\\n\\n\\n\\n...</td>\n",
       "      <td>0</td>\n",
       "      <td>0</td>\n",
       "      <td>1</td>\n",
       "      <td>January 7,2020</td>\n",
       "      <td>False</td>\n",
       "      <td>True</td>\n",
       "      <td>False</td>\n",
       "    </tr>\n",
       "    <tr>\n",
       "      <th>1</th>\n",
       "      <td>1. CEREMONIAL ITEMSNone provided.\\n\\nCity of S...</td>\n",
       "      <td>0</td>\n",
       "      <td>1</td>\n",
       "      <td>1</td>\n",
       "      <td>January 7,2020</td>\n",
       "      <td>False</td>\n",
       "      <td>False</td>\n",
       "      <td>False</td>\n",
       "    </tr>\n",
       "    <tr>\n",
       "      <th>2</th>\n",
       "      <td>2. CONSENT CALENDAR\\nUpon motion by Councilmem...</td>\n",
       "      <td>0</td>\n",
       "      <td>2</td>\n",
       "      <td>1</td>\n",
       "      <td>January 7,2020</td>\n",
       "      <td>False</td>\n",
       "      <td>False</td>\n",
       "      <td>False</td>\n",
       "    </tr>\n",
       "    <tr>\n",
       "      <th>3</th>\n",
       "      <td>2.1 Approval of City Council Minutes.None prov...</td>\n",
       "      <td>1</td>\n",
       "      <td>2</td>\n",
       "      <td>1</td>\n",
       "      <td>January 7,2020</td>\n",
       "      <td>False</td>\n",
       "      <td>False</td>\n",
       "      <td>False</td>\n",
       "    </tr>\n",
       "    <tr>\n",
       "      <th>4</th>\n",
       "      <td>2.2 Final Adoption of Ordinances.20-056 Final ...</td>\n",
       "      <td>2</td>\n",
       "      <td>2</td>\n",
       "      <td>1</td>\n",
       "      <td>January 7,2020</td>\n",
       "      <td>False</td>\n",
       "      <td>False</td>\n",
       "      <td>True</td>\n",
       "    </tr>\n",
       "  </tbody>\n",
       "</table>\n",
       "</div>"
      ],
      "text/plain": [
       "                                             content  subID  mainID  artID  \\\n",
       "0  \\n\\n\\n\\n\\n\\n\\n\\n\\n\\n\\n\\n\\n\\n\\n\\n\\n\\n\\n\\n\\n\\n\\n...      0       0      1   \n",
       "1  1. CEREMONIAL ITEMSNone provided.\\n\\nCity of S...      0       1      1   \n",
       "2  2. CONSENT CALENDAR\\nUpon motion by Councilmem...      0       2      1   \n",
       "3  2.1 Approval of City Council Minutes.None prov...      1       2      1   \n",
       "4  2.2 Final Adoption of Ordinances.20-056 Final ...      2       2      1   \n",
       "\n",
       "             date  hasDollar  hasItem  hasSection  \n",
       "0  January 7,2020      False     True       False  \n",
       "1  January 7,2020      False    False       False  \n",
       "2  January 7,2020      False    False       False  \n",
       "3  January 7,2020      False    False       False  \n",
       "4  January 7,2020      False    False        True  "
      ]
     },
     "execution_count": 12,
     "metadata": {},
     "output_type": "execute_result"
    }
   ],
   "source": [
    "import time\n",
    "\n",
    "filename = 'city_SanJose_Minutes'\n",
    "\n",
    "start = time.time()\n",
    "df_minutes.to_feather(filename+'.feather')\n",
    "df_read = pd.read_feather(filename+'.feather')\n",
    "print(time.time()-start)\n",
    "\n",
    "df_read.head()"
   ]
  },
  {
   "cell_type": "markdown",
   "metadata": {},
   "source": [
    "+ to and from csv file"
   ]
  },
  {
   "cell_type": "code",
   "execution_count": 13,
   "metadata": {},
   "outputs": [
    {
     "name": "stdout",
     "output_type": "stream",
     "text": [
      "0.14599919319152832\n"
     ]
    },
    {
     "data": {
      "text/html": [
       "<div>\n",
       "<style scoped>\n",
       "    .dataframe tbody tr th:only-of-type {\n",
       "        vertical-align: middle;\n",
       "    }\n",
       "\n",
       "    .dataframe tbody tr th {\n",
       "        vertical-align: top;\n",
       "    }\n",
       "\n",
       "    .dataframe thead th {\n",
       "        text-align: right;\n",
       "    }\n",
       "</style>\n",
       "<table border=\"1\" class=\"dataframe\">\n",
       "  <thead>\n",
       "    <tr style=\"text-align: right;\">\n",
       "      <th></th>\n",
       "      <th>Unnamed: 0</th>\n",
       "      <th>content</th>\n",
       "      <th>subID</th>\n",
       "      <th>mainID</th>\n",
       "      <th>artID</th>\n",
       "      <th>date</th>\n",
       "      <th>hasDollar</th>\n",
       "      <th>hasItem</th>\n",
       "      <th>hasSection</th>\n",
       "    </tr>\n",
       "  </thead>\n",
       "  <tbody>\n",
       "    <tr>\n",
       "      <th>0</th>\n",
       "      <td>0</td>\n",
       "      <td>\\n\\n\\n\\n\\n\\n\\n\\n\\n\\n\\n\\n\\n\\n\\n\\n\\n\\n\\n\\n\\n\\n\\n...</td>\n",
       "      <td>0</td>\n",
       "      <td>0</td>\n",
       "      <td>1</td>\n",
       "      <td>January 7,2020</td>\n",
       "      <td>False</td>\n",
       "      <td>True</td>\n",
       "      <td>False</td>\n",
       "    </tr>\n",
       "    <tr>\n",
       "      <th>1</th>\n",
       "      <td>1</td>\n",
       "      <td>1. CEREMONIAL ITEMSNone provided.\\n\\nCity of S...</td>\n",
       "      <td>0</td>\n",
       "      <td>1</td>\n",
       "      <td>1</td>\n",
       "      <td>January 7,2020</td>\n",
       "      <td>False</td>\n",
       "      <td>False</td>\n",
       "      <td>False</td>\n",
       "    </tr>\n",
       "    <tr>\n",
       "      <th>2</th>\n",
       "      <td>2</td>\n",
       "      <td>2. CONSENT CALENDAR\\nUpon motion by Councilmem...</td>\n",
       "      <td>0</td>\n",
       "      <td>2</td>\n",
       "      <td>1</td>\n",
       "      <td>January 7,2020</td>\n",
       "      <td>False</td>\n",
       "      <td>False</td>\n",
       "      <td>False</td>\n",
       "    </tr>\n",
       "    <tr>\n",
       "      <th>3</th>\n",
       "      <td>3</td>\n",
       "      <td>2.1 Approval of City Council Minutes.None prov...</td>\n",
       "      <td>1</td>\n",
       "      <td>2</td>\n",
       "      <td>1</td>\n",
       "      <td>January 7,2020</td>\n",
       "      <td>False</td>\n",
       "      <td>False</td>\n",
       "      <td>False</td>\n",
       "    </tr>\n",
       "    <tr>\n",
       "      <th>4</th>\n",
       "      <td>4</td>\n",
       "      <td>2.2 Final Adoption of Ordinances.20-056 Final ...</td>\n",
       "      <td>2</td>\n",
       "      <td>2</td>\n",
       "      <td>1</td>\n",
       "      <td>January 7,2020</td>\n",
       "      <td>False</td>\n",
       "      <td>False</td>\n",
       "      <td>True</td>\n",
       "    </tr>\n",
       "  </tbody>\n",
       "</table>\n",
       "</div>"
      ],
      "text/plain": [
       "   Unnamed: 0                                            content  subID  \\\n",
       "0           0  \\n\\n\\n\\n\\n\\n\\n\\n\\n\\n\\n\\n\\n\\n\\n\\n\\n\\n\\n\\n\\n\\n\\n...      0   \n",
       "1           1  1. CEREMONIAL ITEMSNone provided.\\n\\nCity of S...      0   \n",
       "2           2  2. CONSENT CALENDAR\\nUpon motion by Councilmem...      0   \n",
       "3           3  2.1 Approval of City Council Minutes.None prov...      1   \n",
       "4           4  2.2 Final Adoption of Ordinances.20-056 Final ...      2   \n",
       "\n",
       "   mainID  artID            date  hasDollar  hasItem  hasSection  \n",
       "0       0      1  January 7,2020      False     True       False  \n",
       "1       1      1  January 7,2020      False    False       False  \n",
       "2       2      1  January 7,2020      False    False       False  \n",
       "3       2      1  January 7,2020      False    False       False  \n",
       "4       2      1  January 7,2020      False    False        True  "
      ]
     },
     "execution_count": 13,
     "metadata": {},
     "output_type": "execute_result"
    }
   ],
   "source": [
    "start = time.time()\n",
    "df_minutes.to_csv(filename + '.csv')\n",
    "df_read = pd.read_csv(filename + '.csv')\n",
    "print(time.time()-start)\n",
    "\n",
    "df_read.head()"
   ]
  },
  {
   "cell_type": "markdown",
   "metadata": {},
   "source": [
    "### 3.6 save the dataframe into a sql database.\n",
    "\n",
    "+ connect to meetingSticker DB and initiate cursor."
   ]
  },
  {
   "cell_type": "code",
   "execution_count": 14,
   "metadata": {},
   "outputs": [],
   "source": [
    "import sqlite3\n",
    "\n",
    "con = sqlite3.connect('meetingSticker.db')\n",
    "cur = con.cursor()\n"
   ]
  },
  {
   "cell_type": "markdown",
   "metadata": {},
   "source": [
    "+ create table Minutes\n",
    "+ submit changes"
   ]
  },
  {
   "cell_type": "markdown",
   "metadata": {},
   "source": [
    "cur.execute('CREATE TABLE MINUTES(ID,content,subID,mainID,artID,hasDollar,hasItem,hasSection)')\n",
    "\n",
    "con.commit()"
   ]
  },
  {
   "cell_type": "markdown",
   "metadata": {},
   "source": [
    "+ overide MINUTES table with df_minutes in sql table."
   ]
  },
  {
   "cell_type": "code",
   "execution_count": 15,
   "metadata": {},
   "outputs": [],
   "source": [
    "df_minutes.to_sql('MINUTES',con,if_exists='replace',index=False)"
   ]
  },
  {
   "cell_type": "markdown",
   "metadata": {},
   "source": [
    "+ operation validation"
   ]
  },
  {
   "cell_type": "code",
   "execution_count": 16,
   "metadata": {},
   "outputs": [],
   "source": [
    "cur.execute('SELECT * FROM MINUTES')\n",
    "\n",
    "for row in cur.fetchall():\n",
    "    #print(row)\n",
    "    pass"
   ]
  },
  {
   "cell_type": "markdown",
   "metadata": {},
   "source": [
    "+ close database connection"
   ]
  },
  {
   "cell_type": "code",
   "execution_count": 17,
   "metadata": {},
   "outputs": [],
   "source": [
    "con.close()"
   ]
  }
 ],
 "metadata": {
  "kernelspec": {
   "display_name": "Python 3",
   "language": "python",
   "name": "python3"
  },
  "language_info": {
   "codemirror_mode": {
    "name": "ipython",
    "version": 3
   },
   "file_extension": ".py",
   "mimetype": "text/x-python",
   "name": "python",
   "nbconvert_exporter": "python",
   "pygments_lexer": "ipython3",
   "version": "3.8.8"
  }
 },
 "nbformat": 4,
 "nbformat_minor": 4
}
