{
 "cells": [
  {
   "cell_type": "markdown",
   "metadata": {},
   "source": [
    "### initiate amazon s3 connection"
   ]
  },
  {
   "cell_type": "code",
   "execution_count": null,
   "metadata": {},
   "outputs": [],
   "source": [
    "# Let's use Amazon S3\n",
    "\n",
    "import boto3\n",
    "import json\n",
    "import pandas as pd\n",
    "\n",
    "s3c = boto3.client('s3')\n",
    "s3r = boto3.resource('s3')"
   ]
  },
  {
   "cell_type": "markdown",
   "metadata": {},
   "source": [
    "### load all buckets from s3 and second bucket's objects"
   ]
  },
  {
   "cell_type": "code",
   "execution_count": null,
   "metadata": {},
   "outputs": [],
   "source": [
    "buckets = []\n",
    "\n",
    "# Print out bucket names\n",
    "for bucket in s3r.buckets.all():\n",
    "    buckets.append(bucket)"
   ]
  },
  {
   "cell_type": "code",
   "execution_count": null,
   "metadata": {},
   "outputs": [],
   "source": [
    "for i in buckets[1].objects.iterator():\n",
    "    pass\n",
    "    #print(i)"
   ]
  },
  {
   "cell_type": "code",
   "execution_count": null,
   "metadata": {},
   "outputs": [],
   "source": [
    "documents = s3c.list_objects(Bucket = buckets[1].name)['Contents']\n",
    "textract_c = boto3.client('textract')\n",
    "\n",
    "documents_ls = [d['Key'] for d in documents]\n",
    "#documents_ls"
   ]
  },
  {
   "cell_type": "markdown",
   "metadata": {},
   "source": [
    "### get responses and extract their contents from amazon textract"
   ]
  },
  {
   "cell_type": "code",
   "execution_count": null,
   "metadata": {},
   "outputs": [],
   "source": [
    "response_ls = []\n",
    "for d in documents_ls:\n",
    "    response_ls.append(textract_c.start_document_analysis(DocumentLocation={'S3Object':{'Bucket':buckets[1].name,'Name':d}},FeatureTypes = ['TABLES']))\n",
    "    \n",
    "jobId_ls = [r['JobId'] for r in response_ls]"
   ]
  },
  {
   "cell_type": "code",
   "execution_count": null,
   "metadata": {},
   "outputs": [],
   "source": [
    "result_ls = []\n",
    "\n",
    "for j in jobId_ls:\n",
    "    result_ls.append(textract_c.get_document_analysis(JobId=j))"
   ]
  },
  {
   "cell_type": "code",
   "execution_count": null,
   "metadata": {},
   "outputs": [],
   "source": [
    "jobStatus = [r['JobStatus'] for r in result_ls]\n",
    "jobStatus_df = pd.DataSeries(jobStatus)"
   ]
  },
  {
   "cell_type": "markdown",
   "metadata": {},
   "source": [
    "### Saving each raw text in result_ls to .json"
   ]
  },
  {
   "cell_type": "code",
   "execution_count": null,
   "metadata": {},
   "outputs": [],
   "source": [
    "file_head = 'city of san jose minutes_'\n",
    "file_surfix = '.json'\n",
    "i = 0\n",
    "\n",
    "for r in result_ls:\n",
    "    raw_txt,raw_ls = creatRaw(result_ls[i])\n",
    "    with open(file_head+str(i+1)+file_surfix,'w') as f:\n",
    "        json.dump(result_ls[i],f)\n",
    "        f.close()\n",
    "    i+=1\n",
    "    "
   ]
  },
  {
   "cell_type": "markdown",
   "metadata": {},
   "source": [
    "### create raw text and raw content list from textract string input."
   ]
  },
  {
   "cell_type": "code",
   "execution_count": null,
   "metadata": {},
   "outputs": [],
   "source": [
    "def creatRaw(result):\n",
    "\n",
    "    raw_ls=[]\n",
    "    raw_txt=''\n",
    "    for t in result['Blocks']:\n",
    "        try:\n",
    "            if t['Text'][:4]=='Page':\n",
    "                pass\n",
    "            else:\n",
    "                raw_ls.append( t['Text'])\n",
    "                raw_txt += t['Text']+' '\n",
    "        except:\n",
    "            pass\n",
    "\n",
    "    return raw_txt,raw_ls"
   ]
  },
  {
   "cell_type": "markdown",
   "metadata": {},
   "source": [
    "### load and create raw text file from .json file."
   ]
  },
  {
   "cell_type": "code",
   "execution_count": null,
   "metadata": {},
   "outputs": [],
   "source": [
    "import json\n",
    "\n",
    "with open('./raw/city of san jose minutes_19.json') as jsonFile:\n",
    "    data = json.load(jsonFile)\n",
    "    \n",
    "rawtxt, rawls = creatRaw(data)"
   ]
  }
 ],
 "metadata": {
  "kernelspec": {
   "display_name": "Python 3",
   "language": "python",
   "name": "python3"
  },
  "language_info": {
   "codemirror_mode": {
    "name": "ipython",
    "version": 3
   },
   "file_extension": ".py",
   "mimetype": "text/x-python",
   "name": "python",
   "nbconvert_exporter": "python",
   "pygments_lexer": "ipython3",
   "version": "3.8.8"
  }
 },
 "nbformat": 4,
 "nbformat_minor": 4
}
